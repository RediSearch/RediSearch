{
 "cells": [
  {
   "cell_type": "code",
   "execution_count": 118,
   "metadata": {},
   "outputs": [],
   "source": [
    "import os\n",
    "import time\n",
    "import timeit\n",
    "import redis\n",
    "from tqdm import tqdm\n",
    "from faker import Faker"
   ]
  },
  {
   "cell_type": "code",
   "execution_count": 119,
   "metadata": {},
   "outputs": [],
   "source": [
    "master_port = 6379\n",
    "branch_port = 6378"
   ]
  },
  {
   "cell_type": "code",
   "execution_count": 120,
   "metadata": {},
   "outputs": [
    {
     "name": "stdout",
     "output_type": "stream",
     "text": [
      "233280:C 09 Apr 2025 15:59:46.433 # WARNING Memory overcommit must be enabled! Without it, a background save or replication may fail under low memory condition. Being disabled, it can also cause failures without low memory condition, see https://github.com/jemalloc/jemalloc/issues/1328. To fix this issue add 'vm.overcommit_memory = 1' to /etc/sysctl.conf and then reboot or run the command 'sysctl vm.overcommit_memory=1' for this to take effect.\n",
      "233280:C 09 Apr 2025 15:59:46.433 * oO0OoO0OoO0Oo Redis is starting oO0OoO0OoO0Oo\n",
      "233280:C 09 Apr 2025 15:59:46.433 * Redis version=255.255.255, bits=64, commit=3cdb8c60, modified=0, pid=233280, just started\n",
      "233280:C 09 Apr 2025 15:59:46.433 * Configuration loaded\n",
      "233280:M 09 Apr 2025 15:59:46.433 * monotonic clock: POSIX clock_gettime\n",
      "233280:M 09 Apr 2025 15:59:46.434 * Running mode=standalone, port=6379.\n",
      "233280:M 09 Apr 2025 15:59:46.436 * <search> Redis version found by RedisSearch : 255.255.255 - oss\n",
      "233280:M 09 Apr 2025 15:59:46.436 * <search> RediSearch version 99.99.99 (Git=master-7bdc98990)\n",
      "233280:M 09 Apr 2025 15:59:46.436 * <search> Low level api version 1 initialized successfully\n",
      "233280:M 09 Apr 2025 15:59:46.436 * <search> gc: ON, prefix min length: 2, min word length to stem: 4, prefix max expansions: 200, query timeout (ms): 500, timeout policy: fail, cursor read size: 1000, cursor max idle (ms): 300000, max doctable size: 1000000, max number of search results:  1000000, \n",
      "233280:M 09 Apr 2025 15:59:46.436 * <search> Initialized thread pools!\n",
      "233280:M 09 Apr 2025 15:59:46.436 * <search> Disabled workers threadpool of size 0\n",
      "233280:M 09 Apr 2025 15:59:46.436 * <search> Subscribe to config changes\n",
      "233280:M 09 Apr 2025 15:59:46.436 * <search> Enabled role change notification\n",
      "233280:M 09 Apr 2025 15:59:46.436 * <search> Cluster configuration: AUTO partitions, type: 0, coordinator timeout: 0ms\n",
      "233280:M 09 Apr 2025 15:59:46.436 * <search> Register write commands\n",
      "233280:M 09 Apr 2025 15:59:46.436 * Module 'search' loaded from /home/ubuntu/code/RediSearchClean/bin/linux-x64-release/search-community/redisearch.so\n",
      "233280:M 09 Apr 2025 15:59:46.436 * Server initialized\n",
      "233280:M 09 Apr 2025 15:59:46.436 * Ready to accept connections tcp\n",
      "233280:M 09 Apr 2025 15:59:51.440 * DB saved on disk\n"
     ]
    },
    {
     "data": {
      "text/plain": [
       "True"
      ]
     },
     "execution_count": 120,
     "metadata": {},
     "output_type": "execute_result"
    }
   ],
   "source": [
    "prefix = \"/home/ubuntu/code/\"\n",
    "workdir = \"RediSearchClean\"  # Master build\n",
    "\n",
    "# Remove dump file if it exists\n",
    "if os.path.exists(f\"{os.getcwd()}/dump.rdb\"):\n",
    "    os.remove(f\"{os.getcwd()}/dump.rdb\")\n",
    "\n",
    "# Start Redis server with master build\n",
    "artifact = f\"{prefix}{workdir}/bin/linux-x64-release/search-community/redisearch.so\"\n",
    "os.system(f\"redis-server --loadmodule {artifact} --port {master_port}&\")\n",
    "time.sleep(5)  # Give Redis some time to start up\n",
    "\n",
    "# Load data into Redis\n",
    "master_redis_client = redis.Redis(host='localhost', port=master_port)\n",
    "master_redis_client.execute_command(\"FLUSHALL\")"
   ]
  },
  {
   "cell_type": "code",
   "execution_count": 121,
   "metadata": {},
   "outputs": [
    {
     "name": "stdout",
     "output_type": "stream",
     "text": [
      "233300:C 09 Apr 2025 15:59:52.381 # WARNING Memory overcommit must be enabled! Without it, a background save or replication may fail under low memory condition. Being disabled, it can also cause failures without low memory condition, see https://github.com/jemalloc/jemalloc/issues/1328. To fix this issue add 'vm.overcommit_memory = 1' to /etc/sysctl.conf and then reboot or run the command 'sysctl vm.overcommit_memory=1' for this to take effect.\n",
      "233300:C 09 Apr 2025 15:59:52.381 * oO0OoO0OoO0Oo Redis is starting oO0OoO0OoO0Oo\n",
      "233300:C 09 Apr 2025 15:59:52.381 * Redis version=255.255.255, bits=64, commit=3cdb8c60, modified=0, pid=233300, just started\n",
      "233300:C 09 Apr 2025 15:59:52.381 * Configuration loaded\n",
      "233300:M 09 Apr 2025 15:59:52.381 * monotonic clock: POSIX clock_gettime\n",
      "233300:M 09 Apr 2025 15:59:52.382 * Running mode=standalone, port=6378.\n",
      "233300:M 09 Apr 2025 15:59:52.383 * <search> Redis version found by RedisSearch : 255.255.255 - oss\n",
      "233300:M 09 Apr 2025 15:59:52.383 * <search> RediSearch version 99.99.99 (Git=ivaknin-depleting_result_processor_benchmark-dde069214)\n",
      "233300:M 09 Apr 2025 15:59:52.383 * <search> Low level api version 1 initialized successfully\n",
      "233300:M 09 Apr 2025 15:59:52.383 * <search> gc: ON, prefix min length: 2, min word length to stem: 4, prefix max expansions: 200, query timeout (ms): 500, timeout policy: fail, cursor read size: 1000, cursor max idle (ms): 300000, max doctable size: 1000000, max number of search results:  1000000, \n",
      "233300:M 09 Apr 2025 15:59:52.384 * <search> Initialized thread pools!\n",
      "233300:M 09 Apr 2025 15:59:52.384 * <search> Disabled workers threadpool of size 0\n",
      "233300:M 09 Apr 2025 15:59:52.384 * <search> Subscribe to config changes\n",
      "233300:M 09 Apr 2025 15:59:52.384 * <search> Enabled role change notification\n",
      "233300:M 09 Apr 2025 15:59:52.384 * <search> Cluster configuration: AUTO partitions, type: 0, coordinator timeout: 0ms\n",
      "233300:M 09 Apr 2025 15:59:52.384 * <search> Register write commands\n",
      "233300:M 09 Apr 2025 15:59:52.384 * Module 'search' loaded from /home/ubuntu/code/RediSearch/bin/linux-x64-release/search-community/redisearch.so\n",
      "233300:M 09 Apr 2025 15:59:52.384 * Server initialized\n",
      "233300:M 09 Apr 2025 15:59:52.384 * Ready to accept connections tcp\n",
      "233300:M 09 Apr 2025 15:59:57.389 * DB saved on disk\n"
     ]
    },
    {
     "data": {
      "text/plain": [
       "True"
      ]
     },
     "execution_count": 121,
     "metadata": {},
     "output_type": "execute_result"
    }
   ],
   "source": [
    "prefix = \"/home/ubuntu/code/\"\n",
    "workdir = \"RediSearch\"  # branch build\n",
    "\n",
    "# Remove dump file if it exists\n",
    "if os.path.exists(f\"{os.getcwd()}/dump.rdb\"):\n",
    "    os.remove(f\"{os.getcwd()}/dump.rdb\")\n",
    "\n",
    "# Start Redis server with master build\n",
    "artifact = f\"{prefix}{workdir}/bin/linux-x64-release/search-community/redisearch.so\"\n",
    "os.system(f\"redis-server --loadmodule {artifact} --port {branch_port} &\")\n",
    "time.sleep(5)  # Give Redis some time to start up\n",
    "\n",
    "# Load data into Redis\n",
    "branch_redis_client = redis.Redis(host='localhost', port=branch_port)\n",
    "branch_redis_client.execute_command(\"FLUSHALL\")"
   ]
  },
  {
   "cell_type": "code",
   "execution_count": 123,
   "metadata": {},
   "outputs": [],
   "source": [
    "clients = [branch_redis_client, master_redis_client]"
   ]
  },
  {
   "cell_type": "code",
   "execution_count": 146,
   "metadata": {},
   "outputs": [
    {
     "name": "stdout",
     "output_type": "stream",
     "text": [
      "Created search index: idx\n",
      "Created search index: idx\n"
     ]
    }
   ],
   "source": [
    "\n",
    "# Create RediSearch index - updated to reflect that CID is used in doc name, not as a field\n",
    "index_cmd = f\"\"\"\n",
    "FT.CREATE idx ON HASH PREFIX 1 doc:\n",
    "SCHEMA\n",
    "    t TEXT\n",
    "\"\"\"\n",
    "for client in clients:\n",
    "    client.execute_command(index_cmd)\n",
    "    print(f\"Created search index: idx\")"
   ]
  },
  {
   "cell_type": "code",
   "execution_count": 125,
   "metadata": {},
   "outputs": [],
   "source": [
    "def populate_dbs(num_docs, clients, offset):\n",
    "    fake = Faker()\n",
    "    pipes = [c.pipeline() for c in clients]\n",
    "    for i in tqdm(range(num_docs)):\n",
    "        for pipe in pipes:\n",
    "            text = fake.sentence().encode(\"utf-8\")\n",
    "            pipe.hset(f\"doc:{i+offset}\", mapping={'t'.encode(\"utf-8\"): text})\n",
    "            if (i + 1) % 10000 == 0:  # Execute pipeline every 1000 commands\n",
    "                pipe.execute()\n",
    "        for pipe in pipes:\n",
    "            pipe.execute()"
   ]
  },
  {
   "cell_type": "markdown",
   "metadata": {},
   "source": [
    "Sanity Check: should see Max collector result processor in the branch db"
   ]
  },
  {
   "cell_type": "code",
   "execution_count": null,
   "metadata": {},
   "outputs": [
    {
     "name": "stdout",
     "output_type": "stream",
     "text": [
      "230503:M 09 Apr 2025 14:49:09.546 # <search> count in the end of the loop is 665856\n",
      "230503:M 09 Apr 2025 14:49:09.850 # <search> rp_max->index in EOF of rpMax_Yield is 665856\n"
     ]
    },
    {
     "data": {
      "text/plain": [
       "[[665856],\n",
       " [b'Shards',\n",
       "  [[b'Total profile time',\n",
       "    b'916',\n",
       "    b'Parsing time',\n",
       "    b'0',\n",
       "    b'Pipeline creation time',\n",
       "    b'0',\n",
       "    b'Total GIL time',\n",
       "    b'916.81365',\n",
       "    b'Warning',\n",
       "    b'None',\n",
       "    b'Iterators profile',\n",
       "    [b'Type', b'WILDCARD', b'Time', b'133', b'Counter', 665856],\n",
       "    b'Result processors profile',\n",
       "    [[b'Type', b'Index', b'Time', b'425', b'Counter', 665856],\n",
       "     [b'Type', b'Max collector', b'Time', b'322', b'Counter', 665856]]]],\n",
       "  b'Coordinator',\n",
       "  []]]"
      ]
     },
     "execution_count": 58,
     "metadata": {},
     "output_type": "execute_result"
    }
   ],
   "source": [
    "# debug\n",
    "branch_redis_client.execute_command('ft.profile idx aggregate query * TIMEOUT 0 ')"
   ]
  },
  {
   "cell_type": "code",
   "execution_count": null,
   "metadata": {},
   "outputs": [
    {
     "data": {
      "text/plain": [
       "[[665857],\n",
       " [b'Shards',\n",
       "  [[b'Total profile time',\n",
       "    b'576',\n",
       "    b'Parsing time',\n",
       "    b'0',\n",
       "    b'Pipeline creation time',\n",
       "    b'0',\n",
       "    b'Total GIL time',\n",
       "    b'576.506575',\n",
       "    b'Warning',\n",
       "    b'None',\n",
       "    b'Iterators profile',\n",
       "    [b'Type', b'WILDCARD', b'Time', b'134', b'Counter', 665857],\n",
       "    b'Result processors profile',\n",
       "    [[b'Type', b'Index', b'Time', b'432', b'Counter', 665857],\n",
       "     [b'Type', b'Counter', b'Time', b'144', b'Counter', 1]]]],\n",
       "  b'Coordinator',\n",
       "  []]]"
      ]
     },
     "execution_count": 59,
     "metadata": {},
     "output_type": "execute_result"
    }
   ],
   "source": [
    "#debug\n",
    "master_redis_client.execute_command('ft.profile idx aggregate query * TIMEOUT 0 LIMIT 0 0')"
   ]
  },
  {
   "cell_type": "code",
   "execution_count": null,
   "metadata": {},
   "outputs": [
    {
     "name": "stderr",
     "output_type": "stream",
     "text": [
      "  4%|▎         | 10950/300000 [00:02<01:15, 3828.26it/s]"
     ]
    },
    {
     "name": "stdout",
     "output_type": "stream",
     "text": [
      "232714:M 09 Apr 2025 15:00:29.977 * 10000 changes in 60 seconds. Saving...\n",
      "232714:M 09 Apr 2025 15:00:29.978 * Background saving started by pid 232740\n",
      "232740:C 09 Apr 2025 15:00:29.993 * DB saved on disk\n",
      "232740:C 09 Apr 2025 15:00:29.994 * Fork CoW for RDB: current 2 MB, peak 2 MB, average 1 MB\n",
      "232714:M 09 Apr 2025 15:00:30.078 * Background saving terminated with success\n",
      "232724:M 09 Apr 2025 15:00:30.078 * 10000 changes in 60 seconds. Saving...\n",
      "232724:M 09 Apr 2025 15:00:30.079 * Background saving started by pid 232741\n",
      "232741:C 09 Apr 2025 15:00:30.094 * DB saved on disk\n",
      "232741:C 09 Apr 2025 15:00:30.094 * Fork CoW for RDB: current 2 MB, peak 2 MB, average 1 MB\n"
     ]
    },
    {
     "name": "stderr",
     "output_type": "stream",
     "text": [
      "  4%|▍         | 11721/300000 [00:03<01:17, 3730.62it/s]"
     ]
    },
    {
     "name": "stdout",
     "output_type": "stream",
     "text": [
      "232724:M 09 Apr 2025 15:00:30.179 * Background saving terminated with success\n"
     ]
    },
    {
     "name": "stderr",
     "output_type": "stream",
     "text": [
      " 85%|████████▌ | 255006/300000 [01:03<00:13, 3382.78it/s]"
     ]
    },
    {
     "name": "stdout",
     "output_type": "stream",
     "text": [
      "232714:M 09 Apr 2025 15:01:31.040 * 10000 changes in 60 seconds. Saving...\n",
      "232714:M 09 Apr 2025 15:01:31.042 * Background saving started by pid 232779\n",
      "232724:M 09 Apr 2025 15:01:31.043 * 10000 changes in 60 seconds. Saving...\n",
      "232724:M 09 Apr 2025 15:01:31.045 * Background saving started by pid 232780\n"
     ]
    },
    {
     "name": "stderr",
     "output_type": "stream",
     "text": [
      " 86%|████████▌ | 256563/300000 [01:04<00:11, 3886.20it/s]"
     ]
    },
    {
     "name": "stdout",
     "output_type": "stream",
     "text": [
      "232779:C 09 Apr 2025 15:01:31.378 * DB saved on disk\n",
      "232779:C 09 Apr 2025 15:01:31.380 * Fork CoW for RDB: current 7 MB, peak 7 MB, average 4 MB\n",
      "232780:C 09 Apr 2025 15:01:31.381 * DB saved on disk\n",
      "232780:C 09 Apr 2025 15:01:31.383 * Fork CoW for RDB: current 7 MB, peak 7 MB, average 4 MB\n",
      "232714:M 09 Apr 2025 15:01:31.444 * Background saving terminated with success\n",
      "232724:M 09 Apr 2025 15:01:31.447 * Background saving terminated with success\n"
     ]
    },
    {
     "name": "stderr",
     "output_type": "stream",
     "text": [
      "100%|██████████| 300000/300000 [01:16<00:00, 3929.36it/s]\n"
     ]
    },
    {
     "name": "stdout",
     "output_type": "stream",
     "text": [
      "232724:M 09 Apr 2025 15:01:43.527 # <search> count in the end of the loop is 300000\n",
      "232724:M 09 Apr 2025 15:01:43.542 # <search> rp_max->index in EOF of rpMax_Yield is 300000\n",
      "{'branch': {300000: 0.0377202300587669},\n",
      " 'master': {300000: 0.021290407981723547}}\n"
     ]
    },
    {
     "name": "stderr",
     "output_type": "stream",
     "text": [
      " 63%|██████▎   | 189490/300000 [00:48<00:36, 3035.50it/s]"
     ]
    },
    {
     "name": "stdout",
     "output_type": "stream",
     "text": [
      "232714:M 09 Apr 2025 15:02:32.032 * 10000 changes in 60 seconds. Saving...\n",
      "232714:M 09 Apr 2025 15:02:32.036 * Background saving started by pid 232783\n",
      "232724:M 09 Apr 2025 15:02:32.078 * 10000 changes in 60 seconds. Saving...\n",
      "232724:M 09 Apr 2025 15:02:32.083 * Background saving started by pid 232784\n"
     ]
    },
    {
     "name": "stderr",
     "output_type": "stream",
     "text": [
      " 64%|██████▍   | 191556/300000 [00:49<00:30, 3531.15it/s]"
     ]
    },
    {
     "name": "stdout",
     "output_type": "stream",
     "text": [
      "232783:C 09 Apr 2025 15:02:32.664 * DB saved on disk\n",
      "232783:C 09 Apr 2025 15:02:32.668 * Fork CoW for RDB: current 8 MB, peak 8 MB, average 4 MB\n",
      "232784:C 09 Apr 2025 15:02:32.714 * DB saved on disk\n",
      "232784:C 09 Apr 2025 15:02:32.718 * Fork CoW for RDB: current 8 MB, peak 8 MB, average 4 MB\n",
      "232714:M 09 Apr 2025 15:02:32.739 * Background saving terminated with success\n",
      "232724:M 09 Apr 2025 15:02:32.786 * Background saving terminated with success\n"
     ]
    },
    {
     "name": "stderr",
     "output_type": "stream",
     "text": [
      "100%|██████████| 300000/300000 [01:18<00:00, 3809.46it/s]\n"
     ]
    },
    {
     "name": "stdout",
     "output_type": "stream",
     "text": [
      "232724:M 09 Apr 2025 15:03:02.367 # <search> count in the end of the loop is 600000\n",
      "232724:M 09 Apr 2025 15:03:02.396 # <search> rp_max->index in EOF of rpMax_Yield is 600000\n",
      "{'branch': {300000: 0.0377202300587669, 600000: 0.07759436697233468},\n",
      " 'master': {300000: 0.021290407981723547, 600000: 0.0453962089959532}}\n"
     ]
    },
    {
     "name": "stderr",
     "output_type": "stream",
     "text": [
      " 38%|███▊      | 115359/300000 [00:30<00:54, 3404.02it/s]"
     ]
    },
    {
     "name": "stdout",
     "output_type": "stream",
     "text": [
      "232714:M 09 Apr 2025 15:03:33.071 * 10000 changes in 60 seconds. Saving...\n",
      "232724:M 09 Apr 2025 15:03:33.075 * 10000 changes in 60 seconds. Saving...\n",
      "232714:M 09 Apr 2025 15:03:33.078 * Background saving started by pid 232788\n",
      "232724:M 09 Apr 2025 15:03:33.084 * Background saving started by pid 232789\n"
     ]
    },
    {
     "name": "stderr",
     "output_type": "stream",
     "text": [
      " 40%|███▉      | 118526/300000 [00:31<00:51, 3536.34it/s]"
     ]
    },
    {
     "name": "stdout",
     "output_type": "stream",
     "text": [
      "232788:C 09 Apr 2025 15:03:34.023 * DB saved on disk\n",
      "232788:C 09 Apr 2025 15:03:34.028 * Fork CoW for RDB: current 12 MB, peak 12 MB, average 6 MB\n",
      "232789:C 09 Apr 2025 15:03:34.045 * DB saved on disk\n",
      "232789:C 09 Apr 2025 15:03:34.052 * Fork CoW for RDB: current 12 MB, peak 12 MB, average 6 MB\n",
      "232714:M 09 Apr 2025 15:03:34.082 * Background saving terminated with success\n",
      "232724:M 09 Apr 2025 15:03:34.088 * Background saving terminated with success\n"
     ]
    },
    {
     "name": "stderr",
     "output_type": "stream",
     "text": [
      "100%|██████████| 300000/300000 [01:20<00:00, 3738.65it/s]\n"
     ]
    },
    {
     "name": "stdout",
     "output_type": "stream",
     "text": [
      "232724:M 09 Apr 2025 15:04:22.756 # <search> count in the end of the loop is 900000\n",
      "232724:M 09 Apr 2025 15:04:22.797 # <search> rp_max->index in EOF of rpMax_Yield is 900000\n",
      "{'branch': {300000: 0.0377202300587669,\n",
      "            600000: 0.07759436697233468,\n",
      "            900000: 0.11062348599079996},\n",
      " 'master': {300000: 0.021290407981723547,\n",
      "            600000: 0.0453962089959532,\n",
      "            900000: 0.06466361007187515}}\n"
     ]
    },
    {
     "name": "stderr",
     "output_type": "stream",
     "text": [
      " 16%|█▌        | 46593/300000 [00:12<01:24, 2991.99it/s]"
     ]
    },
    {
     "name": "stdout",
     "output_type": "stream",
     "text": [
      "232724:M 09 Apr 2025 15:04:35.033 * 10000 changes in 60 seconds. Saving...\n",
      "232724:M 09 Apr 2025 15:04:35.044 * Background saving started by pid 232790\n",
      "232714:M 09 Apr 2025 15:04:35.096 * 10000 changes in 60 seconds. Saving...\n",
      "232714:M 09 Apr 2025 15:04:35.105 * Background saving started by pid 232791\n"
     ]
    },
    {
     "name": "stderr",
     "output_type": "stream",
     "text": [
      " 17%|█▋        | 50719/300000 [00:13<01:01, 4040.58it/s]"
     ]
    },
    {
     "name": "stdout",
     "output_type": "stream",
     "text": [
      "232790:C 09 Apr 2025 15:04:36.333 * DB saved on disk\n",
      "232790:C 09 Apr 2025 15:04:36.342 * Fork CoW for RDB: current 14 MB, peak 14 MB, average 9 MB\n",
      "232791:C 09 Apr 2025 15:04:36.377 * DB saved on disk\n",
      "232791:C 09 Apr 2025 15:04:36.385 * Fork CoW for RDB: current 14 MB, peak 14 MB, average 9 MB\n",
      "232714:M 09 Apr 2025 15:04:36.410 * Background saving terminated with success\n",
      "232724:M 09 Apr 2025 15:04:36.450 * Background saving terminated with success\n"
     ]
    },
    {
     "name": "stderr",
     "output_type": "stream",
     "text": [
      " 92%|█████████▏| 276269/300000 [01:14<00:07, 3165.95it/s]"
     ]
    },
    {
     "name": "stdout",
     "output_type": "stream",
     "text": [
      "232714:M 09 Apr 2025 15:05:37.033 * 10000 changes in 60 seconds. Saving...\n",
      "232714:M 09 Apr 2025 15:05:37.044 * Background saving started by pid 232793\n",
      "232724:M 09 Apr 2025 15:05:37.087 * 10000 changes in 60 seconds. Saving...\n",
      "232724:M 09 Apr 2025 15:05:37.100 * Background saving started by pid 232794\n"
     ]
    },
    {
     "name": "stderr",
     "output_type": "stream",
     "text": [
      " 94%|█████████▎| 280912/300000 [01:15<00:05, 3591.62it/s]"
     ]
    },
    {
     "name": "stdout",
     "output_type": "stream",
     "text": [
      "232793:C 09 Apr 2025 15:05:38.628 * DB saved on disk\n",
      "232793:C 09 Apr 2025 15:05:38.637 * Fork CoW for RDB: current 18 MB, peak 18 MB, average 12 MB\n",
      "232714:M 09 Apr 2025 15:05:38.651 * Background saving terminated with success\n",
      "232794:C 09 Apr 2025 15:05:38.706 * DB saved on disk\n",
      "232794:C 09 Apr 2025 15:05:38.717 * Fork CoW for RDB: current 19 MB, peak 19 MB, average 12 MB\n",
      "232724:M 09 Apr 2025 15:05:38.807 * Background saving terminated with success\n"
     ]
    },
    {
     "name": "stderr",
     "output_type": "stream",
     "text": [
      "100%|██████████| 300000/300000 [01:20<00:00, 3715.08it/s]\n"
     ]
    },
    {
     "name": "stdout",
     "output_type": "stream",
     "text": [
      "232724:M 09 Apr 2025 15:05:43.726 # <search> count in the end of the loop is 1200000\n",
      "232724:M 09 Apr 2025 15:05:43.787 # <search> rp_max->index in EOF of rpMax_Yield is 1200000\n",
      "{'branch': {300000: 0.0377202300587669,\n",
      "            600000: 0.07759436697233468,\n",
      "            900000: 0.11062348599079996,\n",
      "            1200000: 0.16955550701823086},\n",
      " 'master': {300000: 0.021290407981723547,\n",
      "            600000: 0.0453962089959532,\n",
      "            900000: 0.06466361007187515,\n",
      "            1200000: 0.09302436897996813}}\n"
     ]
    },
    {
     "name": "stderr",
     "output_type": "stream",
     "text": [
      " 69%|██████▉   | 208106/300000 [00:55<00:29, 3152.50it/s]"
     ]
    },
    {
     "name": "stdout",
     "output_type": "stream",
     "text": [
      "232714:M 09 Apr 2025 15:06:39.012 * 10000 changes in 60 seconds. Saving...\n",
      "232724:M 09 Apr 2025 15:06:39.015 * 10000 changes in 60 seconds. Saving...\n",
      "232714:M 09 Apr 2025 15:06:39.026 * Background saving started by pid 232799\n",
      "232724:M 09 Apr 2025 15:06:39.033 * Background saving started by pid 232800\n"
     ]
    },
    {
     "name": "stderr",
     "output_type": "stream",
     "text": [
      " 71%|███████▏  | 213760/300000 [00:57<00:25, 3356.50it/s]"
     ]
    },
    {
     "name": "stdout",
     "output_type": "stream",
     "text": [
      "232799:C 09 Apr 2025 15:06:40.914 * DB saved on disk\n",
      "232799:C 09 Apr 2025 15:06:40.925 * Fork CoW for RDB: current 20 MB, peak 20 MB, average 11 MB\n",
      "232800:C 09 Apr 2025 15:06:40.950 * DB saved on disk\n",
      "232800:C 09 Apr 2025 15:06:40.963 * Fork CoW for RDB: current 21 MB, peak 21 MB, average 11 MB\n",
      "232714:M 09 Apr 2025 15:06:41.033 * Background saving terminated with success\n",
      "232724:M 09 Apr 2025 15:06:41.038 * Background saving terminated with success\n"
     ]
    },
    {
     "name": "stderr",
     "output_type": "stream",
     "text": [
      "100%|██████████| 300000/300000 [01:19<00:00, 3772.78it/s]\n"
     ]
    },
    {
     "name": "stdout",
     "output_type": "stream",
     "text": [
      "232724:M 09 Apr 2025 15:07:03.521 # <search> count in the end of the loop is 1500000\n",
      "232724:M 09 Apr 2025 15:07:03.594 # <search> rp_max->index in EOF of rpMax_Yield is 1500000\n",
      "{'branch': {300000: 0.0377202300587669,\n",
      "            600000: 0.07759436697233468,\n",
      "            900000: 0.11062348599079996,\n",
      "            1200000: 0.16955550701823086,\n",
      "            1500000: 0.19398569106124341},\n",
      " 'master': {300000: 0.021290407981723547,\n",
      "            600000: 0.0453962089959532,\n",
      "            900000: 0.06466361007187515,\n",
      "            1200000: 0.09302436897996813,\n",
      "            1500000: 0.11262410902418196}}\n"
     ]
    },
    {
     "name": "stderr",
     "output_type": "stream",
     "text": [
      " 49%|████▊     | 146102/300000 [00:38<00:51, 3012.13it/s]"
     ]
    },
    {
     "name": "stdout",
     "output_type": "stream",
     "text": [
      "232724:M 09 Apr 2025 15:07:42.090 * 10000 changes in 60 seconds. Saving...\n",
      "232714:M 09 Apr 2025 15:07:42.095 * 10000 changes in 60 seconds. Saving...\n",
      "232714:M 09 Apr 2025 15:07:42.113 * Background saving started by pid 232801\n",
      "232724:M 09 Apr 2025 15:07:42.113 * Background saving started by pid 232802\n"
     ]
    },
    {
     "name": "stderr",
     "output_type": "stream",
     "text": [
      " 52%|█████▏    | 154954/300000 [00:40<00:36, 4001.16it/s]"
     ]
    },
    {
     "name": "stdout",
     "output_type": "stream",
     "text": [
      "232801:C 09 Apr 2025 15:07:44.428 * DB saved on disk\n",
      "232802:C 09 Apr 2025 15:07:44.432 * DB saved on disk\n",
      "232801:C 09 Apr 2025 15:07:44.442 * Fork CoW for RDB: current 23 MB, peak 23 MB, average 15 MB\n",
      "232802:C 09 Apr 2025 15:07:44.450 * Fork CoW for RDB: current 23 MB, peak 23 MB, average 15 MB\n",
      "232714:M 09 Apr 2025 15:07:44.521 * Background saving terminated with success\n",
      "232724:M 09 Apr 2025 15:07:44.521 * Background saving terminated with success\n"
     ]
    },
    {
     "name": "stderr",
     "output_type": "stream",
     "text": [
      "100%|██████████| 300000/300000 [01:20<00:00, 3745.32it/s]\n"
     ]
    },
    {
     "name": "stdout",
     "output_type": "stream",
     "text": [
      "232724:M 09 Apr 2025 15:08:23.952 # <search> count in the end of the loop is 1800000\n",
      "232724:M 09 Apr 2025 15:08:24.037 # <search> rp_max->index in EOF of rpMax_Yield is 1800000\n",
      "{'branch': {300000: 0.0377202300587669,\n",
      "            600000: 0.07759436697233468,\n",
      "            900000: 0.11062348599079996,\n",
      "            1200000: 0.16955550701823086,\n",
      "            1500000: 0.19398569106124341,\n",
      "            1800000: 0.22777571703772992},\n",
      " 'master': {300000: 0.021290407981723547,\n",
      "            600000: 0.0453962089959532,\n",
      "            900000: 0.06466361007187515,\n",
      "            1200000: 0.09302436897996813,\n",
      "            1500000: 0.11262410902418196,\n",
      "            1800000: 0.13622708001639694}}\n"
     ]
    },
    {
     "name": "stderr",
     "output_type": "stream",
     "text": [
      " 27%|██▋       | 82321/300000 [00:21<01:11, 3059.90it/s]"
     ]
    },
    {
     "name": "stdout",
     "output_type": "stream",
     "text": [
      "232714:M 09 Apr 2025 15:08:45.030 * 10000 changes in 60 seconds. Saving...\n",
      "232714:M 09 Apr 2025 15:08:45.050 * Background saving started by pid 232803\n",
      "232724:M 09 Apr 2025 15:08:45.095 * 10000 changes in 60 seconds. Saving...\n",
      "232724:M 09 Apr 2025 15:08:45.122 * Background saving started by pid 232804\n"
     ]
    },
    {
     "name": "stderr",
     "output_type": "stream",
     "text": [
      " 30%|███       | 90755/300000 [00:23<00:53, 3940.05it/s]"
     ]
    },
    {
     "name": "stdout",
     "output_type": "stream",
     "text": [
      "232803:C 09 Apr 2025 15:08:47.609 * DB saved on disk\n",
      "232803:C 09 Apr 2025 15:08:47.626 * Fork CoW for RDB: current 23 MB, peak 23 MB, average 15 MB\n",
      "232714:M 09 Apr 2025 15:08:47.660 * Background saving terminated with success\n",
      "232804:C 09 Apr 2025 15:08:47.684 * DB saved on disk\n",
      "232804:C 09 Apr 2025 15:08:47.706 * Fork CoW for RDB: current 23 MB, peak 23 MB, average 12 MB\n"
     ]
    },
    {
     "name": "stderr",
     "output_type": "stream",
     "text": [
      " 31%|███       | 91647/300000 [00:23<00:50, 4130.30it/s]"
     ]
    },
    {
     "name": "stdout",
     "output_type": "stream",
     "text": [
      "232724:M 09 Apr 2025 15:08:47.832 * Background saving terminated with success\n"
     ]
    },
    {
     "name": "stderr",
     "output_type": "stream",
     "text": [
      "100%|██████████| 300000/300000 [01:16<00:00, 3902.61it/s]\n"
     ]
    },
    {
     "name": "stdout",
     "output_type": "stream",
     "text": [
      "232724:M 09 Apr 2025 15:09:41.227 # <search> count in the end of the loop is 2100000\n",
      "232724:M 09 Apr 2025 15:09:41.335 # <search> rp_max->index in EOF of rpMax_Yield is 2100000\n",
      "{'branch': {300000: 0.0377202300587669,\n",
      "            600000: 0.07759436697233468,\n",
      "            900000: 0.11062348599079996,\n",
      "            1200000: 0.16955550701823086,\n",
      "            1500000: 0.19398569106124341,\n",
      "            1800000: 0.22777571703772992,\n",
      "            2100000: 0.2880714940838516},\n",
      " 'master': {300000: 0.021290407981723547,\n",
      "            600000: 0.0453962089959532,\n",
      "            900000: 0.06466361007187515,\n",
      "            1200000: 0.09302436897996813,\n",
      "            1500000: 0.11262410902418196,\n",
      "            1800000: 0.13622708001639694,\n",
      "            2100000: 0.16628523403778672}}\n"
     ]
    },
    {
     "name": "stderr",
     "output_type": "stream",
     "text": [
      "  8%|▊         | 23164/300000 [00:06<01:44, 2654.73it/s]"
     ]
    },
    {
     "name": "stdout",
     "output_type": "stream",
     "text": [
      "232724:M 09 Apr 2025 15:09:48.024 * 10000 changes in 60 seconds. Saving...\n",
      "232724:M 09 Apr 2025 15:09:48.057 * Background saving started by pid 232806\n",
      "232714:M 09 Apr 2025 15:09:48.089 * 10000 changes in 60 seconds. Saving...\n",
      "232714:M 09 Apr 2025 15:09:48.113 * Background saving started by pid 232807\n"
     ]
    },
    {
     "name": "stderr",
     "output_type": "stream",
     "text": [
      " 11%|█         | 32010/300000 [00:09<01:14, 3606.19it/s]"
     ]
    },
    {
     "name": "stdout",
     "output_type": "stream",
     "text": [
      "232806:C 09 Apr 2025 15:09:50.955 * DB saved on disk\n",
      "232806:C 09 Apr 2025 15:09:50.983 * Fork CoW for RDB: current 29 MB, peak 29 MB, average 15 MB\n",
      "232807:C 09 Apr 2025 15:09:51.001 * DB saved on disk\n",
      "232807:C 09 Apr 2025 15:09:51.020 * Fork CoW for RDB: current 29 MB, peak 29 MB, average 18 MB\n",
      "232724:M 09 Apr 2025 15:09:51.070 * Background saving terminated with success\n",
      "232714:M 09 Apr 2025 15:09:51.123 * Background saving terminated with success\n"
     ]
    },
    {
     "name": "stderr",
     "output_type": "stream",
     "text": [
      " 86%|████████▌ | 258033/300000 [01:10<00:10, 3983.87it/s]"
     ]
    },
    {
     "name": "stdout",
     "output_type": "stream",
     "text": [
      "232724:M 09 Apr 2025 15:10:52.034 * 10000 changes in 60 seconds. Saving...\n",
      "232724:M 09 Apr 2025 15:10:52.069 * Background saving started by pid 232808\n",
      "232714:M 09 Apr 2025 15:10:52.076 * 10000 changes in 60 seconds. Saving...\n",
      "232714:M 09 Apr 2025 15:10:52.100 * Background saving started by pid 232809\n"
     ]
    },
    {
     "name": "stderr",
     "output_type": "stream",
     "text": [
      " 89%|████████▉ | 268310/300000 [01:13<00:08, 3767.20it/s]"
     ]
    },
    {
     "name": "stdout",
     "output_type": "stream",
     "text": [
      "232808:C 09 Apr 2025 15:10:55.300 * DB saved on disk\n",
      "232809:C 09 Apr 2025 15:10:55.315 * DB saved on disk\n",
      "232808:C 09 Apr 2025 15:10:55.328 * Fork CoW for RDB: current 31 MB, peak 31 MB, average 20 MB\n",
      "232809:C 09 Apr 2025 15:10:55.336 * Fork CoW for RDB: current 31 MB, peak 31 MB, average 19 MB\n",
      "232724:M 09 Apr 2025 15:10:55.382 * Background saving terminated with success\n",
      "232714:M 09 Apr 2025 15:10:55.413 * Background saving terminated with success\n"
     ]
    },
    {
     "name": "stderr",
     "output_type": "stream",
     "text": [
      "100%|██████████| 300000/300000 [01:22<00:00, 3653.08it/s]\n"
     ]
    },
    {
     "name": "stdout",
     "output_type": "stream",
     "text": [
      "232724:M 09 Apr 2025 15:11:03.835 # <search> count in the end of the loop is 2400000\n",
      "232724:M 09 Apr 2025 15:11:03.958 # <search> rp_max->index in EOF of rpMax_Yield is 2400000\n",
      "{'branch': {300000: 0.0377202300587669,\n",
      "            600000: 0.07759436697233468,\n",
      "            900000: 0.11062348599079996,\n",
      "            1200000: 0.16955550701823086,\n",
      "            1500000: 0.19398569106124341,\n",
      "            1800000: 0.22777571703772992,\n",
      "            2100000: 0.2880714940838516,\n",
      "            2400000: 0.3292395389871672},\n",
      " 'master': {300000: 0.021290407981723547,\n",
      "            600000: 0.0453962089959532,\n",
      "            900000: 0.06466361007187515,\n",
      "            1200000: 0.09302436897996813,\n",
      "            1500000: 0.11262410902418196,\n",
      "            1800000: 0.13622708001639694,\n",
      "            2100000: 0.16628523403778672,\n",
      "            2400000: 0.19740016700234264}}\n"
     ]
    },
    {
     "name": "stderr",
     "output_type": "stream",
     "text": [
      " 65%|██████▌   | 195818/300000 [00:51<00:31, 3311.00it/s]"
     ]
    },
    {
     "name": "stdout",
     "output_type": "stream",
     "text": [
      "232714:M 09 Apr 2025 15:11:56.078 * 10000 changes in 60 seconds. Saving...\n",
      "232724:M 09 Apr 2025 15:11:56.083 * 10000 changes in 60 seconds. Saving...\n",
      "232714:M 09 Apr 2025 15:11:56.108 * Background saving started by pid 232810\n",
      "232724:M 09 Apr 2025 15:11:56.125 * Background saving started by pid 232811\n"
     ]
    },
    {
     "name": "stderr",
     "output_type": "stream",
     "text": [
      " 69%|██████▉   | 207157/300000 [00:55<00:23, 3877.12it/s]"
     ]
    },
    {
     "name": "stdout",
     "output_type": "stream",
     "text": [
      "232810:C 09 Apr 2025 15:11:59.652 * DB saved on disk\n",
      "232810:C 09 Apr 2025 15:11:59.676 * Fork CoW for RDB: current 33 MB, peak 33 MB, average 21 MB\n",
      "232811:C 09 Apr 2025 15:11:59.702 * DB saved on disk\n",
      "232714:M 09 Apr 2025 15:11:59.723 * Background saving terminated with success\n",
      "232811:C 09 Apr 2025 15:11:59.736 * Fork CoW for RDB: current 33 MB, peak 33 MB, average 17 MB\n",
      "232724:M 09 Apr 2025 15:11:59.836 * Background saving terminated with success\n"
     ]
    },
    {
     "name": "stderr",
     "output_type": "stream",
     "text": [
      "100%|██████████| 300000/300000 [01:20<00:00, 3740.35it/s]\n"
     ]
    },
    {
     "name": "stdout",
     "output_type": "stream",
     "text": [
      "232724:M 09 Apr 2025 15:12:24.597 # <search> count in the end of the loop is 2700000\n",
      "232724:M 09 Apr 2025 15:12:24.733 # <search> rp_max->index in EOF of rpMax_Yield is 2700000\n",
      "{'branch': {300000: 0.0377202300587669,\n",
      "            600000: 0.07759436697233468,\n",
      "            900000: 0.11062348599079996,\n",
      "            1200000: 0.16955550701823086,\n",
      "            1500000: 0.19398569106124341,\n",
      "            1800000: 0.22777571703772992,\n",
      "            2100000: 0.2880714940838516,\n",
      "            2400000: 0.3292395389871672,\n",
      "            2700000: 0.367517112987116},\n",
      " 'master': {300000: 0.021290407981723547,\n",
      "            600000: 0.0453962089959532,\n",
      "            900000: 0.06466361007187515,\n",
      "            1200000: 0.09302436897996813,\n",
      "            1500000: 0.11262410902418196,\n",
      "            1800000: 0.13622708001639694,\n",
      "            2100000: 0.16628523403778672,\n",
      "            2400000: 0.19740016700234264,\n",
      "            2700000: 0.21772900596261024}}\n"
     ]
    },
    {
     "name": "stderr",
     "output_type": "stream",
     "text": [
      " 47%|████▋     | 141538/300000 [00:35<00:38, 4101.23it/s]"
     ]
    },
    {
     "name": "stdout",
     "output_type": "stream",
     "text": [
      "232724:M 09 Apr 2025 15:13:00.024 * 10000 changes in 60 seconds. Saving...\n",
      "232714:M 09 Apr 2025 15:13:00.034 * 10000 changes in 60 seconds. Saving...\n",
      "232714:M 09 Apr 2025 15:13:00.088 * Background saving started by pid 232813\n",
      "232724:M 09 Apr 2025 15:13:00.092 * Background saving started by pid 232814\n"
     ]
    },
    {
     "name": "stderr",
     "output_type": "stream",
     "text": [
      " 53%|█████▎    | 157552/300000 [00:39<00:29, 4751.50it/s]"
     ]
    },
    {
     "name": "stdout",
     "output_type": "stream",
     "text": [
      "232813:C 09 Apr 2025 15:13:03.937 * DB saved on disk\n",
      "232814:C 09 Apr 2025 15:13:03.948 * DB saved on disk\n",
      "232813:C 09 Apr 2025 15:13:03.965 * Fork CoW for RDB: current 37 MB, peak 37 MB, average 24 MB\n",
      "232814:C 09 Apr 2025 15:13:03.988 * Fork CoW for RDB: current 37 MB, peak 37 MB, average 19 MB\n",
      "232714:M 09 Apr 2025 15:13:04.099 * Background saving terminated with success\n",
      "232724:M 09 Apr 2025 15:13:04.103 * Background saving terminated with success\n"
     ]
    },
    {
     "name": "stderr",
     "output_type": "stream",
     "text": [
      "100%|██████████| 300000/300000 [01:12<00:00, 4145.29it/s]\n"
     ]
    },
    {
     "name": "stdout",
     "output_type": "stream",
     "text": [
      "232724:M 09 Apr 2025 15:13:37.579 # <search> count in the end of the loop is 3000000\n",
      "232724:M 09 Apr 2025 15:13:37.727 # <search> rp_max->index in EOF of rpMax_Yield is 3000000\n",
      "{'branch': {300000: 0.0377202300587669,\n",
      "            600000: 0.07759436697233468,\n",
      "            900000: 0.11062348599079996,\n",
      "            1200000: 0.16955550701823086,\n",
      "            1500000: 0.19398569106124341,\n",
      "            1800000: 0.22777571703772992,\n",
      "            2100000: 0.2880714940838516,\n",
      "            2400000: 0.3292395389871672,\n",
      "            2700000: 0.367517112987116,\n",
      "            3000000: 0.4017737649846822},\n",
      " 'master': {300000: 0.021290407981723547,\n",
      "            600000: 0.0453962089959532,\n",
      "            900000: 0.06466361007187515,\n",
      "            1200000: 0.09302436897996813,\n",
      "            1500000: 0.11262410902418196,\n",
      "            1800000: 0.13622708001639694,\n",
      "            2100000: 0.16628523403778672,\n",
      "            2400000: 0.19740016700234264,\n",
      "            2700000: 0.21772900596261024,\n",
      "            3000000: 0.23551231902092695}}\n"
     ]
    },
    {
     "name": "stderr",
     "output_type": "stream",
     "text": [
      " 40%|███▉      | 119008/300000 [00:27<00:44, 4042.56it/s]"
     ]
    },
    {
     "name": "stdout",
     "output_type": "stream",
     "text": [
      "232714:M 09 Apr 2025 15:14:05.032 * 10000 changes in 60 seconds. Saving...\n",
      "232714:M 09 Apr 2025 15:14:05.070 * Background saving started by pid 232815\n",
      "232724:M 09 Apr 2025 15:14:05.099 * 10000 changes in 60 seconds. Saving...\n",
      "232724:M 09 Apr 2025 15:14:05.152 * Background saving started by pid 232816\n"
     ]
    },
    {
     "name": "stderr",
     "output_type": "stream",
     "text": [
      " 46%|████▌     | 137331/300000 [00:31<00:35, 4551.99it/s]"
     ]
    },
    {
     "name": "stdout",
     "output_type": "stream",
     "text": [
      "232815:C 09 Apr 2025 15:14:09.344 * DB saved on disk\n",
      "232815:C 09 Apr 2025 15:14:09.375 * Fork CoW for RDB: current 38 MB, peak 38 MB, average 24 MB\n",
      "232816:C 09 Apr 2025 15:14:09.397 * DB saved on disk\n",
      "232816:C 09 Apr 2025 15:14:09.440 * Fork CoW for RDB: current 38 MB, peak 38 MB, average 20 MB\n",
      "232714:M 09 Apr 2025 15:14:09.482 * Background saving terminated with success\n"
     ]
    },
    {
     "name": "stderr",
     "output_type": "stream",
     "text": [
      " 46%|████▌     | 138397/300000 [00:31<00:32, 4909.53it/s]"
     ]
    },
    {
     "name": "stdout",
     "output_type": "stream",
     "text": [
      "232724:M 09 Apr 2025 15:14:09.565 * Background saving terminated with success\n"
     ]
    },
    {
     "name": "stderr",
     "output_type": "stream",
     "text": [
      "100%|██████████| 300000/300000 [01:04<00:00, 4661.12it/s]\n"
     ]
    },
    {
     "name": "stdout",
     "output_type": "stream",
     "text": [
      "232724:M 09 Apr 2025 15:14:42.613 # <search> count in the end of the loop is 3300000\n",
      "232724:M 09 Apr 2025 15:14:42.774 # <search> rp_max->index in EOF of rpMax_Yield is 3300000\n",
      "{'branch': {300000: 0.0377202300587669,\n",
      "            600000: 0.07759436697233468,\n",
      "            900000: 0.11062348599079996,\n",
      "            1200000: 0.16955550701823086,\n",
      "            1500000: 0.19398569106124341,\n",
      "            1800000: 0.22777571703772992,\n",
      "            2100000: 0.2880714940838516,\n",
      "            2400000: 0.3292395389871672,\n",
      "            2700000: 0.367517112987116,\n",
      "            3000000: 0.4017737649846822,\n",
      "            3300000: 0.44577393494546413},\n",
      " 'master': {300000: 0.021290407981723547,\n",
      "            600000: 0.0453962089959532,\n",
      "            900000: 0.06466361007187515,\n",
      "            1200000: 0.09302436897996813,\n",
      "            1500000: 0.11262410902418196,\n",
      "            1800000: 0.13622708001639694,\n",
      "            2100000: 0.16628523403778672,\n",
      "            2400000: 0.19740016700234264,\n",
      "            2700000: 0.21772900596261024,\n",
      "            3000000: 0.23551231902092695,\n",
      "            3300000: 0.26015464507509023}}\n"
     ]
    },
    {
     "name": "stderr",
     "output_type": "stream",
     "text": [
      " 45%|████▌     | 136200/300000 [00:26<00:31, 5121.79it/s]"
     ]
    },
    {
     "name": "stdout",
     "output_type": "stream",
     "text": [
      "232714:M 09 Apr 2025 15:15:10.000 * 10000 changes in 60 seconds. Saving...\n",
      "232724:M 09 Apr 2025 15:15:10.039 * 10000 changes in 60 seconds. Saving...\n",
      "232714:M 09 Apr 2025 15:15:10.045 * Background saving started by pid 232817\n",
      "232724:M 09 Apr 2025 15:15:10.099 * Background saving started by pid 232818\n"
     ]
    },
    {
     "name": "stderr",
     "output_type": "stream",
     "text": [
      " 51%|█████     | 151843/300000 [00:31<00:40, 3669.84it/s]"
     ]
    },
    {
     "name": "stdout",
     "output_type": "stream",
     "text": [
      "232818:C 09 Apr 2025 15:15:14.768 * DB saved on disk\n",
      "232817:C 09 Apr 2025 15:15:14.784 * DB saved on disk\n",
      "232818:C 09 Apr 2025 15:15:14.817 * Fork CoW for RDB: current 36 MB, peak 36 MB, average 19 MB\n",
      "232817:C 09 Apr 2025 15:15:14.817 * Fork CoW for RDB: current 36 MB, peak 36 MB, average 24 MB\n",
      "232724:M 09 Apr 2025 15:15:14.917 * Background saving terminated with success\n",
      "232714:M 09 Apr 2025 15:15:14.962 * Background saving terminated with success\n"
     ]
    },
    {
     "name": "stderr",
     "output_type": "stream",
     "text": [
      "100%|██████████| 300000/300000 [01:03<00:00, 4719.99it/s]\n"
     ]
    },
    {
     "name": "stdout",
     "output_type": "stream",
     "text": [
      "232724:M 09 Apr 2025 15:15:46.904 # <search> count in the end of the loop is 3600000\n",
      "232724:M 09 Apr 2025 15:15:47.078 # <search> rp_max->index in EOF of rpMax_Yield is 3600000\n",
      "{'branch': {300000: 0.0377202300587669,\n",
      "            600000: 0.07759436697233468,\n",
      "            900000: 0.11062348599079996,\n",
      "            1200000: 0.16955550701823086,\n",
      "            1500000: 0.19398569106124341,\n",
      "            1800000: 0.22777571703772992,\n",
      "            2100000: 0.2880714940838516,\n",
      "            2400000: 0.3292395389871672,\n",
      "            2700000: 0.367517112987116,\n",
      "            3000000: 0.4017737649846822,\n",
      "            3300000: 0.44577393494546413,\n",
      "            3600000: 0.48042827495373785},\n",
      " 'master': {300000: 0.021290407981723547,\n",
      "            600000: 0.0453962089959532,\n",
      "            900000: 0.06466361007187515,\n",
      "            1200000: 0.09302436897996813,\n",
      "            1500000: 0.11262410902418196,\n",
      "            1800000: 0.13622708001639694,\n",
      "            2100000: 0.16628523403778672,\n",
      "            2400000: 0.19740016700234264,\n",
      "            2700000: 0.21772900596261024,\n",
      "            3000000: 0.23551231902092695,\n",
      "            3300000: 0.26015464507509023,\n",
      "            3600000: 0.2876592529937625}}\n"
     ]
    },
    {
     "name": "stderr",
     "output_type": "stream",
     "text": [
      " 40%|███▉      | 118862/300000 [00:27<00:35, 5048.73it/s]"
     ]
    },
    {
     "name": "stdout",
     "output_type": "stream",
     "text": [
      "232714:M 09 Apr 2025 15:16:15.032 * 10000 changes in 60 seconds. Saving...\n",
      "232724:M 09 Apr 2025 15:16:15.045 * 10000 changes in 60 seconds. Saving...\n",
      "232714:M 09 Apr 2025 15:16:15.078 * Background saving started by pid 232820\n",
      "232724:M 09 Apr 2025 15:16:15.112 * Background saving started by pid 232821\n"
     ]
    },
    {
     "name": "stderr",
     "output_type": "stream",
     "text": [
      " 45%|████▍     | 134901/300000 [00:32<00:40, 4052.25it/s]"
     ]
    },
    {
     "name": "stdout",
     "output_type": "stream",
     "text": [
      "232821:C 09 Apr 2025 15:16:20.163 * DB saved on disk\n",
      "232820:C 09 Apr 2025 15:16:20.184 * DB saved on disk\n",
      "232821:C 09 Apr 2025 15:16:20.217 * Fork CoW for RDB: current 37 MB, peak 37 MB, average 19 MB\n",
      "232820:C 09 Apr 2025 15:16:20.221 * Fork CoW for RDB: current 37 MB, peak 37 MB, average 24 MB\n",
      "232714:M 09 Apr 2025 15:16:20.297 * Background saving terminated with success\n",
      "232724:M 09 Apr 2025 15:16:20.332 * Background saving terminated with success\n"
     ]
    },
    {
     "name": "stderr",
     "output_type": "stream",
     "text": [
      "100%|██████████| 300000/300000 [01:09<00:00, 4297.01it/s]\n"
     ]
    },
    {
     "name": "stdout",
     "output_type": "stream",
     "text": [
      "232724:M 09 Apr 2025 15:16:57.517 # <search> count in the end of the loop is 3900000\n",
      "232724:M 09 Apr 2025 15:16:57.704 # <search> rp_max->index in EOF of rpMax_Yield is 3900000\n",
      "{'branch': {300000: 0.0377202300587669,\n",
      "            600000: 0.07759436697233468,\n",
      "            900000: 0.11062348599079996,\n",
      "            1200000: 0.16955550701823086,\n",
      "            1500000: 0.19398569106124341,\n",
      "            1800000: 0.22777571703772992,\n",
      "            2100000: 0.2880714940838516,\n",
      "            2400000: 0.3292395389871672,\n",
      "            2700000: 0.367517112987116,\n",
      "            3000000: 0.4017737649846822,\n",
      "            3300000: 0.44577393494546413,\n",
      "            3600000: 0.48042827495373785,\n",
      "            3900000: 0.5195964860031381},\n",
      " 'master': {300000: 0.021290407981723547,\n",
      "            600000: 0.0453962089959532,\n",
      "            900000: 0.06466361007187515,\n",
      "            1200000: 0.09302436897996813,\n",
      "            1500000: 0.11262410902418196,\n",
      "            1800000: 0.13622708001639694,\n",
      "            2100000: 0.16628523403778672,\n",
      "            2400000: 0.19740016700234264,\n",
      "            2700000: 0.21772900596261024,\n",
      "            3000000: 0.23551231902092695,\n",
      "            3300000: 0.26015464507509023,\n",
      "            3600000: 0.2876592529937625,\n",
      "            3900000: 0.31050018209498376}}\n"
     ]
    },
    {
     "name": "stderr",
     "output_type": "stream",
     "text": [
      " 31%|███       | 93690/300000 [00:23<01:05, 3154.78it/s]"
     ]
    },
    {
     "name": "stdout",
     "output_type": "stream",
     "text": [
      "232724:M 09 Apr 2025 15:17:21.065 * 10000 changes in 60 seconds. Saving...\n",
      "232714:M 09 Apr 2025 15:17:21.069 * 10000 changes in 60 seconds. Saving...\n",
      "232714:M 09 Apr 2025 15:17:21.119 * Background saving started by pid 232826\n",
      "232724:M 09 Apr 2025 15:17:21.137 * Background saving started by pid 232827\n"
     ]
    },
    {
     "name": "stderr",
     "output_type": "stream",
     "text": [
      " 37%|███▋      | 110104/300000 [00:28<00:52, 3641.45it/s]"
     ]
    },
    {
     "name": "stdout",
     "output_type": "stream",
     "text": [
      "232827:C 09 Apr 2025 15:17:26.651 * DB saved on disk\n",
      "232826:C 09 Apr 2025 15:17:26.698 * DB saved on disk\n",
      "232827:C 09 Apr 2025 15:17:26.710 * Fork CoW for RDB: current 37 MB, peak 37 MB, average 20 MB\n",
      "232826:C 09 Apr 2025 15:17:26.739 * Fork CoW for RDB: current 37 MB, peak 37 MB, average 25 MB\n",
      "232714:M 09 Apr 2025 15:17:26.841 * Background saving terminated with success\n"
     ]
    },
    {
     "name": "stderr",
     "output_type": "stream",
     "text": [
      " 37%|███▋      | 111035/300000 [00:28<00:45, 4110.23it/s]"
     ]
    },
    {
     "name": "stdout",
     "output_type": "stream",
     "text": [
      "232724:M 09 Apr 2025 15:17:26.855 * Background saving terminated with success\n"
     ]
    },
    {
     "name": "stderr",
     "output_type": "stream",
     "text": [
      "100%|██████████| 300000/300000 [01:18<00:00, 3820.24it/s]\n"
     ]
    },
    {
     "name": "stdout",
     "output_type": "stream",
     "text": [
      "232724:M 09 Apr 2025 15:18:16.929 # <search> count in the end of the loop is 4200000\n",
      "232724:M 09 Apr 2025 15:18:17.151 # <search> rp_max->index in EOF of rpMax_Yield is 4200000\n",
      "{'branch': {300000: 0.0377202300587669,\n",
      "            600000: 0.07759436697233468,\n",
      "            900000: 0.11062348599079996,\n",
      "            1200000: 0.16955550701823086,\n",
      "            1500000: 0.19398569106124341,\n",
      "            1800000: 0.22777571703772992,\n",
      "            2100000: 0.2880714940838516,\n",
      "            2400000: 0.3292395389871672,\n",
      "            2700000: 0.367517112987116,\n",
      "            3000000: 0.4017737649846822,\n",
      "            3300000: 0.44577393494546413,\n",
      "            3600000: 0.48042827495373785,\n",
      "            3900000: 0.5195964860031381,\n",
      "            4200000: 0.6048267451114953},\n",
      " 'master': {300000: 0.021290407981723547,\n",
      "            600000: 0.0453962089959532,\n",
      "            900000: 0.06466361007187515,\n",
      "            1200000: 0.09302436897996813,\n",
      "            1500000: 0.11262410902418196,\n",
      "            1800000: 0.13622708001639694,\n",
      "            2100000: 0.16628523403778672,\n",
      "            2400000: 0.19740016700234264,\n",
      "            2700000: 0.21772900596261024,\n",
      "            3000000: 0.23551231902092695,\n",
      "            3300000: 0.26015464507509023,\n",
      "            3600000: 0.2876592529937625,\n",
      "            3900000: 0.31050018209498376,\n",
      "            4200000: 0.3348676390014589}}\n"
     ]
    },
    {
     "name": "stderr",
     "output_type": "stream",
     "text": [
      " 11%|█         | 31680/300000 [00:09<01:18, 3402.93it/s]"
     ]
    },
    {
     "name": "stdout",
     "output_type": "stream",
     "text": [
      "232714:M 09 Apr 2025 15:18:27.010 * 10000 changes in 60 seconds. Saving...\n",
      "232714:M 09 Apr 2025 15:18:27.066 * Background saving started by pid 232829\n",
      "232724:M 09 Apr 2025 15:18:27.083 * 10000 changes in 60 seconds. Saving...\n",
      "232724:M 09 Apr 2025 15:18:27.162 * Background saving started by pid 232830\n"
     ]
    },
    {
     "name": "stderr",
     "output_type": "stream",
     "text": [
      " 17%|█▋        | 49933/300000 [00:15<01:10, 3530.56it/s]"
     ]
    },
    {
     "name": "stdout",
     "output_type": "stream",
     "text": [
      "232829:C 09 Apr 2025 15:18:32.911 * DB saved on disk\n",
      "232829:C 09 Apr 2025 15:18:32.956 * Fork CoW for RDB: current 50 MB, peak 50 MB, average 32 MB\n",
      "232830:C 09 Apr 2025 15:18:32.961 * DB saved on disk\n",
      "232830:C 09 Apr 2025 15:18:33.025 * Fork CoW for RDB: current 50 MB, peak 50 MB, average 26 MB\n",
      "232714:M 09 Apr 2025 15:18:33.083 * Background saving terminated with success\n"
     ]
    },
    {
     "name": "stderr",
     "output_type": "stream",
     "text": [
      " 17%|█▋        | 50903/300000 [00:15<01:03, 3924.43it/s]"
     ]
    },
    {
     "name": "stdout",
     "output_type": "stream",
     "text": [
      "232724:M 09 Apr 2025 15:18:33.180 * Background saving terminated with success\n"
     ]
    },
    {
     "name": "stderr",
     "output_type": "stream",
     "text": [
      " 87%|████████▋ | 260117/300000 [01:16<00:13, 2999.33it/s]"
     ]
    },
    {
     "name": "stdout",
     "output_type": "stream",
     "text": [
      "232724:M 09 Apr 2025 15:19:34.037 * 10000 changes in 60 seconds. Saving...\n",
      "232714:M 09 Apr 2025 15:19:34.040 * 10000 changes in 60 seconds. Saving...\n",
      "232714:M 09 Apr 2025 15:19:34.095 * Background saving started by pid 232831\n",
      "232724:M 09 Apr 2025 15:19:34.116 * Background saving started by pid 232832\n"
     ]
    },
    {
     "name": "stderr",
     "output_type": "stream",
     "text": [
      " 93%|█████████▎| 279297/300000 [01:22<00:05, 3886.57it/s]"
     ]
    },
    {
     "name": "stdout",
     "output_type": "stream",
     "text": [
      "232831:C 09 Apr 2025 15:19:40.226 * DB saved on disk\n",
      "232832:C 09 Apr 2025 15:19:40.248 * DB saved on disk\n",
      "232831:C 09 Apr 2025 15:19:40.272 * Fork CoW for RDB: current 54 MB, peak 54 MB, average 34 MB\n",
      "232832:C 09 Apr 2025 15:19:40.315 * Fork CoW for RDB: current 54 MB, peak 54 MB, average 28 MB\n",
      "232714:M 09 Apr 2025 15:19:40.417 * Background saving terminated with success\n"
     ]
    },
    {
     "name": "stderr",
     "output_type": "stream",
     "text": [
      " 93%|█████████▎| 280312/300000 [01:23<00:04, 4123.88it/s]"
     ]
    },
    {
     "name": "stdout",
     "output_type": "stream",
     "text": [
      "232724:M 09 Apr 2025 15:19:40.434 * Background saving terminated with success\n"
     ]
    },
    {
     "name": "stderr",
     "output_type": "stream",
     "text": [
      "100%|██████████| 300000/300000 [01:27<00:00, 3440.32it/s]\n"
     ]
    },
    {
     "name": "stdout",
     "output_type": "stream",
     "text": [
      "232724:M 09 Apr 2025 15:19:45.108 # <search> count in the end of the loop is 4500000\n",
      "232724:M 09 Apr 2025 15:19:45.341 # <search> rp_max->index in EOF of rpMax_Yield is 4500000\n",
      "{'branch': {300000: 0.0377202300587669,\n",
      "            600000: 0.07759436697233468,\n",
      "            900000: 0.11062348599079996,\n",
      "            1200000: 0.16955550701823086,\n",
      "            1500000: 0.19398569106124341,\n",
      "            1800000: 0.22777571703772992,\n",
      "            2100000: 0.2880714940838516,\n",
      "            2400000: 0.3292395389871672,\n",
      "            2700000: 0.367517112987116,\n",
      "            3000000: 0.4017737649846822,\n",
      "            3300000: 0.44577393494546413,\n",
      "            3600000: 0.48042827495373785,\n",
      "            3900000: 0.5195964860031381,\n",
      "            4200000: 0.6048267451114953,\n",
      "            4500000: 0.650207509053871},\n",
      " 'master': {300000: 0.021290407981723547,\n",
      "            600000: 0.0453962089959532,\n",
      "            900000: 0.06466361007187515,\n",
      "            1200000: 0.09302436897996813,\n",
      "            1500000: 0.11262410902418196,\n",
      "            1800000: 0.13622708001639694,\n",
      "            2100000: 0.16628523403778672,\n",
      "            2400000: 0.19740016700234264,\n",
      "            2700000: 0.21772900596261024,\n",
      "            3000000: 0.23551231902092695,\n",
      "            3300000: 0.26015464507509023,\n",
      "            3600000: 0.2876592529937625,\n",
      "            3900000: 0.31050018209498376,\n",
      "            4200000: 0.3348676390014589,\n",
      "            4500000: 0.39646985405124724}}\n"
     ]
    },
    {
     "name": "stderr",
     "output_type": "stream",
     "text": [
      " 71%|███████▏  | 214354/300000 [00:55<00:20, 4198.00it/s]"
     ]
    },
    {
     "name": "stdout",
     "output_type": "stream",
     "text": [
      "232714:M 09 Apr 2025 15:20:41.004 * 10000 changes in 60 seconds. Saving...\n",
      "232724:M 09 Apr 2025 15:20:41.010 * 10000 changes in 60 seconds. Saving...\n",
      "232714:M 09 Apr 2025 15:20:41.064 * Background saving started by pid 232869\n",
      "232724:M 09 Apr 2025 15:20:41.098 * Background saving started by pid 232870\n"
     ]
    },
    {
     "name": "stderr",
     "output_type": "stream",
     "text": [
      " 79%|███████▉  | 236380/300000 [01:01<00:12, 5278.15it/s]"
     ]
    },
    {
     "name": "stdout",
     "output_type": "stream",
     "text": [
      "232869:C 09 Apr 2025 15:20:47.566 * DB saved on disk\n",
      "232869:C 09 Apr 2025 15:20:47.614 * Fork CoW for RDB: current 56 MB, peak 56 MB, average 35 MB\n",
      "232714:M 09 Apr 2025 15:20:47.690 * Background saving terminated with success\n"
     ]
    },
    {
     "name": "stderr",
     "output_type": "stream",
     "text": [
      " 79%|███████▉  | 238025/300000 [01:02<00:11, 5427.82it/s]"
     ]
    },
    {
     "name": "stdout",
     "output_type": "stream",
     "text": [
      "232870:C 09 Apr 2025 15:20:47.836 * DB saved on disk\n",
      "232870:C 09 Apr 2025 15:20:47.906 * Fork CoW for RDB: current 58 MB, peak 58 MB, average 30 MB\n",
      "232724:M 09 Apr 2025 15:20:48.022 * Background saving terminated with success\n"
     ]
    },
    {
     "name": "stderr",
     "output_type": "stream",
     "text": [
      "100%|██████████| 300000/300000 [01:16<00:00, 3916.58it/s]\n"
     ]
    },
    {
     "name": "stdout",
     "output_type": "stream",
     "text": [
      "232724:M 09 Apr 2025 15:21:02.788 # <search> count in the end of the loop is 4800000\n",
      "232724:M 09 Apr 2025 15:21:03.033 # <search> rp_max->index in EOF of rpMax_Yield is 4800000\n",
      "{'branch': {300000: 0.0377202300587669,\n",
      "            600000: 0.07759436697233468,\n",
      "            900000: 0.11062348599079996,\n",
      "            1200000: 0.16955550701823086,\n",
      "            1500000: 0.19398569106124341,\n",
      "            1800000: 0.22777571703772992,\n",
      "            2100000: 0.2880714940838516,\n",
      "            2400000: 0.3292395389871672,\n",
      "            2700000: 0.367517112987116,\n",
      "            3000000: 0.4017737649846822,\n",
      "            3300000: 0.44577393494546413,\n",
      "            3600000: 0.48042827495373785,\n",
      "            3900000: 0.5195964860031381,\n",
      "            4200000: 0.6048267451114953,\n",
      "            4500000: 0.650207509053871,\n",
      "            4800000: 0.6935783950611949},\n",
      " 'master': {300000: 0.021290407981723547,\n",
      "            600000: 0.0453962089959532,\n",
      "            900000: 0.06466361007187515,\n",
      "            1200000: 0.09302436897996813,\n",
      "            1500000: 0.11262410902418196,\n",
      "            1800000: 0.13622708001639694,\n",
      "            2100000: 0.16628523403778672,\n",
      "            2400000: 0.19740016700234264,\n",
      "            2700000: 0.21772900596261024,\n",
      "            3000000: 0.23551231902092695,\n",
      "            3300000: 0.26015464507509023,\n",
      "            3600000: 0.2876592529937625,\n",
      "            3900000: 0.31050018209498376,\n",
      "            4200000: 0.3348676390014589,\n",
      "            4500000: 0.39646985405124724,\n",
      "            4800000: 0.4093733610352501}}\n"
     ]
    },
    {
     "name": "stderr",
     "output_type": "stream",
     "text": [
      " 60%|██████    | 180790/300000 [00:44<00:37, 3197.26it/s]"
     ]
    },
    {
     "name": "stdout",
     "output_type": "stream",
     "text": [
      "232714:M 09 Apr 2025 15:21:48.047 * 10000 changes in 60 seconds. Saving...\n",
      "232714:M 09 Apr 2025 15:21:48.110 * Background saving started by pid 232872\n"
     ]
    },
    {
     "name": "stderr",
     "output_type": "stream",
     "text": [
      " 61%|██████▏   | 183999/300000 [00:45<00:45, 2562.83it/s]"
     ]
    },
    {
     "name": "stdout",
     "output_type": "stream",
     "text": [
      "232724:M 09 Apr 2025 15:21:49.045 * 10000 changes in 60 seconds. Saving...\n",
      "232724:M 09 Apr 2025 15:21:49.141 * Background saving started by pid 232873\n"
     ]
    },
    {
     "name": "stderr",
     "output_type": "stream",
     "text": [
      " 68%|██████▊   | 202972/300000 [00:51<00:30, 3219.56it/s]"
     ]
    },
    {
     "name": "stdout",
     "output_type": "stream",
     "text": [
      "232872:C 09 Apr 2025 15:21:54.982 * DB saved on disk\n",
      "232872:C 09 Apr 2025 15:21:55.034 * Fork CoW for RDB: current 57 MB, peak 57 MB, average 37 MB\n",
      "232714:M 09 Apr 2025 15:21:55.138 * Background saving terminated with success\n"
     ]
    },
    {
     "name": "stderr",
     "output_type": "stream",
     "text": [
      " 69%|██████▉   | 206986/300000 [00:52<00:21, 4378.30it/s]"
     ]
    },
    {
     "name": "stdout",
     "output_type": "stream",
     "text": [
      "232873:C 09 Apr 2025 15:21:55.966 * DB saved on disk\n",
      "232873:C 09 Apr 2025 15:21:56.042 * Fork CoW for RDB: current 58 MB, peak 58 MB, average 30 MB\n",
      "232724:M 09 Apr 2025 15:21:56.164 * Background saving terminated with success\n"
     ]
    },
    {
     "name": "stderr",
     "output_type": "stream",
     "text": [
      "100%|██████████| 300000/300000 [01:14<00:00, 4023.65it/s]\n"
     ]
    },
    {
     "name": "stdout",
     "output_type": "stream",
     "text": [
      "232724:M 09 Apr 2025 15:22:18.471 # <search> count in the end of the loop is 5100000\n",
      "232724:M 09 Apr 2025 15:22:18.729 # <search> rp_max->index in EOF of rpMax_Yield is 5100000\n",
      "{'branch': {300000: 0.0377202300587669,\n",
      "            600000: 0.07759436697233468,\n",
      "            900000: 0.11062348599079996,\n",
      "            1200000: 0.16955550701823086,\n",
      "            1500000: 0.19398569106124341,\n",
      "            1800000: 0.22777571703772992,\n",
      "            2100000: 0.2880714940838516,\n",
      "            2400000: 0.3292395389871672,\n",
      "            2700000: 0.367517112987116,\n",
      "            3000000: 0.4017737649846822,\n",
      "            3300000: 0.44577393494546413,\n",
      "            3600000: 0.48042827495373785,\n",
      "            3900000: 0.5195964860031381,\n",
      "            4200000: 0.6048267451114953,\n",
      "            4500000: 0.650207509053871,\n",
      "            4800000: 0.6935783950611949,\n",
      "            5100000: 0.7234422769397497},\n",
      " 'master': {300000: 0.021290407981723547,\n",
      "            600000: 0.0453962089959532,\n",
      "            900000: 0.06466361007187515,\n",
      "            1200000: 0.09302436897996813,\n",
      "            1500000: 0.11262410902418196,\n",
      "            1800000: 0.13622708001639694,\n",
      "            2100000: 0.16628523403778672,\n",
      "            2400000: 0.19740016700234264,\n",
      "            2700000: 0.21772900596261024,\n",
      "            3000000: 0.23551231902092695,\n",
      "            3300000: 0.26015464507509023,\n",
      "            3600000: 0.2876592529937625,\n",
      "            3900000: 0.31050018209498376,\n",
      "            4200000: 0.3348676390014589,\n",
      "            4500000: 0.39646985405124724,\n",
      "            4800000: 0.4093733610352501,\n",
      "            5100000: 0.4490950700128451}}\n"
     ]
    },
    {
     "name": "stdout",
     "output_type": "stream",
     "text": [
      "232714:M 09 Apr 2025 15:22:56.032 * 10000 changes in 60 seconds. Saving...\n",
      "232714:M 09 Apr 2025 15:22:56.100 * Background saving started by pid 232876\n",
      "232724:M 09 Apr 2025 15:22:57.084 * 10000 changes in 60 seconds. Saving...\n",
      "232724:M 09 Apr 2025 15:22:57.184 * Background saving started by pid 232877\n",
      "232876:C 09 Apr 2025 15:23:03.143 * DB saved on disk\n",
      "232876:C 09 Apr 2025 15:23:03.198 * Fork CoW for RDB: current 2 MB, peak 2 MB, average 1 MB\n",
      "232714:M 09 Apr 2025 15:23:03.323 * Background saving terminated with success\n",
      "232877:C 09 Apr 2025 15:23:04.157 * DB saved on disk\n",
      "232877:C 09 Apr 2025 15:23:04.238 * Fork CoW for RDB: current 2 MB, peak 2 MB, average 1 MB\n",
      "232724:M 09 Apr 2025 15:23:04.408 * Background saving terminated with success\n"
     ]
    }
   ],
   "source": [
    "# import threading\n",
    "import timeit\n",
    "from pprint import pprint\n",
    "import json\n",
    "\n",
    "\n",
    "#query2 : FT.AGGREGATE idx * TIMEOUT 0 LIMIT 0 0 ' and search-max-aggregate-results = fixed v results in v results with no serialization, check this again varying dbsize\n",
    "\n",
    "# Parameters\n",
    "query = 'FT.AGGREGATE idx * TIMEOUT 0'\n",
    "total_docs = 5000001\n",
    "step = 300000\n",
    "num_docs = 0\n",
    "results = {\"master\": {}, \"branch\": {}}\n",
    "\n",
    "def timed_query(client, label, num_docs):\n",
    "    t = timeit.timeit('client.execute_command(query)', globals={'client': client, 'query': query}, number=1)\n",
    "    results[label][num_docs] = t\n",
    "\n",
    "while num_docs < total_docs:\n",
    "    # Populate DBs synchronously (assuming you want to do this before each measurement)\n",
    "    populate_dbs(step, [master_redis_client, branch_redis_client], num_docs)\n",
    "    num_docs += step\n",
    "\n",
    "    timed_query(branch_redis_client, \"branch\", num_docs)\n",
    "    timed_query(master_redis_client, \"master\", num_docs)\n",
    "\n",
    "\n",
    "    with open(f\"results_{num_docs}_json\", \"w\") as f:\n",
    "        json.dump(results, f, indent=4)\n",
    "\n",
    "    # Print results\n",
    "    pprint(results)\n",
    "\n",
    "with open(\"final_results.json\", \"w\") as f:\n",
    "    json.dump(results, f, indent=4)\n"
   ]
  },
  {
   "cell_type": "markdown",
   "metadata": {},
   "source": [
    "Data setup for plot"
   ]
  },
  {
   "cell_type": "code",
   "execution_count": null,
   "metadata": {},
   "outputs": [],
   "source": [
    "import matplotlib.pyplot as plt\n",
    "\n",
    "docs = list((results[\"master\"]).keys())\n",
    "\n",
    "master_values = list((results[\"master\"]).values())\n",
    "branch_values = list((results[\"branch\"]).values())\n",
    "\n",
    "ratios = [(b - m) / m * 100 for m, b in zip(master_values, branch_values)]\n"
   ]
  },
  {
   "cell_type": "markdown",
   "metadata": {},
   "source": [
    "Plot the results"
   ]
  },
  {
   "cell_type": "code",
   "execution_count": null,
   "metadata": {},
   "outputs": [
    {
     "ename": "NameError",
     "evalue": "name 'docs' is not defined",
     "output_type": "error",
     "traceback": [
      "\u001b[0;31m---------------------------------------------------------------------------\u001b[0m",
      "\u001b[0;31mNameError\u001b[0m                                 Traceback (most recent call last)",
      "Cell \u001b[0;32mIn[1], line 6\u001b[0m\n\u001b[1;32m      4\u001b[0m \u001b[38;5;66;03m# First plot (bar chart)\u001b[39;00m\n\u001b[1;32m      5\u001b[0m plt\u001b[38;5;241m.\u001b[39mfigure(figsize\u001b[38;5;241m=\u001b[39m(\u001b[38;5;241m12\u001b[39m, \u001b[38;5;241m6\u001b[39m))\n\u001b[0;32m----> 6\u001b[0m plt\u001b[38;5;241m.\u001b[39mbar(\u001b[43mdocs\u001b[49m, master_values, width\u001b[38;5;241m=\u001b[39m\u001b[38;5;241m80000\u001b[39m, label\u001b[38;5;241m=\u001b[39m\u001b[38;5;124m'\u001b[39m\u001b[38;5;124mWithout Normalization\u001b[39m\u001b[38;5;124m'\u001b[39m, align\u001b[38;5;241m=\u001b[39m\u001b[38;5;124m'\u001b[39m\u001b[38;5;124mcenter\u001b[39m\u001b[38;5;124m'\u001b[39m, alpha\u001b[38;5;241m=\u001b[39m\u001b[38;5;241m0.7\u001b[39m)\n\u001b[1;32m      7\u001b[0m plt\u001b[38;5;241m.\u001b[39mbar(docs, branch_values, width\u001b[38;5;241m=\u001b[39m\u001b[38;5;241m80000\u001b[39m, label\u001b[38;5;241m=\u001b[39m\u001b[38;5;124m'\u001b[39m\u001b[38;5;124mWith Normalization\u001b[39m\u001b[38;5;124m'\u001b[39m, align\u001b[38;5;241m=\u001b[39m\u001b[38;5;124m'\u001b[39m\u001b[38;5;124medge\u001b[39m\u001b[38;5;124m'\u001b[39m, alpha\u001b[38;5;241m=\u001b[39m\u001b[38;5;241m0.7\u001b[39m)\n\u001b[1;32m      8\u001b[0m plt\u001b[38;5;241m.\u001b[39mxlabel(\u001b[38;5;124m\"\u001b[39m\u001b[38;5;124mNumber of Docs (Thousands)\u001b[39m\u001b[38;5;124m\"\u001b[39m)\n",
      "\u001b[0;31mNameError\u001b[0m: name 'docs' is not defined"
     ]
    },
    {
     "data": {
      "text/plain": [
       "<Figure size 1200x600 with 0 Axes>"
      ]
     },
     "metadata": {},
     "output_type": "display_data"
    }
   ],
   "source": [
    "import matplotlib.pyplot as plt\n",
    "from matplotlib.ticker import MaxNLocator, FuncFormatter\n",
    "\n",
    "# First plot (bar chart)\n",
    "plt.figure(figsize=(12, 6))\n",
    "plt.bar(docs, master_values, width=80000, label='Without Normalization', align='center', alpha=0.7)\n",
    "plt.bar(docs, branch_values, width=80000, label='With Normalization', align='edge', alpha=0.7)\n",
    "plt.xlabel(\"Number of Docs (Thousands)\")\n",
    "plt.ylabel(\"Values (Seconds)\")  # Assuming 'Values' are in seconds\n",
    "plt.title(\"With vs Without Normalization\")\n",
    "plt.legend()\n",
    "plt.grid(True)\n",
    "\n",
    "# Adjusting x-axis ticks (horizontal axis in 1e3)\n",
    "plt.gca().xaxis.set_major_locator(MaxNLocator(integer=True, prune='lower'))  # Adjust x-axis to show integers\n",
    "plt.gca().set_xticklabels([f'{x / 1000:.0f}' for x in plt.gca().get_xticks()])  # Scale to thousands\n",
    "\n",
    "# Adjusting y-axis ticks (vertical axis in seconds)\n",
    "plt.gca().yaxis.set_major_formatter(FuncFormatter(lambda x, _: f'{x:.2f} s'))  # Format y-axis as seconds\n",
    "\n",
    "plt.show()\n",
    "\n",
    "# Second plot (line chart)\n",
    "plt.figure(figsize=(12, 6))\n",
    "plt.plot(docs, ratios, marker='o', color='b', label=\"Δ/ Without Normalization (%)\")\n",
    "plt.xlabel(\"Number of Docs\")\n",
    "plt.ylabel(\"Percentage Difference (%)\")\n",
    "plt.title(\"Percentage Difference Between With vs Without Normalization\")\n",
    "plt.legend()\n",
    "plt.grid(True)\n",
    "\n",
    "# Adjusting x-axis ticks for the second plot (horizontal axis in 1e3)\n",
    "plt.gca().xaxis.set_major_locator(MaxNLocator(integer=True, prune='lower'))  # Adjust x-axis to show integers\n",
    "plt.gca().set_xticklabels([f'{x / 1000:.0f}' for x in plt.gca().get_xticks()])  # Scale to thousands\n",
    "\n",
    "# Adjusting y-axis ticks for the second plot (vertical axis in seconds)\n",
    "plt.gca().yaxis.set_major_formatter(FuncFormatter(lambda x, _: f'{x:.2f} s'))  # Format y-axis as seconds\n",
    "\n",
    "plt.show()\n"
   ]
  },
  {
   "cell_type": "code",
   "execution_count": null,
   "metadata": {},
   "outputs": [
    {
     "name": "stderr",
     "output_type": "stream",
     "text": [
      "100%|██████████| 300000/300000 [00:26<00:00, 11534.67it/s]\n"
     ]
    },
    {
     "name": "stdout",
     "output_type": "stream",
     "text": [
      "{'with_sorter': {300000: 0.18964799505192786},\n",
      " 'without_sorter': {300000: 0.23805118899326771}}\n"
     ]
    },
    {
     "name": "stderr",
     "output_type": "stream",
     "text": [
      " 77%|███████▋  | 232282/300000 [00:20<00:06, 9932.27it/s] "
     ]
    },
    {
     "name": "stdout",
     "output_type": "stream",
     "text": [
      "233280:M 09 Apr 2025 16:13:23.020 * 10000 changes in 60 seconds. Saving...\n",
      "233280:M 09 Apr 2025 16:13:23.063 * Background saving started by pid 233520\n"
     ]
    },
    {
     "name": "stderr",
     "output_type": "stream",
     "text": [
      " 81%|████████  | 242297/300000 [00:20<00:05, 11070.47it/s]"
     ]
    },
    {
     "name": "stdout",
     "output_type": "stream",
     "text": [
      "233520:C 09 Apr 2025 16:13:23.824 * DB saved on disk\n",
      "233520:C 09 Apr 2025 16:13:23.859 * Fork CoW for RDB: current 14 MB, peak 14 MB, average 8 MB\n",
      "233280:M 09 Apr 2025 16:13:23.966 * Background saving terminated with success\n"
     ]
    },
    {
     "name": "stderr",
     "output_type": "stream",
     "text": [
      "100%|██████████| 300000/300000 [00:26<00:00, 11521.11it/s]\n"
     ]
    },
    {
     "name": "stdout",
     "output_type": "stream",
     "text": [
      "{'with_sorter': {300000: 0.18964799505192786, 600000: 0.3917022739769891},\n",
      " 'without_sorter': {300000: 0.23805118899326771, 600000: 0.45434289099648595}}\n"
     ]
    },
    {
     "name": "stderr",
     "output_type": "stream",
     "text": [
      "100%|██████████| 300000/300000 [00:25<00:00, 11647.41it/s]\n"
     ]
    },
    {
     "name": "stdout",
     "output_type": "stream",
     "text": [
      "{'with_sorter': {300000: 0.18964799505192786,\n",
      "                 600000: 0.3917022739769891,\n",
      "                 900000: 0.566300384933129},\n",
      " 'without_sorter': {300000: 0.23805118899326771,\n",
      "                    600000: 0.45434289099648595,\n",
      "                    900000: 0.7106432620203122}}\n"
     ]
    },
    {
     "name": "stderr",
     "output_type": "stream",
     "text": [
      "100%|██████████| 300000/300000 [00:26<00:00, 11527.31it/s]\n"
     ]
    },
    {
     "name": "stdout",
     "output_type": "stream",
     "text": [
      "{'with_sorter': {300000: 0.18964799505192786,\n",
      "                 600000: 0.3917022739769891,\n",
      "                 900000: 0.566300384933129,\n",
      "                 1200000: 0.7473482619971037},\n",
      " 'without_sorter': {300000: 0.23805118899326771,\n",
      "                    600000: 0.45434289099648595,\n",
      "                    900000: 0.7106432620203122,\n",
      "                    1200000: 0.9378467430360615}}\n"
     ]
    },
    {
     "name": "stderr",
     "output_type": "stream",
     "text": [
      "  0%|          | 1120/300000 [00:00<00:40, 7387.02it/s]"
     ]
    },
    {
     "name": "stdout",
     "output_type": "stream",
     "text": [
      "233280:M 09 Apr 2025 16:14:24.812 * 10000 changes in 60 seconds. Saving...\n",
      "233280:M 09 Apr 2025 16:14:24.866 * Background saving started by pid 233521\n"
     ]
    },
    {
     "name": "stderr",
     "output_type": "stream",
     "text": [
      "  7%|▋         | 22294/300000 [00:02<00:25, 10707.50it/s]"
     ]
    },
    {
     "name": "stdout",
     "output_type": "stream",
     "text": [
      "233521:C 09 Apr 2025 16:14:26.626 * DB saved on disk\n",
      "233521:C 09 Apr 2025 16:14:26.679 * Fork CoW for RDB: current 25 MB, peak 25 MB, average 14 MB\n",
      "233280:M 09 Apr 2025 16:14:26.772 * Background saving terminated with success\n"
     ]
    },
    {
     "name": "stderr",
     "output_type": "stream",
     "text": [
      "100%|██████████| 300000/300000 [00:25<00:00, 11572.08it/s]\n"
     ]
    },
    {
     "name": "stdout",
     "output_type": "stream",
     "text": [
      "{'with_sorter': {300000: 0.18964799505192786,\n",
      "                 600000: 0.3917022739769891,\n",
      "                 900000: 0.566300384933129,\n",
      "                 1200000: 0.7473482619971037,\n",
      "                 1500000: 0.9958648140309379},\n",
      " 'without_sorter': {300000: 0.23805118899326771,\n",
      "                    600000: 0.45434289099648595,\n",
      "                    900000: 0.7106432620203122,\n",
      "                    1200000: 0.9378467430360615,\n",
      "                    1500000: 1.2118219250114635}}\n"
     ]
    },
    {
     "name": "stderr",
     "output_type": "stream",
     "text": [
      "100%|██████████| 300000/300000 [00:27<00:00, 10917.05it/s]\n"
     ]
    },
    {
     "name": "stdout",
     "output_type": "stream",
     "text": [
      "{'with_sorter': {300000: 0.18964799505192786,\n",
      "                 600000: 0.3917022739769891,\n",
      "                 900000: 0.566300384933129,\n",
      "                 1200000: 0.7473482619971037,\n",
      "                 1500000: 0.9958648140309379,\n",
      "                 1800000: 1.1941409799037501},\n",
      " 'without_sorter': {300000: 0.23805118899326771,\n",
      "                    600000: 0.45434289099648595,\n",
      "                    900000: 0.7106432620203122,\n",
      "                    1200000: 0.9378467430360615,\n",
      "                    1500000: 1.2118219250114635,\n",
      "                    1800000: 1.4924480250338092}}\n"
     ]
    },
    {
     "name": "stderr",
     "output_type": "stream",
     "text": [
      " 15%|█▍        | 44564/300000 [00:04<00:26, 9510.31it/s] "
     ]
    },
    {
     "name": "stdout",
     "output_type": "stream",
     "text": [
      "233280:M 09 Apr 2025 16:15:27.026 * 10000 changes in 60 seconds. Saving...\n",
      "233280:M 09 Apr 2025 16:15:27.095 * Background saving started by pid 233523\n"
     ]
    },
    {
     "name": "stderr",
     "output_type": "stream",
     "text": [
      " 25%|██▍       | 74432/300000 [00:06<00:19, 11490.94it/s]"
     ]
    },
    {
     "name": "stdout",
     "output_type": "stream",
     "text": [
      "233523:C 09 Apr 2025 16:15:29.659 * DB saved on disk\n",
      "233523:C 09 Apr 2025 16:15:29.716 * Fork CoW for RDB: current 34 MB, peak 34 MB, average 19 MB\n",
      "233280:M 09 Apr 2025 16:15:29.801 * Background saving terminated with success\n"
     ]
    },
    {
     "name": "stderr",
     "output_type": "stream",
     "text": [
      "100%|██████████| 300000/300000 [00:26<00:00, 11425.97it/s]\n"
     ]
    },
    {
     "name": "stdout",
     "output_type": "stream",
     "text": [
      "{'with_sorter': {300000: 0.18964799505192786,\n",
      "                 600000: 0.3917022739769891,\n",
      "                 900000: 0.566300384933129,\n",
      "                 1200000: 0.7473482619971037,\n",
      "                 1500000: 0.9958648140309379,\n",
      "                 1800000: 1.1941409799037501,\n",
      "                 2100000: 1.88969486404676},\n",
      " 'without_sorter': {300000: 0.23805118899326771,\n",
      "                    600000: 0.45434289099648595,\n",
      "                    900000: 0.7106432620203122,\n",
      "                    1200000: 0.9378467430360615,\n",
      "                    1500000: 1.2118219250114635,\n",
      "                    1800000: 1.4924480250338092,\n",
      "                    2100000: 1.7136654489440843}}\n"
     ]
    },
    {
     "name": "stderr",
     "output_type": "stream",
     "text": [
      "100%|██████████| 300000/300000 [00:25<00:00, 11622.42it/s]\n"
     ]
    },
    {
     "name": "stdout",
     "output_type": "stream",
     "text": [
      "{'with_sorter': {300000: 0.18964799505192786,\n",
      "                 600000: 0.3917022739769891,\n",
      "                 900000: 0.566300384933129,\n",
      "                 1200000: 0.7473482619971037,\n",
      "                 1500000: 0.9958648140309379,\n",
      "                 1800000: 1.1941409799037501,\n",
      "                 2100000: 1.88969486404676,\n",
      "                 2400000: 1.5827165950322524},\n",
      " 'without_sorter': {300000: 0.23805118899326771,\n",
      "                    600000: 0.45434289099648595,\n",
      "                    900000: 0.7106432620203122,\n",
      "                    1200000: 0.9378467430360615,\n",
      "                    1500000: 1.2118219250114635,\n",
      "                    1800000: 1.4924480250338092,\n",
      "                    2100000: 1.7136654489440843,\n",
      "                    2400000: 1.9840066710021347}}\n"
     ]
    },
    {
     "name": "stderr",
     "output_type": "stream",
     "text": [
      " 30%|███       | 91224/300000 [00:07<00:22, 9128.78it/s] "
     ]
    },
    {
     "name": "stdout",
     "output_type": "stream",
     "text": [
      "233280:M 09 Apr 2025 16:16:30.078 * 10000 changes in 60 seconds. Saving...\n",
      "233280:M 09 Apr 2025 16:16:30.166 * Background saving started by pid 233524\n"
     ]
    },
    {
     "name": "stderr",
     "output_type": "stream",
     "text": [
      " 44%|████▍     | 132617/300000 [00:11<00:14, 11506.40it/s]"
     ]
    },
    {
     "name": "stdout",
     "output_type": "stream",
     "text": [
      "233524:C 09 Apr 2025 16:16:33.636 * DB saved on disk\n",
      "233524:C 09 Apr 2025 16:16:33.708 * Fork CoW for RDB: current 44 MB, peak 44 MB, average 24 MB\n"
     ]
    },
    {
     "name": "stderr",
     "output_type": "stream",
     "text": [
      " 45%|████▍     | 134898/300000 [00:11<00:16, 10158.19it/s]"
     ]
    },
    {
     "name": "stdout",
     "output_type": "stream",
     "text": [
      "233280:M 09 Apr 2025 16:16:33.874 * Background saving terminated with success\n"
     ]
    },
    {
     "name": "stderr",
     "output_type": "stream",
     "text": [
      "100%|██████████| 300000/300000 [00:26<00:00, 11528.42it/s]\n"
     ]
    },
    {
     "name": "stdout",
     "output_type": "stream",
     "text": [
      "{'with_sorter': {300000: 0.18964799505192786,\n",
      "                 600000: 0.3917022739769891,\n",
      "                 900000: 0.566300384933129,\n",
      "                 1200000: 0.7473482619971037,\n",
      "                 1500000: 0.9958648140309379,\n",
      "                 1800000: 1.1941409799037501,\n",
      "                 2100000: 1.88969486404676,\n",
      "                 2400000: 1.5827165950322524,\n",
      "                 2700000: 1.869545312016271},\n",
      " 'without_sorter': {300000: 0.23805118899326771,\n",
      "                    600000: 0.45434289099648595,\n",
      "                    900000: 0.7106432620203122,\n",
      "                    1200000: 0.9378467430360615,\n",
      "                    1500000: 1.2118219250114635,\n",
      "                    1800000: 1.4924480250338092,\n",
      "                    2100000: 1.7136654489440843,\n",
      "                    2400000: 1.9840066710021347,\n",
      "                    2700000: 2.2765264810295776}}\n"
     ]
    },
    {
     "name": "stderr",
     "output_type": "stream",
     "text": [
      "100%|██████████| 300000/300000 [00:25<00:00, 11629.68it/s]\n"
     ]
    },
    {
     "name": "stdout",
     "output_type": "stream",
     "text": [
      "{'with_sorter': {300000: 0.18964799505192786,\n",
      "                 600000: 0.3917022739769891,\n",
      "                 900000: 0.566300384933129,\n",
      "                 1200000: 0.7473482619971037,\n",
      "                 1500000: 0.9958648140309379,\n",
      "                 1800000: 1.1941409799037501,\n",
      "                 2100000: 1.88969486404676,\n",
      "                 2400000: 1.5827165950322524,\n",
      "                 2700000: 1.869545312016271,\n",
      "                 3000000: 2.068169769947417},\n",
      " 'without_sorter': {300000: 0.23805118899326771,\n",
      "                    600000: 0.45434289099648595,\n",
      "                    900000: 0.7106432620203122,\n",
      "                    1200000: 0.9378467430360615,\n",
      "                    1500000: 1.2118219250114635,\n",
      "                    1800000: 1.4924480250338092,\n",
      "                    2100000: 1.7136654489440843,\n",
      "                    2400000: 1.9840066710021347,\n",
      "                    2700000: 2.2765264810295776,\n",
      "                    3000000: 2.584550041006878}}\n"
     ]
    },
    {
     "name": "stderr",
     "output_type": "stream",
     "text": [
      " 43%|████▎     | 129226/300000 [00:11<00:19, 8650.50it/s] "
     ]
    },
    {
     "name": "stdout",
     "output_type": "stream",
     "text": [
      "233280:M 09 Apr 2025 16:17:34.009 * 10000 changes in 60 seconds. Saving...\n",
      "233280:M 09 Apr 2025 16:17:34.114 * Background saving started by pid 233530\n"
     ]
    },
    {
     "name": "stderr",
     "output_type": "stream",
     "text": [
      " 60%|█████▉    | 179954/300000 [00:15<00:10, 11583.36it/s]"
     ]
    },
    {
     "name": "stdout",
     "output_type": "stream",
     "text": [
      "233530:C 09 Apr 2025 16:17:38.464 * DB saved on disk\n",
      "233530:C 09 Apr 2025 16:17:38.550 * Fork CoW for RDB: current 45 MB, peak 45 MB, average 24 MB\n"
     ]
    },
    {
     "name": "stderr",
     "output_type": "stream",
     "text": [
      " 61%|██████    | 183449/300000 [00:15<00:10, 11625.13it/s]"
     ]
    },
    {
     "name": "stdout",
     "output_type": "stream",
     "text": [
      "233280:M 09 Apr 2025 16:17:38.723 * Background saving terminated with success\n"
     ]
    },
    {
     "name": "stderr",
     "output_type": "stream",
     "text": [
      "100%|██████████| 300000/300000 [00:25<00:00, 11544.54it/s]\n"
     ]
    },
    {
     "name": "stdout",
     "output_type": "stream",
     "text": [
      "{'with_sorter': {300000: 0.18964799505192786,\n",
      "                 600000: 0.3917022739769891,\n",
      "                 900000: 0.566300384933129,\n",
      "                 1200000: 0.7473482619971037,\n",
      "                 1500000: 0.9958648140309379,\n",
      "                 1800000: 1.1941409799037501,\n",
      "                 2100000: 1.88969486404676,\n",
      "                 2400000: 1.5827165950322524,\n",
      "                 2700000: 1.869545312016271,\n",
      "                 3000000: 2.068169769947417,\n",
      "                 3300000: 2.412668626056984},\n",
      " 'without_sorter': {300000: 0.23805118899326771,\n",
      "                    600000: 0.45434289099648595,\n",
      "                    900000: 0.7106432620203122,\n",
      "                    1200000: 0.9378467430360615,\n",
      "                    1500000: 1.2118219250114635,\n",
      "                    1800000: 1.4924480250338092,\n",
      "                    2100000: 1.7136654489440843,\n",
      "                    2400000: 1.9840066710021347,\n",
      "                    2700000: 2.2765264810295776,\n",
      "                    3000000: 2.584550041006878,\n",
      "                    3300000: 2.907347152940929}}\n"
     ]
    },
    {
     "name": "stderr",
     "output_type": "stream",
     "text": [
      "100%|██████████| 300000/300000 [00:25<00:00, 11594.48it/s]\n"
     ]
    },
    {
     "name": "stdout",
     "output_type": "stream",
     "text": [
      "{'with_sorter': {300000: 0.18964799505192786,\n",
      "                 600000: 0.3917022739769891,\n",
      "                 900000: 0.566300384933129,\n",
      "                 1200000: 0.7473482619971037,\n",
      "                 1500000: 0.9958648140309379,\n",
      "                 1800000: 1.1941409799037501,\n",
      "                 2100000: 1.88969486404676,\n",
      "                 2400000: 1.5827165950322524,\n",
      "                 2700000: 1.869545312016271,\n",
      "                 3000000: 2.068169769947417,\n",
      "                 3300000: 2.412668626056984,\n",
      "                 3600000: 2.6133987059583887},\n",
      " 'without_sorter': {300000: 0.23805118899326771,\n",
      "                    600000: 0.45434289099648595,\n",
      "                    900000: 0.7106432620203122,\n",
      "                    1200000: 0.9378467430360615,\n",
      "                    1500000: 1.2118219250114635,\n",
      "                    1800000: 1.4924480250338092,\n",
      "                    2100000: 1.7136654489440843,\n",
      "                    2400000: 1.9840066710021347,\n",
      "                    2700000: 2.2765264810295776,\n",
      "                    3000000: 2.584550041006878,\n",
      "                    3300000: 2.907347152940929,\n",
      "                    3600000: 3.221260695019737}}\n"
     ]
    },
    {
     "name": "stderr",
     "output_type": "stream",
     "text": [
      " 51%|█████     | 152448/300000 [00:13<00:17, 8306.82it/s] "
     ]
    },
    {
     "name": "stdout",
     "output_type": "stream",
     "text": [
      "233280:M 09 Apr 2025 16:18:39.035 * 10000 changes in 60 seconds. Saving...\n",
      "233280:M 09 Apr 2025 16:18:39.157 * Background saving started by pid 233532\n"
     ]
    },
    {
     "name": "stderr",
     "output_type": "stream",
     "text": [
      " 71%|███████   | 213244/300000 [00:18<00:07, 11482.43it/s]"
     ]
    },
    {
     "name": "stdout",
     "output_type": "stream",
     "text": [
      "233532:C 09 Apr 2025 16:18:44.386 * DB saved on disk\n",
      "233532:C 09 Apr 2025 16:18:44.486 * Fork CoW for RDB: current 52 MB, peak 52 MB, average 29 MB\n"
     ]
    },
    {
     "name": "stderr",
     "output_type": "stream",
     "text": [
      " 72%|███████▏  | 216709/300000 [00:18<00:07, 11505.05it/s]"
     ]
    },
    {
     "name": "stdout",
     "output_type": "stream",
     "text": [
      "233280:M 09 Apr 2025 16:18:44.669 * Background saving terminated with success\n"
     ]
    },
    {
     "name": "stderr",
     "output_type": "stream",
     "text": [
      "100%|██████████| 300000/300000 [00:26<00:00, 11456.52it/s]\n"
     ]
    },
    {
     "name": "stdout",
     "output_type": "stream",
     "text": [
      "{'with_sorter': {300000: 0.18964799505192786,\n",
      "                 600000: 0.3917022739769891,\n",
      "                 900000: 0.566300384933129,\n",
      "                 1200000: 0.7473482619971037,\n",
      "                 1500000: 0.9958648140309379,\n",
      "                 1800000: 1.1941409799037501,\n",
      "                 2100000: 1.88969486404676,\n",
      "                 2400000: 1.5827165950322524,\n",
      "                 2700000: 1.869545312016271,\n",
      "                 3000000: 2.068169769947417,\n",
      "                 3300000: 2.412668626056984,\n",
      "                 3600000: 2.6133987059583887,\n",
      "                 3900000: 2.945143042015843},\n",
      " 'without_sorter': {300000: 0.23805118899326771,\n",
      "                    600000: 0.45434289099648595,\n",
      "                    900000: 0.7106432620203122,\n",
      "                    1200000: 0.9378467430360615,\n",
      "                    1500000: 1.2118219250114635,\n",
      "                    1800000: 1.4924480250338092,\n",
      "                    2100000: 1.7136654489440843,\n",
      "                    2400000: 1.9840066710021347,\n",
      "                    2700000: 2.2765264810295776,\n",
      "                    3000000: 2.584550041006878,\n",
      "                    3300000: 2.907347152940929,\n",
      "                    3600000: 3.221260695019737,\n",
      "                    3900000: 3.543570081004873}}\n"
     ]
    },
    {
     "name": "stderr",
     "output_type": "stream",
     "text": [
      "100%|██████████| 300000/300000 [00:25<00:00, 11580.91it/s]\n"
     ]
    },
    {
     "name": "stdout",
     "output_type": "stream",
     "text": [
      "{'with_sorter': {300000: 0.18964799505192786,\n",
      "                 600000: 0.3917022739769891,\n",
      "                 900000: 0.566300384933129,\n",
      "                 1200000: 0.7473482619971037,\n",
      "                 1500000: 0.9958648140309379,\n",
      "                 1800000: 1.1941409799037501,\n",
      "                 2100000: 1.88969486404676,\n",
      "                 2400000: 1.5827165950322524,\n",
      "                 2700000: 1.869545312016271,\n",
      "                 3000000: 2.068169769947417,\n",
      "                 3300000: 2.412668626056984,\n",
      "                 3600000: 2.6133987059583887,\n",
      "                 3900000: 2.945143042015843,\n",
      "                 4200000: 4.077396895037964},\n",
      " 'without_sorter': {300000: 0.23805118899326771,\n",
      "                    600000: 0.45434289099648595,\n",
      "                    900000: 0.7106432620203122,\n",
      "                    1200000: 0.9378467430360615,\n",
      "                    1500000: 1.2118219250114635,\n",
      "                    1800000: 1.4924480250338092,\n",
      "                    2100000: 1.7136654489440843,\n",
      "                    2400000: 1.9840066710021347,\n",
      "                    2700000: 2.2765264810295776,\n",
      "                    3000000: 2.584550041006878,\n",
      "                    3300000: 2.907347152940929,\n",
      "                    3600000: 3.221260695019737,\n",
      "                    3900000: 3.543570081004873,\n",
      "                    4200000: 3.642604024033062}}\n"
     ]
    },
    {
     "name": "stderr",
     "output_type": "stream",
     "text": [
      " 50%|████▉     | 149361/300000 [00:12<00:18, 7971.48it/s] "
     ]
    },
    {
     "name": "stdout",
     "output_type": "stream",
     "text": [
      "233280:M 09 Apr 2025 16:19:45.041 * 10000 changes in 60 seconds. Saving...\n",
      "233280:M 09 Apr 2025 16:19:45.185 * Background saving started by pid 233534\n"
     ]
    },
    {
     "name": "stderr",
     "output_type": "stream",
     "text": [
      " 74%|███████▎  | 220600/300000 [00:19<00:06, 11564.17it/s]"
     ]
    },
    {
     "name": "stdout",
     "output_type": "stream",
     "text": [
      "233534:C 09 Apr 2025 16:19:51.252 * DB saved on disk\n",
      "233534:C 09 Apr 2025 16:19:51.371 * Fork CoW for RDB: current 78 MB, peak 78 MB, average 42 MB\n"
     ]
    },
    {
     "name": "stderr",
     "output_type": "stream",
     "text": [
      " 75%|███████▍  | 224081/300000 [00:19<00:06, 11569.78it/s]"
     ]
    },
    {
     "name": "stdout",
     "output_type": "stream",
     "text": [
      "233280:M 09 Apr 2025 16:19:51.599 * Background saving terminated with success\n"
     ]
    },
    {
     "name": "stderr",
     "output_type": "stream",
     "text": [
      "100%|██████████| 300000/300000 [00:26<00:00, 11505.19it/s]\n"
     ]
    },
    {
     "name": "stdout",
     "output_type": "stream",
     "text": [
      "{'with_sorter': {300000: 0.18964799505192786,\n",
      "                 600000: 0.3917022739769891,\n",
      "                 900000: 0.566300384933129,\n",
      "                 1200000: 0.7473482619971037,\n",
      "                 1500000: 0.9958648140309379,\n",
      "                 1800000: 1.1941409799037501,\n",
      "                 2100000: 1.88969486404676,\n",
      "                 2400000: 1.5827165950322524,\n",
      "                 2700000: 1.869545312016271,\n",
      "                 3000000: 2.068169769947417,\n",
      "                 3300000: 2.412668626056984,\n",
      "                 3600000: 2.6133987059583887,\n",
      "                 3900000: 2.945143042015843,\n",
      "                 4200000: 4.077396895037964,\n",
      "                 4500000: 3.27404904703144},\n",
      " 'without_sorter': {300000: 0.23805118899326771,\n",
      "                    600000: 0.45434289099648595,\n",
      "                    900000: 0.7106432620203122,\n",
      "                    1200000: 0.9378467430360615,\n",
      "                    1500000: 1.2118219250114635,\n",
      "                    1800000: 1.4924480250338092,\n",
      "                    2100000: 1.7136654489440843,\n",
      "                    2400000: 1.9840066710021347,\n",
      "                    2700000: 2.2765264810295776,\n",
      "                    3000000: 2.584550041006878,\n",
      "                    3300000: 2.907347152940929,\n",
      "                    3600000: 3.221260695019737,\n",
      "                    3900000: 3.543570081004873,\n",
      "                    4200000: 3.642604024033062,\n",
      "                    4500000: 3.9600771020632237}}\n"
     ]
    },
    {
     "name": "stderr",
     "output_type": "stream",
     "text": [
      "100%|██████████| 300000/300000 [00:25<00:00, 11635.47it/s]\n"
     ]
    },
    {
     "name": "stdout",
     "output_type": "stream",
     "text": [
      "{'with_sorter': {300000: 0.18964799505192786,\n",
      "                 600000: 0.3917022739769891,\n",
      "                 900000: 0.566300384933129,\n",
      "                 1200000: 0.7473482619971037,\n",
      "                 1500000: 0.9958648140309379,\n",
      "                 1800000: 1.1941409799037501,\n",
      "                 2100000: 1.88969486404676,\n",
      "                 2400000: 1.5827165950322524,\n",
      "                 2700000: 1.869545312016271,\n",
      "                 3000000: 2.068169769947417,\n",
      "                 3300000: 2.412668626056984,\n",
      "                 3600000: 2.6133987059583887,\n",
      "                 3900000: 2.945143042015843,\n",
      "                 4200000: 4.077396895037964,\n",
      "                 4500000: 3.27404904703144,\n",
      "                 4800000: 3.462774492101744},\n",
      " 'without_sorter': {300000: 0.23805118899326771,\n",
      "                    600000: 0.45434289099648595,\n",
      "                    900000: 0.7106432620203122,\n",
      "                    1200000: 0.9378467430360615,\n",
      "                    1500000: 1.2118219250114635,\n",
      "                    1800000: 1.4924480250338092,\n",
      "                    2100000: 1.7136654489440843,\n",
      "                    2400000: 1.9840066710021347,\n",
      "                    2700000: 2.2765264810295776,\n",
      "                    3000000: 2.584550041006878,\n",
      "                    3300000: 2.907347152940929,\n",
      "                    3600000: 3.221260695019737,\n",
      "                    3900000: 3.543570081004873,\n",
      "                    4200000: 3.642604024033062,\n",
      "                    4500000: 3.9600771020632237,\n",
      "                    4800000: 4.276618393952958}}\n"
     ]
    },
    {
     "name": "stderr",
     "output_type": "stream",
     "text": [
      " 50%|█████     | 150211/300000 [00:12<00:12, 11611.82it/s]"
     ]
    },
    {
     "name": "stdout",
     "output_type": "stream",
     "text": [
      "233280:M 09 Apr 2025 16:20:52.080 * 10000 changes in 60 seconds. Saving...\n",
      "233280:M 09 Apr 2025 16:20:52.247 * Background saving started by pid 233535\n"
     ]
    },
    {
     "name": "stderr",
     "output_type": "stream",
     "text": [
      " 77%|███████▋  | 230811/300000 [00:20<00:05, 11614.64it/s]"
     ]
    },
    {
     "name": "stdout",
     "output_type": "stream",
     "text": [
      "233535:C 09 Apr 2025 16:20:59.128 * DB saved on disk\n",
      "233535:C 09 Apr 2025 16:20:59.263 * Fork CoW for RDB: current 79 MB, peak 79 MB, average 42 MB\n"
     ]
    },
    {
     "name": "stderr",
     "output_type": "stream",
     "text": [
      " 78%|███████▊  | 235458/300000 [00:20<00:05, 11585.09it/s]"
     ]
    },
    {
     "name": "stdout",
     "output_type": "stream",
     "text": [
      "233280:M 09 Apr 2025 16:20:59.463 * Background saving terminated with success\n"
     ]
    },
    {
     "name": "stderr",
     "output_type": "stream",
     "text": [
      "100%|██████████| 300000/300000 [00:26<00:00, 11475.16it/s]\n"
     ]
    },
    {
     "name": "stdout",
     "output_type": "stream",
     "text": [
      "{'with_sorter': {300000: 0.18964799505192786,\n",
      "                 600000: 0.3917022739769891,\n",
      "                 900000: 0.566300384933129,\n",
      "                 1200000: 0.7473482619971037,\n",
      "                 1500000: 0.9958648140309379,\n",
      "                 1800000: 1.1941409799037501,\n",
      "                 2100000: 1.88969486404676,\n",
      "                 2400000: 1.5827165950322524,\n",
      "                 2700000: 1.869545312016271,\n",
      "                 3000000: 2.068169769947417,\n",
      "                 3300000: 2.412668626056984,\n",
      "                 3600000: 2.6133987059583887,\n",
      "                 3900000: 2.945143042015843,\n",
      "                 4200000: 4.077396895037964,\n",
      "                 4500000: 3.27404904703144,\n",
      "                 4800000: 3.462774492101744,\n",
      "                 5100000: 3.843257978092879},\n",
      " 'without_sorter': {300000: 0.23805118899326771,\n",
      "                    600000: 0.45434289099648595,\n",
      "                    900000: 0.7106432620203122,\n",
      "                    1200000: 0.9378467430360615,\n",
      "                    1500000: 1.2118219250114635,\n",
      "                    1800000: 1.4924480250338092,\n",
      "                    2100000: 1.7136654489440843,\n",
      "                    2400000: 1.9840066710021347,\n",
      "                    2700000: 2.2765264810295776,\n",
      "                    3000000: 2.584550041006878,\n",
      "                    3300000: 2.907347152940929,\n",
      "                    3600000: 3.221260695019737,\n",
      "                    3900000: 3.543570081004873,\n",
      "                    4200000: 3.642604024033062,\n",
      "                    4500000: 3.9600771020632237,\n",
      "                    4800000: 4.276618393952958,\n",
      "                    5100000: 4.633324646973051}}\n"
     ]
    },
    {
     "name": "stdout",
     "output_type": "stream",
     "text": [
      "233280:M 09 Apr 2025 16:22:00.095 * 10000 changes in 60 seconds. Saving...\n",
      "233280:M 09 Apr 2025 16:22:00.269 * Background saving started by pid 233539\n",
      "233539:C 09 Apr 2025 16:22:07.380 * DB saved on disk\n",
      "233539:C 09 Apr 2025 16:22:07.522 * Fork CoW for RDB: current 2 MB, peak 2 MB, average 2 MB\n",
      "233280:M 09 Apr 2025 16:22:07.793 * Background saving terminated with success\n"
     ]
    }
   ],
   "source": [
    "import timeit\n",
    "from pprint import pprint\n",
    "import json\n",
    "\n",
    "# Parameters\n",
    "#two similar queries except sorter result processor in the end of the proccessing\n",
    "query_sorted = 'FT.AGGREGATE idx * SORTBY 2 @t ASC ADDSCORES TIMEOUT 0'\n",
    "query_no_sorted= 'FT.AGGREGATE idx * ADDSCORES LOAD 1 @t  TIMEOUT 0 '\n",
    "total_docs = 5000001\n",
    "step = 300000\n",
    "num_docs = 0\n",
    "results = {\"with_sorter\": {}, \"without_sorter\": {}}\n",
    "\n",
    "def timed_query(client, label, query, num_docs):\n",
    "    t = timeit.timeit('client.execute_command(query)', globals={'client': client, 'query': query}, number=1)\n",
    "    results[label][num_docs] = t\n",
    "\n",
    "redis_client = master_redis_client\n",
    "\n",
    "while num_docs < total_docs:\n",
    "    # Populate DB (assuming this is a custom function you have)\n",
    "    populate_dbs(step, [redis_client], num_docs)\n",
    "    num_docs += step\n",
    "\n",
    "    timed_query(redis_client, \"with_sorter\", query_sorted, num_docs)\n",
    "    timed_query(redis_client, \"without_sorter\", query_no_sorted, num_docs)\n",
    "\n",
    "    with open(f\"results_sorting_{num_docs}_json\", \"w\") as f:\n",
    "        json.dump(results, f, indent=4)\n",
    "\n",
    "    # Print intermediate results\n",
    "    pprint(results)\n",
    "\n",
    "with open(\"final_results_sorting.json\", \"w\") as f:\n",
    "    json.dump(results, f, indent=4)"
   ]
  }
 ],
 "metadata": {
  "kernelspec": {
   "display_name": "Python 3",
   "language": "python",
   "name": "python3"
  },
  "language_info": {
   "codemirror_mode": {
    "name": "ipython",
    "version": 3
   },
   "file_extension": ".py",
   "mimetype": "text/x-python",
   "name": "python",
   "nbconvert_exporter": "python",
   "pygments_lexer": "ipython3",
   "version": "3.10.12"
  }
 },
 "nbformat": 4,
 "nbformat_minor": 2
}
