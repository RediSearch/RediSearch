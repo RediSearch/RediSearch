{
 "cells": [
  {
   "cell_type": "code",
   "execution_count": 1,
   "metadata": {},
   "outputs": [],
   "source": [
    "import os\n",
    "import time\n",
    "import timeit\n",
    "import redis\n",
    "from tqdm import tqdm\n",
    "from faker import Faker"
   ]
  },
  {
   "cell_type": "code",
   "execution_count": 2,
   "metadata": {},
   "outputs": [],
   "source": [
    "master_port = 6379\n",
    "branch_port = 6378"
   ]
  },
  {
   "cell_type": "code",
   "execution_count": 3,
   "metadata": {},
   "outputs": [
    {
     "name": "stdout",
     "output_type": "stream",
     "text": [
      "198127:C 07 Apr 2025 04:18:45.784 # WARNING Memory overcommit must be enabled! Without it, a background save or replication may fail under low memory condition. Being disabled, it can also cause failures without low memory condition, see https://github.com/jemalloc/jemalloc/issues/1328. To fix this issue add 'vm.overcommit_memory = 1' to /etc/sysctl.conf and then reboot or run the command 'sysctl vm.overcommit_memory=1' for this to take effect.\n",
      "198127:C 07 Apr 2025 04:18:45.784 * oO0OoO0OoO0Oo Redis is starting oO0OoO0OoO0Oo\n",
      "198127:C 07 Apr 2025 04:18:45.784 * Redis version=255.255.255, bits=64, commit=3cdb8c60, modified=0, pid=198127, just started\n",
      "198127:C 07 Apr 2025 04:18:45.784 * Configuration loaded\n",
      "198127:M 07 Apr 2025 04:18:45.784 * monotonic clock: POSIX clock_gettime\n",
      "198127:M 07 Apr 2025 04:18:45.785 * Running mode=standalone, port=6379.\n",
      "198127:M 07 Apr 2025 04:18:45.788 * <search> Redis version found by RedisSearch : 255.255.255 - oss\n",
      "198127:M 07 Apr 2025 04:18:45.788 * <search> RediSearch version 99.99.99 (Git=master-279182f7d)\n",
      "198127:M 07 Apr 2025 04:18:45.788 * <search> Low level api version 1 initialized successfully\n",
      "198127:M 07 Apr 2025 04:18:45.788 * <search> gc: ON, prefix min length: 2, min word length to stem: 4, prefix max expansions: 200, query timeout (ms): 500, timeout policy: fail, cursor read size: 1000, cursor max idle (ms): 300000, max doctable size: 1000000, max number of search results:  1000000, \n",
      "198127:M 07 Apr 2025 04:18:45.788 * <search> Initialized thread pools!\n",
      "198127:M 07 Apr 2025 04:18:45.788 * <search> Disabled workers threadpool of size 0\n",
      "198127:M 07 Apr 2025 04:18:45.788 * <search> Subscribe to config changes\n",
      "198127:M 07 Apr 2025 04:18:45.788 * <search> Enabled role change notification\n",
      "198127:M 07 Apr 2025 04:18:45.788 * <search> Cluster configuration: AUTO partitions, type: 0, coordinator timeout: 0ms\n",
      "198127:M 07 Apr 2025 04:18:45.788 * <search> Register write commands\n",
      "198127:M 07 Apr 2025 04:18:45.788 * Module 'search' loaded from /home/ubuntu/code/RediSearchClean/bin/linux-x64-debug/search-community/redisearch.so\n",
      "198127:M 07 Apr 2025 04:18:45.788 * Server initialized\n",
      "198127:M 07 Apr 2025 04:18:45.788 * Ready to accept connections tcp\n"
     ]
    },
    {
     "name": "stdout",
     "output_type": "stream",
     "text": [
      "198127:M 07 Apr 2025 04:18:50.795 * DB saved on disk\n"
     ]
    },
    {
     "data": {
      "text/plain": [
       "True"
      ]
     },
     "execution_count": 3,
     "metadata": {},
     "output_type": "execute_result"
    }
   ],
   "source": [
    "prefix = \"/home/ubuntu/code/\"\n",
    "workdir = \"RediSearchClean\"  # Master build\n",
    "\n",
    "# Remove dump file if it exists\n",
    "if os.path.exists(f\"{os.getcwd()}/dump.rdb\"):\n",
    "    os.remove(f\"{os.getcwd()}/dump.rdb\")\n",
    "\n",
    "# Start Redis server with master build\n",
    "artifact = f\"{prefix}{workdir}/bin/linux-x64-debug/search-community/redisearch.so\"\n",
    "os.system(f\"redis-server --loadmodule {artifact} --port {master_port}&\")\n",
    "time.sleep(5)  # Give Redis some time to start up\n",
    "\n",
    "# Load data into Redis\n",
    "master_redis_client = redis.Redis(host='localhost', port=master_port)\n",
    "master_redis_client.execute_command(\"FLUSHALL\")"
   ]
  },
  {
   "cell_type": "code",
   "execution_count": 4,
   "metadata": {},
   "outputs": [
    {
     "name": "stdout",
     "output_type": "stream",
     "text": [
      "198136:C 07 Apr 2025 04:18:53.397 # WARNING Memory overcommit must be enabled! Without it, a background save or replication may fail under low memory condition. Being disabled, it can also cause failures without low memory condition, see https://github.com/jemalloc/jemalloc/issues/1328. To fix this issue add 'vm.overcommit_memory = 1' to /etc/sysctl.conf and then reboot or run the command 'sysctl vm.overcommit_memory=1' for this to take effect.\n",
      "198136:C 07 Apr 2025 04:18:53.397 * oO0OoO0OoO0Oo Redis is starting oO0OoO0OoO0Oo\n",
      "198136:C 07 Apr 2025 04:18:53.397 * Redis version=255.255.255, bits=64, commit=3cdb8c60, modified=0, pid=198136, just started\n",
      "198136:C 07 Apr 2025 04:18:53.397 * Configuration loaded\n",
      "198136:M 07 Apr 2025 04:18:53.398 * monotonic clock: POSIX clock_gettime\n",
      "198136:M 07 Apr 2025 04:18:53.398 * Running mode=standalone, port=6378.\n",
      "198136:M 07 Apr 2025 04:18:53.401 * <search> Redis version found by RedisSearch : 255.255.255 - oss\n",
      "198136:M 07 Apr 2025 04:18:53.401 * <search> RediSearch version 99.99.99 (Git=ivaknin-depleting_result_processor_benchmark-eedca3287)\n",
      "198136:M 07 Apr 2025 04:18:53.401 * <search> Low level api version 1 initialized successfully\n",
      "198136:M 07 Apr 2025 04:18:53.401 * <search> gc: ON, prefix min length: 2, min word length to stem: 4, prefix max expansions: 200, query timeout (ms): 500, timeout policy: fail, cursor read size: 1000, cursor max idle (ms): 300000, max doctable size: 1000000, max number of search results:  1000000, \n",
      "198136:M 07 Apr 2025 04:18:53.401 * <search> Initialized thread pools!\n",
      "198136:M 07 Apr 2025 04:18:53.401 * <search> Disabled workers threadpool of size 0\n",
      "198136:M 07 Apr 2025 04:18:53.401 * <search> Subscribe to config changes\n",
      "198136:M 07 Apr 2025 04:18:53.401 * <search> Enabled role change notification\n",
      "198136:M 07 Apr 2025 04:18:53.401 * <search> Cluster configuration: AUTO partitions, type: 0, coordinator timeout: 0ms\n",
      "198136:M 07 Apr 2025 04:18:53.401 * <search> Register write commands\n",
      "198136:M 07 Apr 2025 04:18:53.401 * Module 'search' loaded from /home/ubuntu/code/RediSearch/bin/linux-x64-debug/search-community/redisearch.so\n",
      "198136:M 07 Apr 2025 04:18:53.402 * Server initialized\n",
      "198136:M 07 Apr 2025 04:18:53.402 * Ready to accept connections tcp\n",
      "198136:M 07 Apr 2025 04:18:58.409 * DB saved on disk\n"
     ]
    },
    {
     "data": {
      "text/plain": [
       "True"
      ]
     },
     "execution_count": 4,
     "metadata": {},
     "output_type": "execute_result"
    }
   ],
   "source": [
    "prefix = \"/home/ubuntu/code/\"\n",
    "workdir = \"RediSearch\"  # branch build\n",
    "\n",
    "# Remove dump file if it exists\n",
    "if os.path.exists(f\"{os.getcwd()}/dump.rdb\"):\n",
    "    os.remove(f\"{os.getcwd()}/dump.rdb\")\n",
    "\n",
    "# Start Redis server with master build\n",
    "artifact = f\"{prefix}{workdir}/bin/linux-x64-debug/search-community/redisearch.so\"\n",
    "os.system(f\"redis-server --loadmodule {artifact} --port {branch_port} &\")\n",
    "time.sleep(5)  # Give Redis some time to start up\n",
    "\n",
    "# Load data into Redis\n",
    "branch_redis_client = redis.Redis(host='localhost', port=branch_port)\n",
    "branch_redis_client.execute_command(\"FLUSHALL\")"
   ]
  },
  {
   "cell_type": "code",
   "execution_count": 5,
   "metadata": {},
   "outputs": [],
   "source": [
    "clients = [branch_redis_client, master_redis_client]"
   ]
  },
  {
   "cell_type": "code",
   "execution_count": 6,
   "metadata": {},
   "outputs": [
    {
     "name": "stdout",
     "output_type": "stream",
     "text": [
      "Created search index: idx\n",
      "Created search index: idx\n"
     ]
    }
   ],
   "source": [
    "\n",
    "# Create RediSearch index - updated to reflect that CID is used in doc name, not as a field\n",
    "index_cmd = f\"\"\"\n",
    "FT.CREATE idx ON HASH PREFIX 1 doc:\n",
    "SCHEMA\n",
    "    t TEXT\n",
    "\"\"\"\n",
    "for client in clients:\n",
    "    client.execute_command(index_cmd)\n",
    "    print(f\"Created search index: idx\")"
   ]
  },
  {
   "cell_type": "code",
   "execution_count": 7,
   "metadata": {},
   "outputs": [],
   "source": [
    "def populate_dbs(num_docs, clients, offset):\n",
    "    fake = Faker()\n",
    "    pipes = [c.pipeline() for c in clients]\n",
    "    for i in tqdm(range(num_docs)):\n",
    "        for pipe in pipes:\n",
    "            text = fake.sentence().encode(\"utf-8\")\n",
    "            pipe.hset(f\"doc:{i+offset}\", mapping={'t'.encode(\"utf-8\"): text})\n",
    "            if (i + 1) % 10000 == 0:  # Execute pipeline every 1000 commands\n",
    "                pipe.execute()\n",
    "        for pipe in pipes:\n",
    "            pipe.execute()"
   ]
  },
  {
   "cell_type": "code",
   "execution_count": null,
   "metadata": {},
   "outputs": [
    {
     "name": "stderr",
     "output_type": "stream",
     "text": [
      "  0%|          | 342/300000 [00:00<01:27, 3414.92it/s]"
     ]
    },
    {
     "name": "stderr",
     "output_type": "stream",
     "text": [
      " 18%|█▊        | 54243/300000 [00:13<01:09, 3537.89it/s]"
     ]
    },
    {
     "name": "stdout",
     "output_type": "stream",
     "text": [
      "198127:M 07 Apr 2025 04:19:51.042 * 10000 changes in 60 seconds. Saving...\n",
      "198127:M 07 Apr 2025 04:19:51.042 * Background saving started by pid 198218\n",
      "198218:C 07 Apr 2025 04:19:51.108 * DB saved on disk\n",
      "198218:C 07 Apr 2025 04:19:51.108 * Fork CoW for RDB: current 2 MB, peak 2 MB, average 2 MB\n",
      "198127:M 07 Apr 2025 04:19:51.143 * Background saving terminated with success\n"
     ]
    },
    {
     "name": "stderr",
     "output_type": "stream",
     "text": [
      " 29%|██▉       | 87022/300000 [00:21<00:46, 4624.56it/s]"
     ]
    },
    {
     "name": "stdout",
     "output_type": "stream",
     "text": [
      "198136:M 07 Apr 2025 04:19:59.044 * 10000 changes in 60 seconds. Saving...\n",
      "198136:M 07 Apr 2025 04:19:59.045 * Background saving started by pid 198221\n",
      "198221:C 07 Apr 2025 04:19:59.154 * DB saved on disk\n",
      "198221:C 07 Apr 2025 04:19:59.154 * Fork CoW for RDB: current 5 MB, peak 5 MB, average 3 MB\n"
     ]
    },
    {
     "name": "stderr",
     "output_type": "stream",
     "text": [
      " 29%|██▉       | 87992/300000 [00:21<00:44, 4739.06it/s]"
     ]
    },
    {
     "name": "stdout",
     "output_type": "stream",
     "text": [
      "198136:M 07 Apr 2025 04:19:59.246 * Background saving terminated with success\n"
     ]
    },
    {
     "name": "stderr",
     "output_type": "stream",
     "text": [
      " 89%|████████▉ | 267222/300000 [01:14<00:12, 2607.72it/s]"
     ]
    },
    {
     "name": "stdout",
     "output_type": "stream",
     "text": [
      "198127:M 07 Apr 2025 04:20:52.052 * 10000 changes in 60 seconds. Saving...\n",
      "198127:M 07 Apr 2025 04:20:52.055 * Background saving started by pid 198225\n"
     ]
    },
    {
     "name": "stderr",
     "output_type": "stream",
     "text": [
      " 89%|████████▉ | 268005/300000 [01:15<00:12, 2481.50it/s]"
     ]
    },
    {
     "name": "stdout",
     "output_type": "stream",
     "text": [
      "198225:C 07 Apr 2025 04:20:52.388 * DB saved on disk\n",
      "198225:C 07 Apr 2025 04:20:52.390 * Fork CoW for RDB: current 7 MB, peak 7 MB, average 4 MB\n",
      "198127:M 07 Apr 2025 04:20:52.457 * Background saving terminated with success\n"
     ]
    },
    {
     "name": "stderr",
     "output_type": "stream",
     "text": [
      " 97%|█████████▋| 290660/300000 [01:22<00:03, 2898.84it/s]"
     ]
    },
    {
     "name": "stdout",
     "output_type": "stream",
     "text": [
      "198136:M 07 Apr 2025 04:21:00.066 * 10000 changes in 60 seconds. Saving...\n",
      "198136:M 07 Apr 2025 04:21:00.068 * Background saving started by pid 198226\n"
     ]
    },
    {
     "name": "stderr",
     "output_type": "stream",
     "text": [
      " 97%|█████████▋| 291898/300000 [01:23<00:02, 3038.01it/s]"
     ]
    },
    {
     "name": "stdout",
     "output_type": "stream",
     "text": [
      "198226:C 07 Apr 2025 04:21:00.436 * DB saved on disk\n",
      "198226:C 07 Apr 2025 04:21:00.438 * Fork CoW for RDB: current 7 MB, peak 7 MB, average 4 MB\n",
      "198136:M 07 Apr 2025 04:21:00.471 * Background saving terminated with success\n"
     ]
    },
    {
     "name": "stderr",
     "output_type": "stream",
     "text": [
      "100%|██████████| 300000/300000 [01:25<00:00, 3501.51it/s]\n"
     ]
    },
    {
     "name": "stdout",
     "output_type": "stream",
     "text": [
      "198127:M 07 Apr 2025 04:22:05.960 * 10000 changes in 60 seconds. Saving...\n",
      "198127:M 07 Apr 2025 04:22:05.963 * Background saving started by pid 198230\n",
      "198230:C 07 Apr 2025 04:22:06.344 * DB saved on disk\n",
      "198230:C 07 Apr 2025 04:22:06.347 * Fork CoW for RDB: current 9 MB, peak 9 MB, average 5 MB\n",
      "198127:M 07 Apr 2025 04:22:06.366 * Background saving terminated with success\n",
      "{'branch': {300000: 65.12150288699195}, 'master': {300000: 63.05873548804084}}\n"
     ]
    },
    {
     "name": "stderr",
     "output_type": "stream",
     "text": [
      "  0%|          | 970/300000 [00:00<01:58, 2523.67it/s]"
     ]
    },
    {
     "name": "stdout",
     "output_type": "stream",
     "text": [
      "198136:M 07 Apr 2025 04:22:08.543 * 10000 changes in 60 seconds. Saving...\n",
      "198136:M 07 Apr 2025 04:22:08.549 * Background saving started by pid 198231\n"
     ]
    },
    {
     "name": "stderr",
     "output_type": "stream",
     "text": [
      "  1%|          | 2148/300000 [00:00<01:44, 2858.95it/s]"
     ]
    },
    {
     "name": "stdout",
     "output_type": "stream",
     "text": [
      "198231:C 07 Apr 2025 04:22:08.927 * DB saved on disk\n",
      "198231:C 07 Apr 2025 04:22:08.931 * Fork CoW for RDB: current 7 MB, peak 7 MB, average 4 MB\n",
      "198136:M 07 Apr 2025 04:22:08.950 * Background saving terminated with success\n"
     ]
    },
    {
     "name": "stderr",
     "output_type": "stream",
     "text": [
      " 60%|██████    | 180141/300000 [00:58<00:44, 2670.91it/s]"
     ]
    },
    {
     "name": "stdout",
     "output_type": "stream",
     "text": [
      "198127:M 07 Apr 2025 04:23:07.021 * 10000 changes in 60 seconds. Saving...\n",
      "198127:M 07 Apr 2025 04:23:07.025 * Background saving started by pid 198232\n"
     ]
    },
    {
     "name": "stderr",
     "output_type": "stream",
     "text": [
      " 61%|██████    | 181986/300000 [00:59<00:38, 3090.05it/s]"
     ]
    },
    {
     "name": "stdout",
     "output_type": "stream",
     "text": [
      "198232:C 07 Apr 2025 04:23:07.638 * DB saved on disk\n",
      "198232:C 07 Apr 2025 04:23:07.642 * Fork CoW for RDB: current 8 MB, peak 8 MB, average 5 MB\n",
      "198127:M 07 Apr 2025 04:23:07.728 * Background saving terminated with success\n"
     ]
    },
    {
     "name": "stderr",
     "output_type": "stream",
     "text": [
      " 62%|██████▏   | 186126/300000 [01:00<00:40, 2786.31it/s]"
     ]
    },
    {
     "name": "stdout",
     "output_type": "stream",
     "text": [
      "198136:M 07 Apr 2025 04:23:09.023 * 10000 changes in 60 seconds. Saving...\n",
      "198136:M 07 Apr 2025 04:23:09.029 * Background saving started by pid 198233\n"
     ]
    },
    {
     "name": "stderr",
     "output_type": "stream",
     "text": [
      " 63%|██████▎   | 187951/300000 [01:01<00:37, 2993.53it/s]"
     ]
    },
    {
     "name": "stdout",
     "output_type": "stream",
     "text": [
      "198233:C 07 Apr 2025 04:23:09.656 * DB saved on disk\n",
      "198233:C 07 Apr 2025 04:23:09.662 * Fork CoW for RDB: current 8 MB, peak 8 MB, average 5 MB\n",
      "198136:M 07 Apr 2025 04:23:09.732 * Background saving terminated with success\n"
     ]
    },
    {
     "name": "stderr",
     "output_type": "stream",
     "text": [
      "100%|██████████| 300000/300000 [01:37<00:00, 3068.92it/s]\n"
     ]
    },
    {
     "name": "stdout",
     "output_type": "stream",
     "text": [
      "198127:M 07 Apr 2025 04:25:04.810 * 10000 changes in 60 seconds. Saving...\n",
      "198127:M 07 Apr 2025 04:25:04.816 * Background saving started by pid 198237\n",
      "198237:C 07 Apr 2025 04:25:05.592 * DB saved on disk\n",
      "198237:C 07 Apr 2025 04:25:05.596 * Fork CoW for RDB: current 63 MB, peak 63 MB, average 32 MB\n",
      "198136:M 07 Apr 2025 04:25:08.553 * 10000 changes in 60 seconds. Saving...\n",
      "198136:M 07 Apr 2025 04:25:08.562 * Background saving started by pid 198238\n",
      "198238:C 07 Apr 2025 04:25:09.339 * DB saved on disk\n",
      "198238:C 07 Apr 2025 04:25:09.346 * Fork CoW for RDB: current 63 MB, peak 63 MB, average 32 MB\n",
      "198127:M 07 Apr 2025 04:26:23.989 * Background saving terminated with success\n",
      "198136:M 07 Apr 2025 04:26:31.830 * Background saving terminated with success\n",
      "{'branch': {300000: 65.12150288699195, 600000: 415.1026943270117},\n",
      " 'master': {300000: 63.05873548804084, 600000: 397.1671194770024}}\n"
     ]
    },
    {
     "name": "stderr",
     "output_type": "stream",
     "text": [
      "  3%|▎         | 10132/300000 [00:03<01:47, 2691.79it/s]"
     ]
    },
    {
     "name": "stdout",
     "output_type": "stream",
     "text": [
      "198136:M 07 Apr 2025 04:30:44.445 * 10000 changes in 60 seconds. Saving...\n",
      "198136:M 07 Apr 2025 04:30:44.457 * Background saving started by pid 198243\n",
      "198127:M 07 Apr 2025 04:30:44.507 * 10000 changes in 60 seconds. Saving...\n",
      "198127:M 07 Apr 2025 04:30:44.512 * Background saving started by pid 198244\n"
     ]
    },
    {
     "name": "stderr",
     "output_type": "stream",
     "text": [
      "  4%|▍         | 13164/300000 [00:04<01:21, 3498.62it/s]"
     ]
    },
    {
     "name": "stdout",
     "output_type": "stream",
     "text": [
      "198243:C 07 Apr 2025 04:30:45.288 * DB saved on disk\n",
      "198243:C 07 Apr 2025 04:30:45.298 * Fork CoW for RDB: current 12 MB, peak 12 MB, average 6 MB\n",
      "198136:M 07 Apr 2025 04:30:45.361 * Background saving terminated with success\n",
      "198244:C 07 Apr 2025 04:30:45.376 * DB saved on disk\n",
      "198244:C 07 Apr 2025 04:30:45.381 * Fork CoW for RDB: current 11 MB, peak 11 MB, average 6 MB\n",
      "198127:M 07 Apr 2025 04:30:45.416 * Background saving terminated with success\n"
     ]
    },
    {
     "name": "stderr",
     "output_type": "stream",
     "text": [
      " 68%|██████▊   | 203760/300000 [01:04<00:33, 2870.96it/s]"
     ]
    },
    {
     "name": "stdout",
     "output_type": "stream",
     "text": [
      "198136:M 07 Apr 2025 04:31:46.043 * 10000 changes in 60 seconds. Saving...\n",
      "198136:M 07 Apr 2025 04:31:46.055 * Background saving started by pid 198245\n",
      "198127:M 07 Apr 2025 04:31:46.097 * 10000 changes in 60 seconds. Saving...\n",
      "198127:M 07 Apr 2025 04:31:46.103 * Background saving started by pid 198246\n"
     ]
    },
    {
     "name": "stderr",
     "output_type": "stream",
     "text": [
      " 69%|██████▉   | 206675/300000 [01:06<00:33, 2778.83it/s]"
     ]
    },
    {
     "name": "stdout",
     "output_type": "stream",
     "text": [
      "198245:C 07 Apr 2025 04:31:47.136 * DB saved on disk\n",
      "198245:C 07 Apr 2025 04:31:47.147 * Fork CoW for RDB: current 12 MB, peak 12 MB, average 6 MB\n",
      "198136:M 07 Apr 2025 04:31:47.163 * Background saving terminated with success\n",
      "198246:C 07 Apr 2025 04:31:47.172 * DB saved on disk\n",
      "198246:C 07 Apr 2025 04:31:47.177 * Fork CoW for RDB: current 12 MB, peak 12 MB, average 8 MB\n",
      "198127:M 07 Apr 2025 04:31:47.209 * Background saving terminated with success\n"
     ]
    },
    {
     "name": "stderr",
     "output_type": "stream",
     "text": [
      "100%|██████████| 300000/300000 [01:35<00:00, 3148.55it/s]\n"
     ]
    },
    {
     "name": "stdout",
     "output_type": "stream",
     "text": [
      "198127:M 07 Apr 2025 04:35:29.236 * 10000 changes in 60 seconds. Saving...\n",
      "198127:M 07 Apr 2025 04:35:29.243 * Background saving started by pid 198252\n",
      "198252:C 07 Apr 2025 04:35:30.436 * DB saved on disk\n",
      "198252:C 07 Apr 2025 04:35:30.443 * Fork CoW for RDB: current 88 MB, peak 88 MB, average 49 MB\n",
      "198136:M 07 Apr 2025 04:35:54.489 * 10000 changes in 60 seconds. Saving...\n",
      "198136:M 07 Apr 2025 04:35:54.504 * Background saving started by pid 198253\n",
      "198253:C 07 Apr 2025 04:35:55.704 * DB saved on disk\n",
      "198253:C 07 Apr 2025 04:35:55.717 * Fork CoW for RDB: current 88 MB, peak 88 MB, average 44 MB\n",
      "198127:M 07 Apr 2025 04:38:42.257 * Background saving terminated with success\n",
      "198136:M 07 Apr 2025 04:39:30.258 * Background saving terminated with success\n",
      "{'branch': {300000: 65.12150288699195,\n",
      "            600000: 415.1026943270117,\n",
      "            900000: 1090.8376327499864},\n",
      " 'master': {300000: 63.05873548804084,\n",
      "            600000: 397.1671194770024,\n",
      "            900000: 967.0175513460417}}\n"
     ]
    },
    {
     "name": "stderr",
     "output_type": "stream",
     "text": [
      "  0%|          | 315/300000 [00:00<01:36, 3113.31it/s]"
     ]
    },
    {
     "name": "stdout",
     "output_type": "stream",
     "text": [
      "198127:M 07 Apr 2025 04:50:27.420 * 100 changes in 300 seconds. Saving...\n",
      "198127:M 07 Apr 2025 04:50:27.426 * Background saving started by pid 198260\n",
      "198136:M 07 Apr 2025 04:50:27.449 * 100 changes in 300 seconds. Saving...\n",
      "198136:M 07 Apr 2025 04:50:27.469 * Background saving started by pid 198261\n"
     ]
    },
    {
     "name": "stderr",
     "output_type": "stream",
     "text": [
      "  1%|          | 3415/300000 [00:01<01:47, 2759.73it/s]"
     ]
    },
    {
     "name": "stdout",
     "output_type": "stream",
     "text": [
      "198260:C 07 Apr 2025 04:50:28.621 * DB saved on disk\n",
      "198260:C 07 Apr 2025 04:50:28.627 * Fork CoW for RDB: current 12 MB, peak 12 MB, average 8 MB\n",
      "198261:C 07 Apr 2025 04:50:28.675 * DB saved on disk\n",
      "198261:C 07 Apr 2025 04:50:28.692 * Fork CoW for RDB: current 13 MB, peak 13 MB, average 7 MB\n",
      "198127:M 07 Apr 2025 04:50:28.733 * Background saving terminated with success\n",
      "198136:M 07 Apr 2025 04:50:28.776 * Background saving terminated with success\n"
     ]
    },
    {
     "name": "stderr",
     "output_type": "stream",
     "text": [
      " 60%|██████    | 180772/300000 [01:01<00:54, 2177.72it/s]"
     ]
    },
    {
     "name": "stdout",
     "output_type": "stream",
     "text": [
      "198127:M 07 Apr 2025 04:51:29.036 * 10000 changes in 60 seconds. Saving...\n",
      "198127:M 07 Apr 2025 04:51:29.044 * Background saving started by pid 198262\n",
      "198136:M 07 Apr 2025 04:51:29.082 * 10000 changes in 60 seconds. Saving...\n",
      "198136:M 07 Apr 2025 04:51:29.102 * Background saving started by pid 198263\n"
     ]
    },
    {
     "name": "stderr",
     "output_type": "stream",
     "text": [
      " 61%|██████▏   | 184115/300000 [01:03<00:49, 2363.94it/s]"
     ]
    },
    {
     "name": "stdout",
     "output_type": "stream",
     "text": [
      "198262:C 07 Apr 2025 04:51:30.515 * DB saved on disk\n",
      "198262:C 07 Apr 2025 04:51:30.522 * Fork CoW for RDB: current 15 MB, peak 15 MB, average 10 MB\n",
      "198127:M 07 Apr 2025 04:51:30.552 * Background saving terminated with success\n",
      "198263:C 07 Apr 2025 04:51:30.585 * DB saved on disk\n",
      "198263:C 07 Apr 2025 04:51:30.602 * Fork CoW for RDB: current 16 MB, peak 16 MB, average 8 MB\n",
      "198136:M 07 Apr 2025 04:51:30.712 * Background saving terminated with success\n"
     ]
    },
    {
     "name": "stderr",
     "output_type": "stream",
     "text": [
      "100%|██████████| 300000/300000 [01:42<00:00, 2930.58it/s]\n"
     ]
    },
    {
     "name": "stdout",
     "output_type": "stream",
     "text": [
      "198127:M 07 Apr 2025 04:58:12.889 * 100 changes in 300 seconds. Saving...\n",
      "198127:M 07 Apr 2025 04:58:12.899 * Background saving started by pid 198268\n",
      "198268:C 07 Apr 2025 04:58:14.518 * DB saved on disk\n",
      "198268:C 07 Apr 2025 04:58:14.526 * Fork CoW for RDB: current 116 MB, peak 116 MB, average 49 MB\n",
      "198136:M 07 Apr 2025 04:58:16.508 * 100 changes in 300 seconds. Saving...\n",
      "198136:M 07 Apr 2025 04:58:16.531 * Background saving started by pid 198269\n",
      "198269:C 07 Apr 2025 04:58:18.141 * DB saved on disk\n",
      "198269:C 07 Apr 2025 04:58:18.161 * Fork CoW for RDB: current 116 MB, peak 116 MB, average 58 MB\n",
      "198127:M 07 Apr 2025 05:04:17.756 * Background saving terminated with success\n",
      "198136:M 07 Apr 2025 05:04:25.750 * Background saving terminated with success\n",
      "{'branch': {300000: 65.12150288699195,\n",
      "            600000: 415.1026943270117,\n",
      "            900000: 1090.8376327499864,\n",
      "            1200000: 1843.9285084189614},\n",
      " 'master': {300000: 63.05873548804084,\n",
      "            600000: 397.1671194770024,\n",
      "            900000: 967.0175513460417,\n",
      "            1200000: 1823.5350071869907}}\n"
     ]
    },
    {
     "name": "stderr",
     "output_type": "stream",
     "text": [
      "  0%|          | 309/300000 [00:00<01:37, 3082.76it/s]"
     ]
    },
    {
     "name": "stdout",
     "output_type": "stream",
     "text": [
      "198136:M 07 Apr 2025 05:22:53.740 * 100 changes in 300 seconds. Saving...\n",
      "198127:M 07 Apr 2025 05:22:53.756 * 100 changes in 300 seconds. Saving...\n",
      "198127:M 07 Apr 2025 05:22:53.765 * Background saving started by pid 199044\n",
      "198136:M 07 Apr 2025 05:22:53.769 * Background saving started by pid 199045\n"
     ]
    },
    {
     "name": "stderr",
     "output_type": "stream",
     "text": [
      "  2%|▏         | 5186/300000 [00:01<01:25, 3461.84it/s]"
     ]
    },
    {
     "name": "stdout",
     "output_type": "stream",
     "text": [
      "199044:C 07 Apr 2025 05:22:55.394 * DB saved on disk\n",
      "199044:C 07 Apr 2025 05:22:55.402 * Fork CoW for RDB: current 18 MB, peak 18 MB, average 11 MB\n",
      "199045:C 07 Apr 2025 05:22:55.446 * DB saved on disk\n",
      "199045:C 07 Apr 2025 05:22:55.472 * Fork CoW for RDB: current 23 MB, peak 23 MB, average 12 MB\n",
      "198127:M 07 Apr 2025 05:22:55.472 * Background saving terminated with success\n",
      "198136:M 07 Apr 2025 05:22:55.576 * Background saving terminated with success\n"
     ]
    },
    {
     "name": "stderr",
     "output_type": "stream",
     "text": [
      " 65%|██████▌   | 195267/300000 [01:02<00:37, 2776.56it/s]"
     ]
    },
    {
     "name": "stdout",
     "output_type": "stream",
     "text": [
      "198127:M 07 Apr 2025 05:23:56.021 * 10000 changes in 60 seconds. Saving...\n",
      "198136:M 07 Apr 2025 05:23:56.025 * 10000 changes in 60 seconds. Saving...\n",
      "198127:M 07 Apr 2025 05:23:56.031 * Background saving started by pid 199046\n",
      "198136:M 07 Apr 2025 05:23:56.055 * Background saving started by pid 199047\n"
     ]
    },
    {
     "name": "stderr",
     "output_type": "stream",
     "text": [
      " 67%|██████▋   | 200389/300000 [01:04<00:31, 3212.63it/s]"
     ]
    },
    {
     "name": "stdout",
     "output_type": "stream",
     "text": [
      "199046:C 07 Apr 2025 05:23:57.916 * DB saved on disk\n",
      "199046:C 07 Apr 2025 05:23:57.925 * Fork CoW for RDB: current 19 MB, peak 19 MB, average 11 MB\n",
      "198127:M 07 Apr 2025 05:23:57.941 * Background saving terminated with success\n",
      "199047:C 07 Apr 2025 05:23:57.946 * DB saved on disk\n",
      "199047:C 07 Apr 2025 05:23:57.970 * Fork CoW for RDB: current 19 MB, peak 19 MB, average 10 MB\n",
      "198136:M 07 Apr 2025 05:23:58.063 * Background saving terminated with success\n"
     ]
    },
    {
     "name": "stderr",
     "output_type": "stream",
     "text": [
      "100%|██████████| 300000/300000 [01:36<00:00, 3121.67it/s]\n"
     ]
    },
    {
     "name": "stdout",
     "output_type": "stream",
     "text": [
      "198127:M 07 Apr 2025 05:34:06.309 * 100 changes in 300 seconds. Saving...\n",
      "198127:M 07 Apr 2025 05:34:06.321 * Background saving started by pid 199054\n",
      "199054:C 07 Apr 2025 05:34:08.389 * DB saved on disk\n",
      "199054:C 07 Apr 2025 05:34:08.398 * Fork CoW for RDB: current 145 MB, peak 145 MB, average 82 MB\n",
      "198136:M 07 Apr 2025 05:34:11.410 * 100 changes in 300 seconds. Saving...\n",
      "198136:M 07 Apr 2025 05:34:11.442 * Background saving started by pid 199055\n",
      "199055:C 07 Apr 2025 05:34:13.474 * DB saved on disk\n",
      "199055:C 07 Apr 2025 05:34:13.502 * Fork CoW for RDB: current 145 MB, peak 145 MB, average 73 MB\n",
      "198127:M 07 Apr 2025 05:43:43.933 * Background saving terminated with success\n",
      "198136:M 07 Apr 2025 05:43:55.059 * Background saving terminated with success\n",
      "{'branch': {300000: 65.12150288699195,\n",
      "            600000: 415.1026943270117,\n",
      "            900000: 1090.8376327499864,\n",
      "            1200000: 1843.9285084189614,\n",
      "            1500000: 2916.6864096330246},\n",
      " 'master': {300000: 63.05873548804084,\n",
      "            600000: 397.1671194770024,\n",
      "            900000: 967.0175513460417,\n",
      "            1200000: 1823.5350071869907,\n",
      "            1500000: 2887.702397021989}}\n"
     ]
    },
    {
     "name": "stderr",
     "output_type": "stream",
     "text": [
      "  0%|          | 112/300000 [00:00<04:29, 1114.34it/s]"
     ]
    },
    {
     "name": "stdout",
     "output_type": "stream",
     "text": [
      "198127:M 07 Apr 2025 06:13:06.467 * 100 changes in 300 seconds. Saving...\n",
      "198127:M 07 Apr 2025 06:13:06.478 * Background saving started by pid 199137\n",
      "198136:M 07 Apr 2025 06:13:06.480 * 100 changes in 300 seconds. Saving...\n",
      "198136:M 07 Apr 2025 06:13:06.519 * Background saving started by pid 199138\n"
     ]
    },
    {
     "name": "stderr",
     "output_type": "stream",
     "text": [
      "  2%|▏         | 4885/300000 [00:02<01:41, 2900.10it/s]"
     ]
    },
    {
     "name": "stdout",
     "output_type": "stream",
     "text": [
      "199137:C 07 Apr 2025 06:13:08.522 * DB saved on disk\n",
      "199137:C 07 Apr 2025 06:13:08.531 * Fork CoW for RDB: current 19 MB, peak 19 MB, average 14 MB\n",
      "199138:C 07 Apr 2025 06:13:08.567 * DB saved on disk\n",
      "198127:M 07 Apr 2025 06:13:08.588 * Background saving terminated with success\n",
      "199138:C 07 Apr 2025 06:13:08.600 * Fork CoW for RDB: current 26 MB, peak 26 MB, average 14 MB\n"
     ]
    },
    {
     "name": "stderr",
     "output_type": "stream",
     "text": [
      "  2%|▏         | 5525/300000 [00:02<01:36, 3036.89it/s]"
     ]
    },
    {
     "name": "stdout",
     "output_type": "stream",
     "text": [
      "198136:M 07 Apr 2025 06:13:08.728 * Background saving terminated with success\n"
     ]
    },
    {
     "name": "stderr",
     "output_type": "stream",
     "text": [
      " 62%|██████▏   | 184748/300000 [01:02<00:50, 2292.11it/s]"
     ]
    },
    {
     "name": "stdout",
     "output_type": "stream",
     "text": [
      "198136:M 07 Apr 2025 06:14:09.012 * 10000 changes in 60 seconds. Saving...\n",
      "198136:M 07 Apr 2025 06:14:09.053 * Background saving started by pid 199145\n",
      "198127:M 07 Apr 2025 06:14:09.078 * 10000 changes in 60 seconds. Saving...\n",
      "198127:M 07 Apr 2025 06:14:09.089 * Background saving started by pid 199146\n"
     ]
    },
    {
     "name": "stderr",
     "output_type": "stream",
     "text": [
      " 64%|██████▎   | 190946/300000 [01:05<00:29, 3679.17it/s]"
     ]
    },
    {
     "name": "stdout",
     "output_type": "stream",
     "text": [
      "199145:C 07 Apr 2025 06:14:11.380 * DB saved on disk\n",
      "199146:C 07 Apr 2025 06:14:11.410 * DB saved on disk\n",
      "199145:C 07 Apr 2025 06:14:11.415 * Fork CoW for RDB: current 20 MB, peak 20 MB, average 11 MB\n",
      "199146:C 07 Apr 2025 06:14:11.420 * Fork CoW for RDB: current 20 MB, peak 20 MB, average 12 MB\n",
      "198136:M 07 Apr 2025 06:14:11.463 * Background saving terminated with success\n",
      "198127:M 07 Apr 2025 06:14:11.499 * Background saving terminated with success\n"
     ]
    },
    {
     "name": "stderr",
     "output_type": "stream",
     "text": [
      "100%|██████████| 300000/300000 [01:41<00:00, 2944.94it/s]\n"
     ]
    },
    {
     "name": "stdout",
     "output_type": "stream",
     "text": [
      "198136:M 07 Apr 2025 06:29:21.568 * 100 changes in 300 seconds. Saving...\n",
      "198136:M 07 Apr 2025 06:29:21.612 * Background saving started by pid 199237\n",
      "199237:C 07 Apr 2025 06:29:24.068 * DB saved on disk\n",
      "199237:C 07 Apr 2025 06:29:24.106 * Fork CoW for RDB: current 173 MB, peak 173 MB, average 88 MB\n",
      "198127:M 07 Apr 2025 06:30:08.206 * 100 changes in 300 seconds. Saving...\n",
      "198127:M 07 Apr 2025 06:30:08.220 * Background saving started by pid 199240\n",
      "199240:C 07 Apr 2025 06:30:10.691 * DB saved on disk\n",
      "199240:C 07 Apr 2025 06:30:10.702 * Fork CoW for RDB: current 173 MB, peak 173 MB, average 98 MB\n",
      "198136:M 07 Apr 2025 06:43:56.484 * Background saving terminated with success\n",
      "198127:M 07 Apr 2025 06:45:29.804 * Background saving terminated with success\n",
      "{'branch': {300000: 65.12150288699195,\n",
      "            600000: 415.1026943270117,\n",
      "            900000: 1090.8376327499864,\n",
      "            1200000: 1843.9285084189614,\n",
      "            1500000: 2916.6864096330246,\n",
      "            1800000: 4375.149696146022},\n",
      " 'master': {300000: 63.05873548804084,\n",
      "            600000: 397.1671194770024,\n",
      "            900000: 967.0175513460417,\n",
      "            1200000: 1823.5350071869907,\n",
      "            1500000: 2887.702397021989,\n",
      "            1800000: 4592.402185579995}}\n"
     ]
    },
    {
     "name": "stderr",
     "output_type": "stream",
     "text": [
      "  0%|          | 256/300000 [00:00<01:57, 2554.30it/s]"
     ]
    },
    {
     "name": "stdout",
     "output_type": "stream",
     "text": [
      "198127:M 07 Apr 2025 07:31:20.746 * 100 changes in 300 seconds. Saving...\n",
      "198127:M 07 Apr 2025 07:31:20.759 * Background saving started by pid 199584\n",
      "198136:M 07 Apr 2025 07:31:20.803 * 100 changes in 300 seconds. Saving...\n",
      "198136:M 07 Apr 2025 07:31:20.853 * Background saving started by pid 199585\n"
     ]
    },
    {
     "name": "stderr",
     "output_type": "stream",
     "text": [
      "  3%|▎         | 7627/300000 [00:02<01:33, 3122.63it/s]"
     ]
    },
    {
     "name": "stdout",
     "output_type": "stream",
     "text": [
      "199584:C 07 Apr 2025 07:31:23.224 * DB saved on disk\n",
      "199584:C 07 Apr 2025 07:31:23.235 * Fork CoW for RDB: current 33 MB, peak 33 MB, average 22 MB\n",
      "198127:M 07 Apr 2025 07:31:23.266 * Background saving terminated with success\n",
      "199585:C 07 Apr 2025 07:31:23.321 * DB saved on disk\n",
      "199585:C 07 Apr 2025 07:31:23.364 * Fork CoW for RDB: current 22 MB, peak 22 MB, average 12 MB\n"
     ]
    },
    {
     "name": "stderr",
     "output_type": "stream",
     "text": [
      "  3%|▎         | 8420/300000 [00:02<01:31, 3192.64it/s]"
     ]
    },
    {
     "name": "stdout",
     "output_type": "stream",
     "text": [
      "198136:M 07 Apr 2025 07:31:23.462 * Background saving terminated with success\n"
     ]
    },
    {
     "name": "stderr",
     "output_type": "stream",
     "text": [
      " 67%|██████▋   | 200897/300000 [01:03<00:43, 2298.80it/s]"
     ]
    },
    {
     "name": "stdout",
     "output_type": "stream",
     "text": [
      "198136:M 07 Apr 2025 07:32:24.011 * 10000 changes in 60 seconds. Saving...\n",
      "198127:M 07 Apr 2025 07:32:24.013 * 10000 changes in 60 seconds. Saving...\n",
      "198127:M 07 Apr 2025 07:32:24.028 * Background saving started by pid 199588\n",
      "198136:M 07 Apr 2025 07:32:24.064 * Background saving started by pid 199589\n"
     ]
    },
    {
     "name": "stderr",
     "output_type": "stream",
     "text": [
      " 69%|██████▉   | 207634/300000 [01:06<00:30, 3038.27it/s]"
     ]
    },
    {
     "name": "stdout",
     "output_type": "stream",
     "text": [
      "199588:C 07 Apr 2025 07:32:26.765 * DB saved on disk\n",
      "199588:C 07 Apr 2025 07:32:26.777 * Fork CoW for RDB: current 21 MB, peak 21 MB, average 14 MB\n",
      "199589:C 07 Apr 2025 07:32:26.812 * DB saved on disk\n",
      "198127:M 07 Apr 2025 07:32:26.843 * Background saving terminated with success\n",
      "199589:C 07 Apr 2025 07:32:26.856 * Fork CoW for RDB: current 21 MB, peak 21 MB, average 11 MB\n"
     ]
    },
    {
     "name": "stderr",
     "output_type": "stream",
     "text": [
      " 69%|██████▉   | 208438/300000 [01:06<00:26, 3491.85it/s]"
     ]
    },
    {
     "name": "stdout",
     "output_type": "stream",
     "text": [
      "198136:M 07 Apr 2025 07:32:26.976 * Background saving terminated with success\n"
     ]
    },
    {
     "name": "stderr",
     "output_type": "stream",
     "text": [
      "100%|██████████| 300000/300000 [01:36<00:00, 3122.91it/s]\n"
     ]
    },
    {
     "name": "stdout",
     "output_type": "stream",
     "text": [
      "198136:M 07 Apr 2025 07:51:18.084 * 100 changes in 300 seconds. Saving...\n",
      "198136:M 07 Apr 2025 07:51:18.140 * Background saving started by pid 199774\n",
      "199774:C 07 Apr 2025 07:51:21.047 * DB saved on disk\n",
      "199774:C 07 Apr 2025 07:51:21.095 * Fork CoW for RDB: current 201 MB, peak 201 MB, average 102 MB\n",
      "198127:M 07 Apr 2025 07:52:27.024 * 100 changes in 300 seconds. Saving...\n",
      "198127:M 07 Apr 2025 07:52:27.040 * Background saving started by pid 199775\n",
      "199775:C 07 Apr 2025 07:52:29.950 * DB saved on disk\n",
      "199775:C 07 Apr 2025 07:52:29.964 * Fork CoW for RDB: current 201 MB, peak 201 MB, average 84 MB\n",
      "198136:M 07 Apr 2025 08:09:45.180 * Background saving terminated with success\n",
      "198127:M 07 Apr 2025 08:11:59.548 * Background saving terminated with success\n",
      "{'branch': {300000: 65.12150288699195,\n",
      "            600000: 415.1026943270117,\n",
      "            900000: 1090.8376327499864,\n",
      "            1200000: 1843.9285084189614,\n",
      "            1500000: 2916.6864096330246,\n",
      "            1800000: 4375.149696146022,\n",
      "            2100000: 5528.301877536986},\n",
      " 'master': {300000: 63.05873548804084,\n",
      "            600000: 397.1671194770024,\n",
      "            900000: 967.0175513460417,\n",
      "            1200000: 1823.5350071869907,\n",
      "            1500000: 2887.702397021989,\n",
      "            1800000: 4592.402185579995,\n",
      "            2100000: 5854.325080537994}}\n"
     ]
    },
    {
     "name": "stderr",
     "output_type": "stream",
     "text": [
      "  0%|          | 180/300000 [00:00<02:46, 1798.90it/s]"
     ]
    },
    {
     "name": "stdout",
     "output_type": "stream",
     "text": [
      "198127:M 07 Apr 2025 09:10:31.137 * 100 changes in 300 seconds. Saving...\n",
      "198127:M 07 Apr 2025 09:10:31.153 * Background saving started by pid 200004\n",
      "198136:M 07 Apr 2025 09:10:31.190 * 1 changes in 3600 seconds. Saving...\n",
      "198136:M 07 Apr 2025 09:10:31.254 * Background saving started by pid 200005\n"
     ]
    },
    {
     "name": "stderr",
     "output_type": "stream",
     "text": [
      "  3%|▎         | 7931/300000 [00:03<01:27, 3343.04it/s]"
     ]
    },
    {
     "name": "stdout",
     "output_type": "stream",
     "text": [
      "200004:C 07 Apr 2025 09:10:34.040 * DB saved on disk\n",
      "200004:C 07 Apr 2025 09:10:34.054 * Fork CoW for RDB: current 33 MB, peak 33 MB, average 19 MB\n",
      "198127:M 07 Apr 2025 09:10:34.165 * Background saving terminated with success\n",
      "200005:C 07 Apr 2025 09:10:34.210 * DB saved on disk\n"
     ]
    },
    {
     "name": "stderr",
     "output_type": "stream",
     "text": [
      "  3%|▎         | 8820/300000 [00:03<01:14, 3925.44it/s]"
     ]
    },
    {
     "name": "stdout",
     "output_type": "stream",
     "text": [
      "200005:C 07 Apr 2025 09:10:34.270 * Fork CoW for RDB: current 29 MB, peak 29 MB, average 15 MB\n",
      "198136:M 07 Apr 2025 09:10:34.366 * Background saving terminated with success\n"
     ]
    },
    {
     "name": "stderr",
     "output_type": "stream",
     "text": [
      " 65%|██████▍   | 194998/300000 [01:04<00:42, 2498.15it/s]"
     ]
    },
    {
     "name": "stdout",
     "output_type": "stream",
     "text": [
      "198136:M 07 Apr 2025 09:11:35.047 * 10000 changes in 60 seconds. Saving...\n",
      "198127:M 07 Apr 2025 09:11:35.077 * 10000 changes in 60 seconds. Saving...\n",
      "198127:M 07 Apr 2025 09:11:35.092 * Background saving started by pid 200026\n",
      "198136:M 07 Apr 2025 09:11:35.112 * Background saving started by pid 200027\n"
     ]
    },
    {
     "name": "stderr",
     "output_type": "stream",
     "text": [
      " 68%|██████▊   | 203914/300000 [01:07<00:27, 3435.19it/s]"
     ]
    },
    {
     "name": "stdout",
     "output_type": "stream",
     "text": [
      "200026:C 07 Apr 2025 09:11:38.253 * DB saved on disk\n",
      "200026:C 07 Apr 2025 09:11:38.267 * Fork CoW for RDB: current 29 MB, peak 29 MB, average 18 MB\n",
      "198127:M 07 Apr 2025 09:11:38.305 * Background saving terminated with success\n",
      "200027:C 07 Apr 2025 09:11:38.312 * DB saved on disk\n",
      "200027:C 07 Apr 2025 09:11:38.368 * Fork CoW for RDB: current 29 MB, peak 29 MB, average 15 MB\n"
     ]
    },
    {
     "name": "stderr",
     "output_type": "stream",
     "text": [
      " 68%|██████▊   | 204643/300000 [01:07<00:26, 3532.35it/s]"
     ]
    },
    {
     "name": "stdout",
     "output_type": "stream",
     "text": [
      "198136:M 07 Apr 2025 09:11:38.523 * Background saving terminated with success\n"
     ]
    },
    {
     "name": "stderr",
     "output_type": "stream",
     "text": [
      "100%|██████████| 300000/300000 [01:36<00:00, 3103.64it/s]\n"
     ]
    },
    {
     "name": "stdout",
     "output_type": "stream",
     "text": [
      "198136:M 07 Apr 2025 09:36:55.232 * 100 changes in 300 seconds. Saving...\n",
      "198136:M 07 Apr 2025 09:36:55.301 * Background saving started by pid 200515\n",
      "200515:C 07 Apr 2025 09:36:58.681 * DB saved on disk\n",
      "200515:C 07 Apr 2025 09:36:58.741 * Fork CoW for RDB: current 230 MB, peak 230 MB, average 116 MB\n",
      "198127:M 07 Apr 2025 09:37:40.746 * 100 changes in 300 seconds. Saving...\n",
      "198127:M 07 Apr 2025 09:37:40.763 * Background saving started by pid 200529\n",
      "200529:C 07 Apr 2025 09:37:44.043 * DB saved on disk\n",
      "200529:C 07 Apr 2025 09:37:44.058 * Fork CoW for RDB: current 230 MB, peak 230 MB, average 97 MB\n",
      "198136:M 07 Apr 2025 10:01:46.400 * Background saving terminated with success\n",
      "198127:M 07 Apr 2025 10:03:18.552 * Background saving terminated with success\n",
      "{'branch': {300000: 65.12150288699195,\n",
      "            600000: 415.1026943270117,\n",
      "            900000: 1090.8376327499864,\n",
      "            1200000: 1843.9285084189614,\n",
      "            1500000: 2916.6864096330246,\n",
      "            1800000: 4375.149696146022,\n",
      "            2100000: 5528.301877536986,\n",
      "            2400000: 7462.214869100018},\n",
      " 'master': {300000: 63.05873548804084,\n",
      "            600000: 397.1671194770024,\n",
      "            900000: 967.0175513460417,\n",
      "            1200000: 1823.5350071869907,\n",
      "            1500000: 2887.702397021989,\n",
      "            1800000: 4592.402185579995,\n",
      "            2100000: 5854.325080537994,\n",
      "            2400000: 7679.0672482129885}}\n"
     ]
    },
    {
     "name": "stderr",
     "output_type": "stream",
     "text": [
      "  0%|          | 179/300000 [00:00<04:15, 1175.10it/s]"
     ]
    },
    {
     "name": "stdout",
     "output_type": "stream",
     "text": [
      "198127:M 07 Apr 2025 11:20:06.848 * 1 changes in 3600 seconds. Saving...\n",
      "198127:M 07 Apr 2025 11:20:06.866 * Background saving started by pid 201202\n",
      "198136:M 07 Apr 2025 11:20:06.895 * 1 changes in 3600 seconds. Saving...\n",
      "198136:M 07 Apr 2025 11:20:06.973 * Background saving started by pid 201203\n"
     ]
    },
    {
     "name": "stderr",
     "output_type": "stream",
     "text": [
      "  4%|▍         | 11865/300000 [00:03<01:20, 3561.57it/s]"
     ]
    },
    {
     "name": "stdout",
     "output_type": "stream",
     "text": [
      "201202:C 07 Apr 2025 11:20:10.196 * DB saved on disk\n",
      "201202:C 07 Apr 2025 11:20:10.211 * Fork CoW for RDB: current 61 MB, peak 61 MB, average 35 MB\n",
      "198127:M 07 Apr 2025 11:20:10.277 * Background saving terminated with success\n",
      "201203:C 07 Apr 2025 11:20:10.313 * DB saved on disk\n",
      "201203:C 07 Apr 2025 11:20:10.379 * Fork CoW for RDB: current 35 MB, peak 35 MB, average 19 MB\n"
     ]
    },
    {
     "name": "stderr",
     "output_type": "stream",
     "text": [
      "  4%|▍         | 13077/300000 [00:03<01:15, 3817.54it/s]"
     ]
    },
    {
     "name": "stdout",
     "output_type": "stream",
     "text": [
      "198136:M 07 Apr 2025 11:20:10.484 * Background saving terminated with success\n"
     ]
    },
    {
     "name": "stderr",
     "output_type": "stream",
     "text": [
      " 72%|███████▏  | 216642/300000 [01:04<00:33, 2487.93it/s]"
     ]
    },
    {
     "name": "stdout",
     "output_type": "stream",
     "text": [
      "198127:M 07 Apr 2025 11:21:11.031 * 10000 changes in 60 seconds. Saving...\n",
      "198136:M 07 Apr 2025 11:21:11.035 * 10000 changes in 60 seconds. Saving...\n",
      "198127:M 07 Apr 2025 11:21:11.050 * Background saving started by pid 201205\n",
      "198136:M 07 Apr 2025 11:21:11.114 * Background saving started by pid 201206\n"
     ]
    },
    {
     "name": "stderr",
     "output_type": "stream",
     "text": [
      " 75%|███████▌  | 225161/300000 [01:08<00:23, 3193.62it/s]"
     ]
    },
    {
     "name": "stdout",
     "output_type": "stream",
     "text": [
      "201205:C 07 Apr 2025 11:21:14.650 * DB saved on disk\n",
      "201205:C 07 Apr 2025 11:21:14.666 * Fork CoW for RDB: current 29 MB, peak 29 MB, average 17 MB\n",
      "201206:C 07 Apr 2025 11:21:14.725 * DB saved on disk\n",
      "198127:M 07 Apr 2025 11:21:14.768 * Background saving terminated with success\n",
      "201206:C 07 Apr 2025 11:21:14.792 * Fork CoW for RDB: current 30 MB, peak 30 MB, average 16 MB\n"
     ]
    },
    {
     "name": "stderr",
     "output_type": "stream",
     "text": [
      " 75%|███████▌  | 226045/300000 [01:08<00:19, 3779.39it/s]"
     ]
    },
    {
     "name": "stdout",
     "output_type": "stream",
     "text": [
      "198136:M 07 Apr 2025 11:21:14.933 * Background saving terminated with success\n"
     ]
    },
    {
     "name": "stderr",
     "output_type": "stream",
     "text": [
      "100%|██████████| 300000/300000 [01:31<00:00, 3275.95it/s]\n"
     ]
    },
    {
     "name": "stdout",
     "output_type": "stream",
     "text": [
      "198136:M 07 Apr 2025 11:53:14.652 * 100 changes in 300 seconds. Saving...\n",
      "198136:M 07 Apr 2025 11:53:14.735 * Background saving started by pid 201531\n",
      "201531:C 07 Apr 2025 11:53:18.522 * DB saved on disk\n",
      "201531:C 07 Apr 2025 11:53:18.594 * Fork CoW for RDB: current 258 MB, peak 258 MB, average 131 MB\n",
      "198127:M 07 Apr 2025 11:54:17.173 * 100 changes in 300 seconds. Saving...\n",
      "198127:M 07 Apr 2025 11:54:17.193 * Background saving started by pid 201533\n",
      "201533:C 07 Apr 2025 11:54:20.907 * DB saved on disk\n",
      "201533:C 07 Apr 2025 11:54:20.924 * Fork CoW for RDB: current 258 MB, peak 258 MB, average 108 MB\n",
      "198136:M 07 Apr 2025 12:24:59.550 * Background saving terminated with success\n",
      "198127:M 07 Apr 2025 12:26:56.699 * Background saving terminated with success\n",
      "{'branch': {300000: 65.12150288699195,\n",
      "            600000: 415.1026943270117,\n",
      "            900000: 1090.8376327499864,\n",
      "            1200000: 1843.9285084189614,\n",
      "            1500000: 2916.6864096330246,\n",
      "            1800000: 4375.149696146022,\n",
      "            2100000: 5528.301877536986,\n",
      "            2400000: 7462.214869100018,\n",
      "            2700000: 9503.67331133096},\n",
      " 'master': {300000: 63.05873548804084,\n",
      "            600000: 397.1671194770024,\n",
      "            900000: 967.0175513460417,\n",
      "            1200000: 1823.5350071869907,\n",
      "            1500000: 2887.702397021989,\n",
      "            1800000: 4592.402185579995,\n",
      "            2100000: 5854.325080537994,\n",
      "            2400000: 7679.0672482129885,\n",
      "            2700000: 9778.66795966}}\n"
     ]
    },
    {
     "name": "stderr",
     "output_type": "stream",
     "text": [
      "  0%|          | 163/300000 [00:00<05:48, 861.28it/s]"
     ]
    },
    {
     "name": "stdout",
     "output_type": "stream",
     "text": [
      "198127:M 07 Apr 2025 14:04:37.097 * 1 changes in 3600 seconds. Saving...\n",
      "198127:M 07 Apr 2025 14:04:37.117 * Background saving started by pid 201867\n",
      "198136:M 07 Apr 2025 14:04:37.164 * 1 changes in 3600 seconds. Saving...\n",
      "198136:M 07 Apr 2025 14:04:37.258 * Background saving started by pid 201868\n"
     ]
    },
    {
     "name": "stderr",
     "output_type": "stream",
     "text": [
      "  3%|▎         | 8941/300000 [00:03<01:51, 2599.95it/s]"
     ]
    },
    {
     "name": "stdout",
     "output_type": "stream",
     "text": [
      "201867:C 07 Apr 2025 14:04:40.863 * DB saved on disk\n",
      "201867:C 07 Apr 2025 14:04:40.879 * Fork CoW for RDB: current 67 MB, peak 67 MB, average 36 MB\n",
      "198127:M 07 Apr 2025 14:04:40.934 * Background saving terminated with success\n",
      "201868:C 07 Apr 2025 14:04:41.012 * DB saved on disk\n"
     ]
    },
    {
     "name": "stderr",
     "output_type": "stream",
     "text": [
      "  3%|▎         | 10211/300000 [00:04<01:19, 3646.42it/s]"
     ]
    },
    {
     "name": "stdout",
     "output_type": "stream",
     "text": [
      "201868:C 07 Apr 2025 14:04:41.093 * Fork CoW for RDB: current 31 MB, peak 31 MB, average 17 MB\n",
      "198136:M 07 Apr 2025 14:04:41.274 * Background saving terminated with success\n"
     ]
    },
    {
     "name": "stderr",
     "output_type": "stream",
     "text": [
      " 65%|██████▌   | 196100/300000 [01:04<00:42, 2467.42it/s]"
     ]
    },
    {
     "name": "stdout",
     "output_type": "stream",
     "text": [
      "198127:M 07 Apr 2025 14:05:41.015 * 10000 changes in 60 seconds. Saving...\n",
      "198127:M 07 Apr 2025 14:05:41.035 * Background saving started by pid 201870\n"
     ]
    },
    {
     "name": "stderr",
     "output_type": "stream",
     "text": [
      " 66%|██████▌   | 198358/300000 [01:05<00:57, 1771.46it/s]"
     ]
    },
    {
     "name": "stdout",
     "output_type": "stream",
     "text": [
      "198136:M 07 Apr 2025 14:05:42.059 * 10000 changes in 60 seconds. Saving...\n",
      "198136:M 07 Apr 2025 14:05:42.154 * Background saving started by pid 201871\n"
     ]
    },
    {
     "name": "stderr",
     "output_type": "stream",
     "text": [
      " 69%|██████▊   | 205681/300000 [01:08<00:35, 2652.52it/s]"
     ]
    },
    {
     "name": "stdout",
     "output_type": "stream",
     "text": [
      "201870:C 07 Apr 2025 14:05:45.030 * DB saved on disk\n",
      "201870:C 07 Apr 2025 14:05:45.047 * Fork CoW for RDB: current 31 MB, peak 31 MB, average 18 MB\n",
      "198127:M 07 Apr 2025 14:05:45.155 * Background saving terminated with success\n"
     ]
    },
    {
     "name": "stderr",
     "output_type": "stream",
     "text": [
      " 70%|██████▉   | 209013/300000 [01:09<00:26, 3430.21it/s]"
     ]
    },
    {
     "name": "stdout",
     "output_type": "stream",
     "text": [
      "201871:C 07 Apr 2025 14:05:46.159 * DB saved on disk\n",
      "201871:C 07 Apr 2025 14:05:46.242 * Fork CoW for RDB: current 32 MB, peak 32 MB, average 17 MB\n"
     ]
    },
    {
     "name": "stderr",
     "output_type": "stream",
     "text": [
      " 70%|██████▉   | 209885/300000 [01:09<00:24, 3683.16it/s]"
     ]
    },
    {
     "name": "stdout",
     "output_type": "stream",
     "text": [
      "198136:M 07 Apr 2025 14:05:46.367 * Background saving terminated with success\n"
     ]
    },
    {
     "name": "stderr",
     "output_type": "stream",
     "text": [
      "100%|██████████| 300000/300000 [01:37<00:00, 3065.55it/s]\n"
     ]
    },
    {
     "name": "stdout",
     "output_type": "stream",
     "text": [
      "198136:M 07 Apr 2025 14:45:32.958 * 100 changes in 300 seconds. Saving...\n",
      "198136:M 07 Apr 2025 14:45:33.058 * Background saving started by pid 201896\n",
      "201896:C 07 Apr 2025 14:45:37.264 * DB saved on disk\n",
      "201896:C 07 Apr 2025 14:45:37.351 * Fork CoW for RDB: current 287 MB, peak 287 MB, average 147 MB\n",
      "198127:M 07 Apr 2025 14:46:45.122 * 100 changes in 300 seconds. Saving...\n",
      "198127:M 07 Apr 2025 14:46:45.143 * Background saving started by pid 201897\n",
      "201897:C 07 Apr 2025 14:46:49.297 * DB saved on disk\n",
      "201897:C 07 Apr 2025 14:46:49.315 * Fork CoW for RDB: current 286 MB, peak 286 MB, average 162 MB\n",
      "198136:M 07 Apr 2025 15:24:53.948 * Background saving terminated with success\n",
      "198127:M 07 Apr 2025 15:27:17.236 * Background saving terminated with success\n",
      "{'branch': {300000: 65.12150288699195,\n",
      "            600000: 415.1026943270117,\n",
      "            900000: 1090.8376327499864,\n",
      "            1200000: 1843.9285084189614,\n",
      "            1500000: 2916.6864096330246,\n",
      "            1800000: 4375.149696146022,\n",
      "            2100000: 5528.301877536986,\n",
      "            2400000: 7462.214869100018,\n",
      "            2700000: 9503.67331133096,\n",
      "            3000000: 11850.167406343971},\n",
      " 'master': {300000: 63.05873548804084,\n",
      "            600000: 397.1671194770024,\n",
      "            900000: 967.0175513460417,\n",
      "            1200000: 1823.5350071869907,\n",
      "            1500000: 2887.702397021989,\n",
      "            1800000: 4592.402185579995,\n",
      "            2100000: 5854.325080537994,\n",
      "            2400000: 7679.0672482129885,\n",
      "            2700000: 9778.66795966,\n",
      "            3000000: 12169.523842017981}}\n"
     ]
    },
    {
     "name": "stderr",
     "output_type": "stream",
     "text": [
      "  0%|          | 89/300000 [00:00<08:06, 616.30it/s]"
     ]
    },
    {
     "name": "stdout",
     "output_type": "stream",
     "text": [
      "198136:M 07 Apr 2025 17:29:04.491 * 1 changes in 3600 seconds. Saving...\n",
      "198127:M 07 Apr 2025 17:29:04.559 * 1 changes in 3600 seconds. Saving...\n",
      "198127:M 07 Apr 2025 17:29:04.579 * Background saving started by pid 202485\n",
      "198136:M 07 Apr 2025 17:29:04.603 * Background saving started by pid 202486\n"
     ]
    },
    {
     "name": "stderr",
     "output_type": "stream",
     "text": [
      "  3%|▎         | 9537/300000 [00:04<01:55, 2522.38it/s]"
     ]
    },
    {
     "name": "stdout",
     "output_type": "stream",
     "text": [
      "202485:C 07 Apr 2025 17:29:08.743 * DB saved on disk\n",
      "202485:C 07 Apr 2025 17:29:08.761 * Fork CoW for RDB: current 82 MB, peak 82 MB, average 52 MB\n",
      "202486:C 07 Apr 2025 17:29:08.780 * DB saved on disk\n",
      "198127:M 07 Apr 2025 17:29:08.800 * Background saving terminated with success\n",
      "202486:C 07 Apr 2025 17:29:08.875 * Fork CoW for RDB: current 33 MB, peak 33 MB, average 18 MB\n"
     ]
    },
    {
     "name": "stderr",
     "output_type": "stream",
     "text": [
      "  4%|▎         | 10815/300000 [00:04<01:25, 3380.59it/s]"
     ]
    },
    {
     "name": "stdout",
     "output_type": "stream",
     "text": [
      "198136:M 07 Apr 2025 17:29:09.022 * Background saving terminated with success\n"
     ]
    },
    {
     "name": "stderr",
     "output_type": "stream",
     "text": [
      " 65%|██████▌   | 196118/300000 [01:04<00:42, 2424.43it/s]"
     ]
    },
    {
     "name": "stdout",
     "output_type": "stream",
     "text": [
      "198127:M 07 Apr 2025 17:30:09.066 * 10000 changes in 60 seconds. Saving...\n",
      "198127:M 07 Apr 2025 17:30:09.088 * Background saving started by pid 202487\n"
     ]
    },
    {
     "name": "stderr",
     "output_type": "stream",
     "text": [
      " 66%|██████▌   | 198159/300000 [01:05<00:56, 1803.06it/s]"
     ]
    },
    {
     "name": "stdout",
     "output_type": "stream",
     "text": [
      "198136:M 07 Apr 2025 17:30:10.074 * 10000 changes in 60 seconds. Saving...\n",
      "198136:M 07 Apr 2025 17:30:10.188 * Background saving started by pid 202488\n"
     ]
    },
    {
     "name": "stderr",
     "output_type": "stream",
     "text": [
      " 69%|██████▉   | 207096/300000 [01:09<00:33, 2769.32it/s]"
     ]
    },
    {
     "name": "stdout",
     "output_type": "stream",
     "text": [
      "202487:C 07 Apr 2025 17:30:13.515 * DB saved on disk\n",
      "202487:C 07 Apr 2025 17:30:13.534 * Fork CoW for RDB: current 33 MB, peak 33 MB, average 22 MB\n",
      "198127:M 07 Apr 2025 17:30:13.603 * Background saving terminated with success\n"
     ]
    },
    {
     "name": "stderr",
     "output_type": "stream",
     "text": [
      " 70%|███████   | 210242/300000 [01:10<00:25, 3462.23it/s]"
     ]
    },
    {
     "name": "stdout",
     "output_type": "stream",
     "text": [
      "202488:C 07 Apr 2025 17:30:14.681 * DB saved on disk\n",
      "202488:C 07 Apr 2025 17:30:14.779 * Fork CoW for RDB: current 34 MB, peak 34 MB, average 18 MB\n"
     ]
    },
    {
     "name": "stderr",
     "output_type": "stream",
     "text": [
      " 71%|███████   | 211546/300000 [01:10<00:24, 3610.57it/s]"
     ]
    },
    {
     "name": "stdout",
     "output_type": "stream",
     "text": [
      "198136:M 07 Apr 2025 17:30:15.004 * Background saving terminated with success\n"
     ]
    },
    {
     "name": "stderr",
     "output_type": "stream",
     "text": [
      "100%|██████████| 300000/300000 [01:39<00:00, 3019.57it/s]\n"
     ]
    },
    {
     "name": "stdout",
     "output_type": "stream",
     "text": [
      "198136:M 07 Apr 2025 18:17:47.529 * 100 changes in 300 seconds. Saving...\n",
      "198136:M 07 Apr 2025 18:17:47.647 * Background saving started by pid 202697\n",
      "202697:C 07 Apr 2025 18:17:52.336 * DB saved on disk\n",
      "202697:C 07 Apr 2025 18:17:52.439 * Fork CoW for RDB: current 315 MB, peak 315 MB, average 162 MB\n",
      "198127:M 07 Apr 2025 18:20:53.865 * 100 changes in 300 seconds. Saving...\n",
      "198127:M 07 Apr 2025 18:20:53.889 * Background saving started by pid 202700\n",
      "202700:C 07 Apr 2025 18:20:58.434 * DB saved on disk\n",
      "202700:C 07 Apr 2025 18:20:58.454 * Fork CoW for RDB: current 315 MB, peak 315 MB, average 178 MB\n",
      "198136:M 07 Apr 2025 19:04:53.482 * Background saving terminated with success\n",
      "198127:M 07 Apr 2025 19:10:39.690 * Background saving terminated with success\n"
     ]
    }
   ],
   "source": [
    "import threading\n",
    "import timeit\n",
    "from pprint import pprint\n",
    "import json\n",
    "\n",
    "# Parameters\n",
    "query = 'FT.AGGREGATE idx * TIMEOUT 0'\n",
    "total_docs = 5000001\n",
    "step = 300000\n",
    "num_docs = 0\n",
    "results = {\"master\": {}, \"branch\": {}}\n",
    "\n",
    "def timed_query(client, label, num_docs):\n",
    "    t = timeit.timeit('client.execute_command(query)', globals={'client': client, 'query': query}, number=5)\n",
    "    results[label][num_docs] = t\n",
    "\n",
    "while num_docs < total_docs:\n",
    "    # Populate DBs synchronously (assuming you want to do this before each measurement)\n",
    "    populate_dbs(step, [master_redis_client, branch_redis_client], num_docs)\n",
    "    num_docs += step\n",
    "\n",
    "    # Create threads for timing\n",
    "    t1 = threading.Thread(target=timed_query, args=(master_redis_client, \"master\", num_docs))\n",
    "    t2 = threading.Thread(target=timed_query, args=(branch_redis_client, \"branch\", num_docs))\n",
    "\n",
    "    # Start both threads\n",
    "    t1.start()\n",
    "    t2.start()\n",
    "\n",
    "    # Wait for both to finish\n",
    "    t1.join()\n",
    "    t2.join()\n",
    "\n",
    "    with open(f\"results_{num_docs}_json\", \"w\") as f:\n",
    "        json.dump(results, f, indent=4)\n",
    "\n",
    "    # Print results\n",
    "    pprint(results)\n",
    "\n",
    "with open(\"final_results.json\", \"w\") as f:\n",
    "    json.dump(results, f, indent=4)\n"
   ]
  }
 ],
 "metadata": {
  "kernelspec": {
   "display_name": "Python 3",
   "language": "python",
   "name": "python3"
  },
  "language_info": {
   "codemirror_mode": {
    "name": "ipython",
    "version": 3
   },
   "file_extension": ".py",
   "mimetype": "text/x-python",
   "name": "python",
   "nbconvert_exporter": "python",
   "pygments_lexer": "ipython3",
   "version": "3.10.12"
  }
 },
 "nbformat": 4,
 "nbformat_minor": 2
}
