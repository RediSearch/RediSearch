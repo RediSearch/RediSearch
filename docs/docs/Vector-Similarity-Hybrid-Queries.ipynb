{
 "cells": [
  {
   "cell_type": "markdown",
   "id": "cbba56a9",
   "metadata": {},
   "source": [
    "# Vector Similarity for RediSearch - Hybrid queries\n"
   ]
  },
  {
   "cell_type": "markdown",
   "id": "323aec7f",
   "metadata": {},
   "source": [
    "## Python examples"
   ]
  },
  {
   "cell_type": "markdown",
   "id": "19bdc2a5-2192-4f5f-bd6e-7c956fd0e230",
   "metadata": {},
   "source": [
    "### Packages"
   ]
  },
  {
   "cell_type": "code",
   "execution_count": 12,
   "id": "4dbaf749",
   "metadata": {},
   "outputs": [
    {
     "name": "stdout",
     "output_type": "stream",
     "text": [
      "Collecting git+https://github.com/RediSearch/redisearch-py.git@params\n",
      "  Cloning https://github.com/RediSearch/redisearch-py.git (to revision params) to /tmp/pip-req-build-xmid8x85\n",
      "  Running command git clone --filter=blob:none --quiet https://github.com/RediSearch/redisearch-py.git /tmp/pip-req-build-xmid8x85\n",
      "  Running command git checkout -b params --track origin/params\n",
      "  Switched to a new branch 'params'\n",
      "  Branch 'params' set up to track remote branch 'params' from 'origin'.\n",
      "  Resolved https://github.com/RediSearch/redisearch-py.git to commit 1c938c33cf314c0403e487473f9022f645de35c8\n",
      "  Installing build dependencies ... \u001b[?25ldone\n",
      "\u001b[?25h  Getting requirements to build wheel ... \u001b[?25ldone\n",
      "\u001b[?25h  Preparing metadata (pyproject.toml) ... \u001b[?25ldone\n",
      "\u001b[?25hCollecting rmtest@ git+https://github.com/RedisLabs/rmtest@master\n",
      "  Cloning https://github.com/RedisLabs/rmtest (to revision master) to /tmp/pip-install-3ygg7kn_/rmtest_44fbd4d60671454a8c306a47dd884045\n",
      "  Running command git clone --filter=blob:none --quiet https://github.com/RedisLabs/rmtest /tmp/pip-install-3ygg7kn_/rmtest_44fbd4d60671454a8c306a47dd884045\n",
      "  Resolved https://github.com/RedisLabs/rmtest to commit 4fb86bf3a287a1b0c5fc00f6d5bd8fb90ef8ba39\n",
      "  Preparing metadata (setup.py) ... \u001b[?25ldone\n",
      "\u001b[?25hCollecting redis==3.5.3\n",
      "  Using cached redis-3.5.3-py2.py3-none-any.whl (72 kB)\n",
      "Requirement already satisfied: six<2.0.0,>=1.16.0 in /home/alon/anaconda3/envs/vsim/lib/python3.8/site-packages (from redisearch==2.1.1) (1.16.0)\n",
      "Requirement already satisfied: hiredis<3.0.0,>=2.0.0 in /home/alon/anaconda3/envs/vsim/lib/python3.8/site-packages (from redisearch==2.1.1) (2.0.0)\n",
      "Requirement already satisfied: rejson<0.6.0,>=0.5.4 in /home/alon/anaconda3/envs/vsim/lib/python3.8/site-packages (from redisearch==2.1.1) (0.5.4)\n",
      "Installing collected packages: redis\n",
      "  Attempting uninstall: redis\n",
      "    Found existing installation: redis 4.2.0rc1\n",
      "    Uninstalling redis-4.2.0rc1:\n",
      "      Successfully uninstalled redis-4.2.0rc1\n",
      "\u001b[31mERROR: pip's dependency resolver does not currently take into account all the packages that are installed. This behaviour is the source of the following dependency conflicts.\n",
      "rltest 0.5.0 requires redis<5.0.0,>=4.1.2, but you have redis 3.5.3 which is incompatible.\u001b[0m\u001b[31m\n",
      "\u001b[0mSuccessfully installed redis-3.5.3\n",
      "Requirement already satisfied: numpy in /home/alon/.local/lib/python3.8/site-packages (1.21.4)\n"
     ]
    }
   ],
   "source": [
    "!pip install git+https://github.com/RediSearch/redisearch-py.git@params\n",
    "!pip install numpy"
   ]
  },
  {
   "cell_type": "code",
   "execution_count": 18,
   "id": "09a8f030",
   "metadata": {},
   "outputs": [],
   "source": [
    "import numpy as np\n",
    "from redis import Redis\n",
    "import redisearch"
   ]
  },
  {
   "cell_type": "markdown",
   "id": "f8c6ef53",
   "metadata": {},
   "source": [
    "### Create redis client"
   ]
  },
  {
   "cell_type": "code",
   "execution_count": 19,
   "id": "370c1fcc",
   "metadata": {},
   "outputs": [],
   "source": [
    "host = \"localhost\"\n",
    "port = 6379\n",
    "\n",
    "redis_conn = Redis(host = host, port = port)"
   ]
  },
  {
   "cell_type": "code",
   "execution_count": 20,
   "id": "06c421de-00ee-42c5-8487-b46acd02950a",
   "metadata": {},
   "outputs": [],
   "source": [
    "# Index fields and configurations\n",
    "\n",
    "n_vec = 10000\n",
    "dim = 128\n",
    "M = 40\n",
    "EF = 200\n",
    "vector_field_name = \"vector\"\n",
    "title_field_name = \"title\"\n",
    "genre_field_name = \"genre\"\n",
    "rating_field_name = \"rating\"\n",
    "k = 10"
   ]
  },
  {
   "cell_type": "code",
   "execution_count": 21,
   "id": "da997470-4e8d-4d94-9c90-5aa009415699",
   "metadata": {},
   "outputs": [],
   "source": [
    "def load_vectors(client : Redis, n, d):\n",
    "    for i in range(1, n+1):\n",
    "        # np_vector = np.float32([i for j in range(dim)])\n",
    "        np_vector = np.random.rand(1, d).astype(np.float32)\n",
    "        if i%5 != 0:\n",
    "            client.hset(i, mapping = {vector_field_name: np_vector.tobytes(),\n",
    "                                      rating_field_name: 10*(i/n),  # ratings ranges from 0-10, sorted by the id\n",
    "                                      genre_field_name: \"action\",\n",
    "                                      title_field_name: \"matrix\"})\n",
    "        else:\n",
    "            client.hset(i, mapping = {vector_field_name: np_vector.tobytes(),\n",
    "                                      rating_field_name: 10*(i/n),\n",
    "                                      genre_field_name: \"action, drama\",\n",
    "                                      title_field_name: \"spiderman\"})\n",
    "        \n",
    "def delete_data(client: Redis):\n",
    "    client.flushall()\n",
    "        "
   ]
  },
  {
   "cell_type": "markdown",
   "id": "223d4a22-41bd-44cb-9c6f-02c16c07d5f2",
   "metadata": {},
   "source": [
    "### Create HNSW index with meta-data"
   ]
  },
  {
   "cell_type": "code",
   "execution_count": 29,
   "id": "3266495a-d2e1-450a-9590-959b368f013c",
   "metadata": {},
   "outputs": [
    {
     "name": "stdout",
     "output_type": "stream",
     "text": [
      "index size:  10000\n"
     ]
    }
   ],
   "source": [
    "# build index\n",
    "hnsw_index = redisearch.Client(\"my_hnsw_index\", conn=redis_conn)\n",
    "delete_data(redis_conn)\n",
    "hnsw_index.redis.execute_command('FT.CREATE', \"my_hnsw_index\", 'SCHEMA',\n",
    "                                 vector_field_name, 'VECTOR', 'HNSW', '8', 'TYPE', 'FLOAT32', 'DIM', dim, 'DISTANCE_METRIC', 'L2', 'EF_RUNTIME', EF,\n",
    "                                 rating_field_name, 'NUMERIC',title_field_name, 'TEXT', genre_field_name, 'TAG')\n",
    "\n",
    "#load vectors\n",
    "np.random.seed(42)\n",
    "load_vectors(hnsw_index.redis, n_vec, dim)\n",
    "\n",
    "print(\"index size: \", hnsw_index.info()['num_docs'])\n",
    "\n",
    "query_vector = np.random.rand(1, dim).astype(np.float32)\n",
    "# query_vector = np.float32([n_vec for j in range(dim)])"
   ]
  },
  {
   "cell_type": "markdown",
   "id": "fce99677",
   "metadata": {},
   "source": [
    "## Hybrid queries examples"
   ]
  },
  {
   "cell_type": "code",
   "execution_count": 32,
   "id": "1722a6c0",
   "metadata": {},
   "outputs": [
    {
     "name": "stdout",
     "output_type": "stream",
     "text": [
      "[8770, 9386, 83, 5126, 9572, 3492, 6268, 3949, 4437, 1057]\n",
      "[13.3469600677, 14.5484476089, 14.7082948685, 14.7560749054, 14.837141037, 14.9124708176, 15.2173652649, 15.3307313919, 15.3791847229, 15.4887781143]\n"
     ]
    }
   ],
   "source": [
    "# Give me the top 10 reviews on action movies similar to mine\n",
    "\n",
    "q = redisearch.Query(f'(@{genre_field_name}:{{action}})=>[KNN 10 @{vector_field_name} $vec_param]').sort_by(f'__{vector_field_name}_score')\n",
    "res = hnsw_index.search(q, query_params = {'vec_param': query_vector.tobytes()})\n",
    "\n",
    "docs = [int(doc.id) for doc in res.docs]\n",
    "rs_dists = [float(doc.__vector_score) for doc in res.docs]\n",
    "print(docs)\n",
    "print(rs_dists)"
   ]
  },
  {
   "cell_type": "code",
   "execution_count": 33,
   "id": "d2f48df5",
   "metadata": {},
   "outputs": [
    {
     "name": "stdout",
     "output_type": "stream",
     "text": [
      "[5126, 6268, 5390, 5085, 6741, 6251, 5239, 5487, 5194, 5595]\n",
      "[14.7560749054, 15.2173652649, 15.793586731, 15.8196582794, 15.8495740891, 15.8533287048, 16.0165462494, 16.0417747498, 16.0750141144, 16.2356395721]\n"
     ]
    }
   ],
   "source": [
    "# Give me the top 10 reviews on action movies similar to mine that got ratings between 5-7.\n",
    "# (ids 5000-7000)\n",
    "\n",
    "q = redisearch.Query(f'(@{genre_field_name}:{{action}} @{rating_field_name}:[5 7])=>[KNN 10 @{vector_field_name} $vec_param]').sort_by(f'__{vector_field_name}_score')\n",
    "res = hnsw_index.search(q, query_params = {'vec_param': query_vector.tobytes()})\n",
    "\n",
    "docs = [int(doc.id) for doc in res.docs]\n",
    "rs_dists = [float(doc.__vector_score) for doc in res.docs]\n",
    "print(docs)\n",
    "print(rs_dists)"
   ]
  },
  {
   "cell_type": "code",
   "execution_count": 34,
   "id": "b2284b3b",
   "metadata": {},
   "outputs": [
    {
     "name": "stdout",
     "output_type": "stream",
     "text": [
      "[5390, 5085, 5595, 6695, 6285, 5765, 6595, 5795, 5790, 5550]\n",
      "[15.793586731, 15.8196582794, 16.2356395721, 16.4198703766, 16.419916153, 16.4874362946, 16.5903587341, 16.657459259, 16.6816978455, 16.7862262726]\n"
     ]
    }
   ],
   "source": [
    "# Give me the top 10 reviews on spiderman movie that are similar to mine and got ratings between 5-7.\n",
    "#(ids 5000-7000 divided by 5)\n",
    "\n",
    "q = redisearch.Query(f'(@{title_field_name}:spiderman @{rating_field_name}:[5 7])=>[KNN 10 @{vector_field_name} $vec_param]').sort_by(f'__{vector_field_name}_score')\n",
    "res = hnsw_index.search(q, query_params = {'vec_param': query_vector.tobytes()})\n",
    "\n",
    "docs = [int(doc.id) for doc in res.docs]\n",
    "rs_dists = [float(doc.__vector_score) for doc in res.docs]\n",
    "print(docs)\n",
    "print(rs_dists)"
   ]
  },
  {
   "cell_type": "code",
   "execution_count": 35,
   "id": "fb3dce42",
   "metadata": {},
   "outputs": [
    {
     "name": "stdout",
     "output_type": "stream",
     "text": [
      "[9386, 83, 5126, 9572, 3492, 6268, 3949, 4437, 1057, 557]\n",
      "[14.5484476089, 14.7082948685, 14.7560749054, 14.837141037, 14.9124708176, 15.2173652649, 15.3307313919, 15.3791847229, 15.4887781143, 15.4977865219]\n"
     ]
    }
   ],
   "source": [
    "# Give me the top 10 reviews on movies which aren't spiderman that are similar to mine.\n",
    "#(all ids which are not divided by 5)\n",
    "\n",
    "q = redisearch.Query(f'(@{genre_field_name}:{{action}} -@{title_field_name}:spider*)=>[KNN 10 @{vector_field_name} $vec_param]').sort_by(f'__{vector_field_name}_score')\n",
    "res = hnsw_index.search(q, query_params = {'vec_param': query_vector.tobytes()})\n",
    "\n",
    "docs = [int(doc.id) for doc in res.docs]\n",
    "rs_dists = [float(doc.__vector_score) for doc in res.docs]\n",
    "print(docs)\n",
    "print(rs_dists)"
   ]
  },
  {
   "cell_type": "code",
   "execution_count": 37,
   "id": "ac5f2e13",
   "metadata": {},
   "outputs": [
    {
     "name": "stdout",
     "output_type": "stream",
     "text": [
      "[8770, 9386, 9572, 8400, 9396, 3655, 9526, 9353, 5390, 5085]\n",
      "[13.3469600677, 14.5484476089, 14.837141037, 15.4953155518, 15.6169643402, 15.6970911026, 15.7229309082, 15.7777109146, 15.793586731, 15.8196582794]\n"
     ]
    }
   ],
   "source": [
    "# Give me the top 10 reviews which are on \"spiderman\" movie, or movies with at least 9 rating.\n",
    "#(ids which are divided by 5 or above 9000)\n",
    "\n",
    "q = redisearch.Query(f'((@{title_field_name}:spiderman) | (@{rating_field_name}:[9 inf]))=>[KNN 10 @{vector_field_name} $vec_param]').sort_by(f'__{vector_field_name}_score')\n",
    "res = hnsw_index.search(q, query_params = {'vec_param': query_vector.tobytes()})\n",
    "\n",
    "docs = [int(doc.id) for doc in res.docs]\n",
    "rs_dists = [float(doc.__vector_score) for doc in res.docs]\n",
    "print(docs)\n",
    "print(rs_dists)"
   ]
  }
 ],
 "metadata": {
  "kernelspec": {
   "display_name": "Python 3 (ipykernel)",
   "language": "python",
   "name": "python3"
  },
  "language_info": {
   "codemirror_mode": {
    "name": "ipython",
    "version": 3
   },
   "file_extension": ".py",
   "mimetype": "text/x-python",
   "name": "python",
   "nbconvert_exporter": "python",
   "pygments_lexer": "ipython3",
   "version": "3.8.12"
  }
 },
 "nbformat": 4,
 "nbformat_minor": 5
}
