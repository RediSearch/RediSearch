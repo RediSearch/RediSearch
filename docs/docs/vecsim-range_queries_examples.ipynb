{
 "cells": [
  {
   "cell_type": "markdown",
   "id": "cbba56a9",
   "metadata": {},
   "source": [
    "# Vector Similarity for RediSearch - Range Queries\n"
   ]
  },
  {
   "cell_type": "markdown",
   "id": "323aec7f",
   "metadata": {},
   "source": [
    "## Python examples"
   ]
  },
  {
   "cell_type": "markdown",
   "id": "19bdc2a5-2192-4f5f-bd6e-7c956fd0e230",
   "metadata": {},
   "source": [
    "### Packages"
   ]
  },
  {
   "cell_type": "code",
   "execution_count": 2,
   "id": "09a8f030",
   "metadata": {},
   "outputs": [],
   "source": [
    "import numpy as np\n",
    "from redis import Redis\n",
    "from redis.commands.search.field import VectorField, TagField, NumericField\n",
    "from redis.commands.search.query import Query"
   ]
  },
  {
   "cell_type": "markdown",
   "id": "f8c6ef53",
   "metadata": {},
   "source": [
    "### Create redis client"
   ]
  },
  {
   "cell_type": "code",
   "execution_count": 3,
   "id": "370c1fcc",
   "metadata": {},
   "outputs": [],
   "source": [
    "host = \"localhost\"\n",
    "port = 6379\n",
    "\n",
    "redis_conn = Redis(host = host, port = port)"
   ]
  },
  {
   "cell_type": "code",
   "execution_count": 4,
   "id": "06c421de-00ee-42c5-8487-b46acd02950a",
   "metadata": {},
   "outputs": [],
   "source": [
    "# Index fields and configurations\n",
    "\n",
    "n_vec = 10000\n",
    "dim = 128\n",
    "vector_field_name = \"vector\"\n",
    "rating_field_name = \"rating\"\n",
    "k = 10"
   ]
  },
  {
   "cell_type": "code",
   "execution_count": 18,
   "id": "da997470-4e8d-4d94-9c90-5aa009415699",
   "metadata": {},
   "outputs": [],
   "source": [
    "def load_data(client : Redis, n, d):\n",
    "    for i in range(1, n+1):\n",
    "        np_vector = np.random.rand(1, d).astype(np.float32)\n",
    "        client.hset(i, mapping = {vector_field_name: np_vector.tobytes(),\n",
    "                                    rating_field_name: 10*(i/n)})  # ratings ranges from 0-10, proportional to the id)\n",
    "        \n",
    "def delete_data(client: Redis):\n",
    "    client.flushall()\n",
    "    \n",
    "def print_results(res):\n",
    "    docs = [int(doc.id) for doc in res.docs]\n",
    "    dists = [float(doc.dist) if hasattr(doc, 'dist') else '-' for doc in res.docs]\n",
    "    print(f\"got {len(docs)} doc ids: \", docs)\n",
    "    print(\"\\ndistances: \", dists)\n",
    "        "
   ]
  },
  {
   "cell_type": "markdown",
   "id": "223d4a22-41bd-44cb-9c6f-02c16c07d5f2",
   "metadata": {},
   "source": [
    "### Create VECTOR index with meta-data"
   ]
  },
  {
   "cell_type": "code",
   "execution_count": 19,
   "id": "3266495a-d2e1-450a-9590-959b368f013c",
   "metadata": {},
   "outputs": [
    {
     "name": "stdout",
     "output_type": "stream",
     "text": [
      "Index size:  10000\n"
     ]
    }
   ],
   "source": [
    "# Build index - use FLAT vector index\n",
    "delete_data(redis_conn)\n",
    "\n",
    "schema = (VectorField(vector_field_name, \"FLAT\", {\"TYPE\": \"FLOAT32\", \"DIM\": dim, \"DISTANCE_METRIC\": \"COSINE\"}),\n",
    "          NumericField(rating_field_name))\n",
    "redis_conn.ft().create_index(schema)\n",
    "redis_conn.ft().config_set(\"default_dialect\", 2)\n",
    "\n",
    "# load vectors with meta-data\n",
    "np.random.seed(42)\n",
    "load_data(redis_conn, n_vec, dim)\n",
    "\n",
    "print(\"Index size: \", redis_conn.ft().info()['num_docs'])\n",
    "\n",
    "query_vector = np.random.rand(1, dim).astype(np.float32)  # This is my query vector"
   ]
  },
  {
   "cell_type": "markdown",
   "id": "fce99677",
   "metadata": {},
   "source": [
    "### Basic query"
   ]
  },
  {
   "cell_type": "code",
   "execution_count": 9,
   "id": "1722a6c0",
   "metadata": {
    "scrolled": true
   },
   "outputs": [
    {
     "name": "stdout",
     "output_type": "stream",
     "text": [
      "got 10 doc ids:  [6268, 9386, 9572, 83, 8770, 9353, 4196, 3492, 3849, 2826]\n",
      "\n",
      "distances:  [0.161894202232, 0.169060647488, 0.169191241264, 0.169765532017, 0.1706802845, 0.175678133965, 0.17847943306, 0.178663253784, 0.179469048977, 0.180303454399]\n"
     ]
    }
   ],
   "source": [
    "# Give me the top 10 docs with vectors similar to mine\n",
    "\n",
    "q = Query(f'*=>[KNN 10 @{vector_field_name} $vec_param]=>{{$yield_distance_as: dist}}').sort_by(f'dist')\n",
    "res = redis_conn.ft().search(q, query_params = {'vec_param': query_vector.tobytes()})\n",
    "\n",
    "print_results(res)"
   ]
  },
  {
   "cell_type": "markdown",
   "id": "4d76e550",
   "metadata": {},
   "source": [
    "## Range queries examples"
   ]
  },
  {
   "cell_type": "code",
   "execution_count": 10,
   "id": "d2f48df5",
   "metadata": {},
   "outputs": [
    {
     "name": "stdout",
     "output_type": "stream",
     "text": [
      "got 111 doc ids:  [6268, 9386, 9572, 83, 8770, 9353, 4196, 3492, 3849, 2826, 5194, 7019, 4137, 5832, 1324, 1290, 944, 3213, 5126, 1537, 5765, 1057, 6741, 7403, 9526, 2100, 7264, 3055, 8304, 557, 8400, 3655, 1484, 7767, 9396, 3873, 2995, 2977, 3127, 5085, 4614, 7143, 5595, 8647, 7619, 8014, 1562, 9584, 6573, 5487, 1033, 5149, 9719, 9768, 4695, 8093, 4290, 6325, 7836, 4437, 4208, 3949, 2173, 9820, 4479, 7495, 4533, 7855, 9232, 7405, 4331, 9331, 6216, 2348, 4467, 830, 4720, 2343, 4805, 9940, 2888, 1463, 6251, 6409, 216, 5663, 977, 8596, 4913, 3007, 7476, 2937, 9668, 9838, 5239, 2437, 82, 6553, 2124, 9092, 6285, 2842, 9853, 9964, 2563, 6421, 5708, 1973, 5460, 9120, 3814]\n",
      "\n",
      "distances:  [0.161894202232, 0.169060647488, 0.169191241264, 0.169765532017, 0.1706802845, 0.175678133965, 0.17847943306, 0.178663253784, 0.179469048977, 0.180303454399, 0.181306004524, 0.18168592453, 0.181744813919, 0.182591021061, 0.183749914169, 0.18432611227, 0.185025274754, 0.185458660126, 0.185709357262, 0.185975015163, 0.186541616917, 0.186584532261, 0.186755239964, 0.186758160591, 0.186990261078, 0.18755286932, 0.18792784214, 0.188137710094, 0.188211143017, 0.188596785069, 0.188735723495, 0.188970685005, 0.18978446722, 0.189835548401, 0.190104186535, 0.190182328224, 0.190238714218, 0.190270960331, 0.190337300301, 0.190717577934, 0.190922439098, 0.190932095051, 0.190959453583, 0.190996110439, 0.191105127335, 0.191147983074, 0.191573023796, 0.191713750362, 0.191823899746, 0.192683339119, 0.192895054817, 0.192952275276, 0.193222820759, 0.193285346031, 0.193286716938, 0.193367004395, 0.193377375603, 0.193799436092, 0.194308519363, 0.194380521774, 0.194534361362, 0.19465649128, 0.194748997688, 0.194760024548, 0.195184648037, 0.195213794708, 0.195490658283, 0.195500552654, 0.195551872253, 0.195579707623, 0.195812821388, 0.19584941864, 0.195869386196, 0.195933580399, 0.195947945118, 0.19616830349, 0.196190834045, 0.19619846344, 0.196314692497, 0.196377813816, 0.19707518816, 0.197263896465, 0.197297155857, 0.197387635708, 0.19751894474, 0.197526693344, 0.197539687157, 0.197579205036, 0.197725892067, 0.197824239731, 0.197833895683, 0.19801992178, 0.198147058487, 0.198235690594, 0.198359310627, 0.198490858078, 0.198531806469, 0.198573112488, 0.198596954346, 0.198658049107, 0.19878411293, 0.198920369148, 0.19896364212, 0.19903588295, 0.199109017849, 0.199302434921, 0.199432075024, 0.19955265522, 0.199557423592, 0.199796319008, 0.199838876724]\n"
     ]
    }
   ],
   "source": [
    "# Give me all the docs with vector that are distant from mine in up to 0.2 (Cosine metric)\n",
    "\n",
    "radius = 0.2\n",
    "q = Query(f'@{vector_field_name}:[VECTOR_RANGE {radius} $vec_param]=>{{$yield_distance_as: dist}}').sort_by(f'dist').paging(0, n_vec)\n",
    "res = redis_conn.ft().search(q, query_params = {'vec_param': query_vector.tobytes()})\n",
    "\n",
    "print_results(res)"
   ]
  },
  {
   "cell_type": "code",
   "execution_count": 12,
   "id": "b2284b3b",
   "metadata": {},
   "outputs": [
    {
     "name": "stdout",
     "output_type": "stream",
     "text": [
      "got 36 doc ids:  [9386, 9572, 8770, 9353, 7019, 7403, 9526, 7264, 8304, 8400, 7767, 9396, 7143, 8647, 7619, 8014, 9584, 9719, 9768, 8093, 7836, 9820, 7495, 7855, 9232, 7405, 9331, 9940, 8596, 7476, 9668, 9838, 9092, 9853, 9964, 9120]\n",
      "\n",
      "distances:  [0.169060647488, 0.169191241264, 0.1706802845, 0.175678133965, 0.18168592453, 0.186758160591, 0.186990261078, 0.18792784214, 0.188211143017, 0.188735723495, 0.189835548401, 0.190104186535, 0.190932095051, 0.190996110439, 0.191105127335, 0.191147983074, 0.191713750362, 0.193222820759, 0.193285346031, 0.193367004395, 0.194308519363, 0.194760024548, 0.195213794708, 0.195500552654, 0.195551872253, 0.195579707623, 0.19584941864, 0.196377813816, 0.197579205036, 0.197833895683, 0.198147058487, 0.198235690594, 0.198658049107, 0.19896364212, 0.19903588295, 0.199796319008]\n"
     ]
    }
   ],
   "source": [
    "# Give me the docs with vector that are distant from mine in up to 0.2 and has ratings between 7-10 (ids 7000-10000)\n",
    "\n",
    "radius = 0.2\n",
    "q = Query(f'@{rating_field_name}:[7 10] @{vector_field_name}:[VECTOR_RANGE {radius} $vec_param]=>{{$yield_distance_as: dist}}').sort_by(f'dist').paging(0, n_vec)\n",
    "res = redis_conn.ft().search(q, query_params = {'vec_param': query_vector.tobytes()})\n",
    "\n",
    "print_results(res)"
   ]
  },
  {
   "cell_type": "code",
   "execution_count": 15,
   "id": "fb3dce42",
   "metadata": {},
   "outputs": [
    {
     "name": "stdout",
     "output_type": "stream",
     "text": [
      "got 110 doc ids:  [6268, 9386, 9572, 83, 8770, 9353, 4196, 3492, 3849, 9900, 9901, 9902, 9903, 9904, 9905, 9906, 9907, 9908, 9909, 9910, 9911, 9912, 9913, 9914, 9915, 9916, 9917, 9918, 9919, 9920, 9921, 9922, 9923, 9924, 9925, 9926, 9927, 9928, 9929, 9930, 9931, 9932, 9933, 9934, 9935, 9936, 9937, 9938, 9939, 9940, 9941, 9942, 9943, 9944, 9945, 9946, 9947, 9948, 9949, 9950, 9951, 9952, 9953, 9954, 9955, 9956, 9957, 9958, 9959, 9960, 9961, 9962, 9963, 9964, 9965, 9966, 9967, 9968, 9969, 9970, 9971, 9972, 9973, 9974, 9975, 9976, 9977, 9978, 9979, 9980, 9981, 9982, 9983, 9984, 9985, 9986, 9987, 9988, 9989, 9990, 9991, 9992, 9993, 9994, 9995, 9996, 9997, 9998, 9999, 10000]\n",
      "\n",
      "distances:  [0.161894202232, 0.169060647488, 0.169191241264, 0.169765532017, 0.1706802845, 0.175678133965, 0.17847943306, 0.178663253784, 0.179469048977, '-', '-', '-', '-', '-', '-', '-', '-', '-', '-', '-', '-', '-', '-', '-', '-', '-', '-', '-', '-', '-', '-', '-', '-', '-', '-', '-', '-', '-', '-', '-', '-', '-', '-', '-', '-', '-', '-', '-', '-', '-', '-', '-', '-', '-', '-', '-', '-', '-', '-', '-', '-', '-', '-', '-', '-', '-', '-', '-', '-', '-', '-', '-', '-', '-', '-', '-', '-', '-', '-', '-', '-', '-', '-', '-', '-', '-', '-', '-', '-', '-', '-', '-', '-', '-', '-', '-', '-', '-', '-', '-', '-', '-', '-', '-', '-', '-', '-', '-', '-', '-']\n"
     ]
    }
   ],
   "source": [
    "# Give me either docs with vectors that are similar to mine in up to 0.18 OR have rating above 9.9 (ids 9900-10000)\n",
    "\n",
    "radius = 0.18\n",
    "q = Query(f'@{rating_field_name}:[9.9 10] | @{vector_field_name}:[VECTOR_RANGE {radius} $vec_param]=>{{$yield_distance_as: dist}}').sort_by(f'dist').paging(0, n_vec)\n",
    "res = redis_conn.ft().search(q, query_params = {'vec_param': query_vector.tobytes()})\n",
    "\n",
    "print_results(res)"
   ]
  },
  {
   "cell_type": "code",
   "execution_count": 16,
   "id": "ac5f2e13",
   "metadata": {},
   "outputs": [
    {
     "name": "stdout",
     "output_type": "stream",
     "text": [
      "doc ids:  [9967, 5460, 6553, 3213, 9092, 6421, 4695, 9900, 1324, 9838]\n",
      "\n",
      "range distances:  ['-', 0.199557423592, 0.198573112488, 0.185458660126, 0.198658049107, 0.199302434921, 0.193286716938, '-', 0.183749914169, 0.198235690594]\n",
      "\n",
      "knn distances:  [0.163969039917, 0.166377544403, 0.172017991543, 0.172353506088, 0.179218530655, 0.181240260601, 0.181509137154, 0.181697070599, 0.185028076172, 0.185675978661]\n"
     ]
    }
   ],
   "source": [
    "# Among docs with vectors whose distance from mine is lower than 0.2 OR have rating above 9.9, give me the top 10 whose vector is closest to some other beautiful vector.\n",
    "\n",
    "radius = 0.2\n",
    "\n",
    "beautiful_vec = np.random.rand(1, dim).astype(np.float32)  # other movie embedding\n",
    "\n",
    "q = Query(f'(@{rating_field_name}:[9.9 10] | @{vector_field_name}:[VECTOR_RANGE {radius} $vec_param]=>{{$yield_distance_as: range_dist}})=>[KNN 10 @{vector_field_name} $knn_vec]=>{{$yield_distance_as: knn_dist}}').sort_by(f'knn_dist').paging(0, n_vec)\n",
    "res = redis_conn.ft().search(q, query_params = {'vec_param': query_vector.tobytes(), 'knn_vec': beautiful_vec.tobytes()})\n",
    "\n",
    "docs = [int(doc.id) for doc in res.docs]\n",
    "range_dists = [float(doc.range_dist) if hasattr(doc, 'range_dist') else \"-\" for doc in res.docs]\n",
    "knn_dists = [float(doc.knn_dist) if hasattr(doc, 'knn_dist') else \"-\" for doc in res.docs]\n",
    "\n",
    "print(\"doc ids: \", docs)\n",
    "print(\"\\nrange distances: \", range_dists)\n",
    "print(\"\\nknn distances: \", knn_dists)"
   ]
  }
 ],
 "metadata": {
  "kernelspec": {
   "display_name": "Python 3 (ipykernel)",
   "language": "python",
   "name": "python3"
  },
  "language_info": {
   "codemirror_mode": {
    "name": "ipython",
    "version": 3
   },
   "file_extension": ".py",
   "mimetype": "text/x-python",
   "name": "python",
   "nbconvert_exporter": "python",
   "pygments_lexer": "ipython3",
   "version": "3.8.10"
  }
 },
 "nbformat": 4,
 "nbformat_minor": 5
}
