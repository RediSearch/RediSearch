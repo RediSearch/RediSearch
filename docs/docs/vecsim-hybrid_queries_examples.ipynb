{
 "cells": [
  {
   "cell_type": "markdown",
   "id": "cbba56a9",
   "metadata": {},
   "source": [
    "# Vector Similarity for RediSearch - Hybrid queries\n"
   ]
  },
  {
   "cell_type": "markdown",
   "id": "323aec7f",
   "metadata": {},
   "source": [
    "## Python examples"
   ]
  },
  {
   "cell_type": "markdown",
   "id": "19bdc2a5-2192-4f5f-bd6e-7c956fd0e230",
   "metadata": {},
   "source": [
    "### Packages"
   ]
  },
  {
   "cell_type": "code",
   "execution_count": 7,
   "id": "09a8f030",
   "metadata": {},
   "outputs": [],
   "source": [
    "import numpy as np\n",
    "from redis import Redis\n",
    "from redis.commands.search.field import VectorField, TagField, NumericField, TextField\n",
    "from redis.commands.search.query import Query"
   ]
  },
  {
   "cell_type": "markdown",
   "id": "f8c6ef53",
   "metadata": {},
   "source": [
    "### Create redis client"
   ]
  },
  {
   "cell_type": "code",
   "execution_count": 3,
   "id": "370c1fcc",
   "metadata": {},
   "outputs": [],
   "source": [
    "host = \"localhost\"\n",
    "port = 6379\n",
    "\n",
    "redis_conn = Redis(host = host, port = port)"
   ]
  },
  {
   "cell_type": "code",
   "execution_count": 4,
   "id": "06c421de-00ee-42c5-8487-b46acd02950a",
   "metadata": {},
   "outputs": [],
   "source": [
    "# Index fields and configurations\n",
    "\n",
    "n_vec = 10000\n",
    "dim = 128\n",
    "M = 40\n",
    "EF = 200\n",
    "vector_field_name = \"vector\"\n",
    "title_field_name = \"title\"\n",
    "genre_field_name = \"genre\"\n",
    "rating_field_name = \"rating\"\n",
    "k = 10"
   ]
  },
  {
   "cell_type": "code",
   "execution_count": 11,
   "id": "da997470-4e8d-4d94-9c90-5aa009415699",
   "metadata": {},
   "outputs": [],
   "source": [
    "def load_docs(client : Redis, n, d):\n",
    "    for i in range(1, n+1):\n",
    "        np_vector = np.random.rand(1, d).astype(np.float64)\n",
    "        if i%5 != 0:\n",
    "            client.hset(i, mapping = {vector_field_name: np_vector.tobytes(),\n",
    "                                      rating_field_name: 10*(i/n),  # ratings ranges from 0-10, proportional the doc id\n",
    "                                      genre_field_name: \"action\",\n",
    "                                      title_field_name: \"matrix\"})\n",
    "        else:\n",
    "            client.hset(i, mapping = {vector_field_name: np_vector.tobytes(),\n",
    "                                      rating_field_name: 10*(i/n),\n",
    "                                      genre_field_name: \"action, drama\",\n",
    "                                      title_field_name: \"spiderman\"})\n",
    "        \n",
    "def delete_data(client: Redis):\n",
    "    client.flushall()\n",
    "    \n",
    "def print_results(res):\n",
    "    docs = [int(doc.id) for doc in res.docs]\n",
    "    dists = [float(doc.dist) if hasattr(doc, 'dist') else '-' for doc in res.docs]\n",
    "    print(f\"got {len(docs)} doc ids: \", docs)\n",
    "    print(\"\\ndistances: \", dists)\n",
    "        "
   ]
  },
  {
   "cell_type": "markdown",
   "id": "223d4a22-41bd-44cb-9c6f-02c16c07d5f2",
   "metadata": {},
   "source": [
    "### Create HNSW index with meta-data"
   ]
  },
  {
   "cell_type": "markdown",
   "id": "f09d6fe4",
   "metadata": {},
   "source": [
    "#### Every document in the index represent a movie review. The vector field is a text embedding of the review, while the other fields are some of the movie review metadata."
   ]
  },
  {
   "cell_type": "code",
   "execution_count": 12,
   "id": "3266495a-d2e1-450a-9590-959b368f013c",
   "metadata": {},
   "outputs": [
    {
     "name": "stdout",
     "output_type": "stream",
     "text": [
      "index size:  10000\n"
     ]
    }
   ],
   "source": [
    "# build HNSW index\n",
    "delete_data(redis_conn)\n",
    "\n",
    "schema = (VectorField(vector_field_name, \"HNSW\", {\"TYPE\": \"FLOAT64\", \"DIM\": dim, \"DISTANCE_METRIC\": \"L2\"}),\n",
    "          NumericField(rating_field_name), TagField(genre_field_name), TextField(title_field_name))\n",
    "redis_conn.ft().create_index(schema)\n",
    "redis_conn.ft().config_set(\"default_dialect\", 2)\n",
    "\n",
    "# load vectors with meta-data\n",
    "np.random.seed(42)\n",
    "load_docs(redis_conn, n_vec, dim)\n",
    "\n",
    "print(\"index size: \", redis_conn.ft().info()['num_docs'])\n",
    "\n",
    "query_vector = np.random.rand(1, dim).astype(np.float64)"
   ]
  },
  {
   "cell_type": "markdown",
   "id": "fce99677",
   "metadata": {},
   "source": [
    "## Hybrid queries examples"
   ]
  },
  {
   "cell_type": "code",
   "execution_count": 15,
   "id": "1722a6c0",
   "metadata": {},
   "outputs": [
    {
     "name": "stdout",
     "output_type": "stream",
     "text": [
      "got 10 doc ids:  [8770, 9386, 83, 5126, 9572, 3492, 6268, 3949, 4437, 1057]\n",
      "\n",
      "distances:  [13.346961015, 14.5484484676, 14.7082952384, 14.7560760961, 14.8371418493, 14.9124708649, 15.2173650941, 15.3307324484, 15.3791827069, 15.488778035]\n"
     ]
    }
   ],
   "source": [
    "# Give me the top 10 reviews on action movies similar to mine\n",
    "\n",
    "q = Query(f'(@{genre_field_name}:{{action}})=>[KNN 10 @{vector_field_name} $vec_param AS dist]').sort_by('dist')\n",
    "res = redis_conn.ft().search(q, query_params = {'vec_param': query_vector.tobytes()})\n",
    "\n",
    "print_results(res)"
   ]
  },
  {
   "cell_type": "code",
   "execution_count": 17,
   "id": "d2f48df5",
   "metadata": {},
   "outputs": [
    {
     "name": "stdout",
     "output_type": "stream",
     "text": [
      "got 10 doc ids:  [5126, 6268, 5390, 5085, 6741, 6251, 5239, 5487, 5194, 5595]\n",
      "\n",
      "distances:  [14.7560760961, 15.2173650941, 15.7935849617, 15.8196561477, 15.8495724098, 15.8533288875, 16.0165456443, 16.0417755318, 16.0750138339, 16.2356399735]\n"
     ]
    }
   ],
   "source": [
    "# Give me the top 10 reviews on action movies similar to mine that got ratings between 5 and 7.\n",
    "# (ids 5000-7000)\n",
    "\n",
    "q = Query(f'(@{genre_field_name}:{{action}} @{rating_field_name}:[5 7])=>[KNN 10 @{vector_field_name} $vec_param AS dist]').sort_by('dist')\n",
    "res = redis_conn.ft().search(q, query_params = {'vec_param': query_vector.tobytes()})\n",
    "\n",
    "print_results(res)"
   ]
  },
  {
   "cell_type": "code",
   "execution_count": 19,
   "id": "b2284b3b",
   "metadata": {},
   "outputs": [
    {
     "name": "stdout",
     "output_type": "stream",
     "text": [
      "got 10 doc ids:  [5390, 5085, 5595, 6695, 6285, 5765, 6595, 5795, 5790, 5550]\n",
      "\n",
      "distances:  [15.7935849617, 15.8196561477, 16.2356399735, 16.4198694829, 16.4199152798, 16.4874357724, 16.59035834, 16.657459116, 16.6816978817, 16.786226798]\n"
     ]
    }
   ],
   "source": [
    "# Give me the top 10 reviews on a Spiderman movie that are similar to mine and got ratings between 5 and 7.\n",
    "#(ids 5000-7000 divided by 5)\n",
    "\n",
    "q = Query(f'(@{title_field_name}:spiderman @{rating_field_name}:[5 7])=>[KNN 10 @{vector_field_name} $vec_param AS dist]').sort_by('dist')\n",
    "res = redis_conn.ft().search(q, query_params = {'vec_param': query_vector.tobytes()})\n",
    "\n",
    "print_results(res)"
   ]
  },
  {
   "cell_type": "code",
   "execution_count": 21,
   "id": "fb3dce42",
   "metadata": {},
   "outputs": [
    {
     "name": "stdout",
     "output_type": "stream",
     "text": [
      "got 10 doc ids:  [9386, 83, 5126, 9572, 3492, 6268, 3949, 4437, 1057, 557]\n",
      "\n",
      "distances:  [14.5484484676, 14.7082952384, 14.7560760961, 14.8371418493, 14.9124708649, 15.2173650941, 15.3307324484, 15.3791827069, 15.488778035, 15.4977867241]\n"
     ]
    }
   ],
   "source": [
    "# Give me the top 10 reviews on movies that aren't Spiderman that are similar to mine.\n",
    "#(all ids which are not divided by 5)\n",
    "\n",
    "q = Query(f'(@{genre_field_name}:{{action}} -@{title_field_name}:spider*)=>[KNN 10 @{vector_field_name} $vec_param AS dist]').sort_by('dist')\n",
    "res = redis_conn.ft().search(q, query_params = {'vec_param': query_vector.tobytes()})\n",
    "\n",
    "print_results(res)"
   ]
  },
  {
   "cell_type": "code",
   "execution_count": 23,
   "id": "ac5f2e13",
   "metadata": {},
   "outputs": [
    {
     "name": "stdout",
     "output_type": "stream",
     "text": [
      "got 10 doc ids:  [8770, 9386, 9572, 8400, 9396, 3655, 9526, 9353, 5390, 5085]\n",
      "\n",
      "distances:  [13.346961015, 14.5484484676, 14.8371418493, 15.4953163405, 15.6169647311, 15.6970910686, 15.722931204, 15.7777110313, 15.7935849617, 15.8196561477]\n"
     ]
    }
   ],
   "source": [
    "# Give me the top 10 reviews on a \"spiderman\" movie or movies with at least a 9 rating.\n",
    "#(ids which are divided by 5 or above 9000)\n",
    "\n",
    "q = Query(f'((@{title_field_name}:spiderman) | (@{rating_field_name}:[9 inf]))=>[KNN 10 @{vector_field_name} $vec_param AS dist]').sort_by('dist')\n",
    "res = redis_conn.ft().search(q, query_params = {'vec_param': query_vector.tobytes()})\n",
    "\n",
    "print_results(res)"
   ]
  }
 ],
 "metadata": {
  "kernelspec": {
   "display_name": "Python 3 (ipykernel)",
   "language": "python",
   "name": "python3"
  },
  "language_info": {
   "codemirror_mode": {
    "name": "ipython",
    "version": 3
   },
   "file_extension": ".py",
   "mimetype": "text/x-python",
   "name": "python",
   "nbconvert_exporter": "python",
   "pygments_lexer": "ipython3",
   "version": "3.8.10"
  }
 },
 "nbformat": 4,
 "nbformat_minor": 5
}
