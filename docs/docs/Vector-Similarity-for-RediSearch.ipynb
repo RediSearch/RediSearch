{
 "cells": [
  {
   "cell_type": "markdown",
   "id": "cbba56a9",
   "metadata": {},
   "source": [
    "# Vector Similarity for RediSearch\n",
    "\n",
    "RediSearch vector similiarity capabilities are:\n",
    "1. Realtime vector indexing\n",
    "2. Realtime vector update\n",
    "3. Realtime vector deletion\n",
    "4. K nearest neighbors query\n",
    "\n",
    "## Indexing capabilities\n",
    "RediSearch supports two types of vector indexing methods. It also supports three types of vector distance metrics:\n",
    "\n",
    "### Index algorithms\n",
    "1. Brute force (Flat Index)\n",
    "2. HNSW (Hierarchical Navigable Small World)\n",
    "\n",
    "### Distance metrics\n",
    "1. L2 - Euclidean distance between two vectors\n",
    "2. IP - Internal product of two vectors\n",
    "3. COSINE - Cosine similarity of two vectors"
   ]
  },
  {
   "cell_type": "markdown",
   "id": "ac6e5a20",
   "metadata": {},
   "source": [
    "## Creating an index\n",
    "In order to create a vector index, the index creation command `FT.CREATE` should be invoked over the vector field name with the new reserved word `VECTOR`\n",
    "\n",
    "Command format:\n",
    "```\n",
    "FT.CREATE <index_name> SCHEMA <vector field name> VECTOR <type> <num params> [<algorithm parameter name> <parameter value> ...]\n",
    "```\n",
    "### Mandatory parameters\n",
    "Parameters should be given to the index build command in the following order\n",
    "* type - vector data type -  - Currently only `FLOAT32` is supported\n",
    "* dimension - vector dimension.\n",
    "* distance metric - either `L2` for euclidean distance, `IP` for internal product or `COSINE` for cosine similarity should be provided. Note, when `COSINE` is selected the indexed vectors will be normalized upon indexing, and the query vector will be normalized upon query.\n",
    "* Indexing algorithm - either `FLAT` for brute force or `HNSW` for HNSW indexing algorithm\n",
    "\n",
    "### Brute force (Flat index)\n",
    "With this index, users compare a vector to all other vectors before returning top k most similar vectors.\n",
    "Similarity is based on the distance metric.\n",
    "\n",
    "* **Mandatory parameters**\n",
    "\n",
    "    * **TYPE** - \n",
    "        Vector type. Current supported type is `FLOAT32`.\n",
    "    \n",
    "    * **DIM** - \n",
    "        Vector dimension. should be positive integer.\n",
    "    \n",
    "    * **DISTANCE_METRIC** - \n",
    "        Supported distance metrics. Currently one of **{`L2`, `IP`, `COSINE`}**\n",
    "\n",
    "* **Optional parameters**\n",
    "\n",
    "    * **INITIAL_CAP** - \n",
    "        Initial vector capacity in the index. Effects memory allocation size of the index.\n",
    "\n",
    "    * **BLOCK_SIZE** - \n",
    "        block size to hold `BLOCK_SIZE` amount of vectors in a contiguous array.\n",
    "        This is useful when the index is dynamic with respect to addition and deletion.\n",
    "        Defaults to 1048576 (1024*1024).\n",
    "\n",
    "* Example\n",
    "\n",
    "    ```\n",
    "    FT.CREATE my_index1 \n",
    "    SCHEMA vector_field VECTOR \n",
    "    FLAT \n",
    "    10 \n",
    "    TYPE FLOAT32 \n",
    "    DIM 128 \n",
    "    DISTANCE_METRIC L2 \n",
    "    INITIAL_CAP 1000000 \n",
    "    BLOCK_SIZE 1000\n",
    "    ```\n",
    "\n",
    "### HNSW\n",
    "This index algorithm is a modified version of [nmslib/hnswlib](https://github.com/nmslib/hnswlib) which is the author's implementation of [Efficient and robust approximate nearest neighbor search using Hierarchical Navigable Small World graphs](https://arxiv.org/ftp/arxiv/papers/1603/1603.09320.pdf)\n",
    "\n",
    "* **Mandatory parameters**\n",
    "\n",
    "    * **TYPE** - \n",
    "        Vector type. Current supported type is `FLOAT32`.\n",
    "    \n",
    "    * **DIM** - \n",
    "        Vector dimension. should be positive integer.\n",
    "    \n",
    "    * **DISTANCE_METRIC** - \n",
    "        Supported distance metrics. Currently one of **{`L2`, `IP`, `COSINE`}**\n",
    "\n",
    "* **Optional parameters**\n",
    "\n",
    "    * **INITIAL_CAP** - \n",
    "        Initial vector capacity in the index. Effects memory allocation size of the index.\n",
    "\n",
    "    * **M** - \n",
    "        Number the maximal allowed outgoing edges for each node in the graph. Defaults to 16.\n",
    "\n",
    "    * **EF_CONSTRUCTION** - \n",
    "        Number the maximal allowed potential outgoing edges candidates for each node in the graph, during the graph building. Defaults to 200.\n",
    "\n",
    "    * **EF_RUNTIME** - \n",
    "        Number the maximal allowed potential candidates during the KNN query. Defaults to 10.\n",
    "\n",
    "* Example\n",
    "\n",
    "    ```\n",
    "    FT.CREATE my_index2 \n",
    "    SCHEMA vector_field VECTOR \n",
    "    HNSW \n",
    "    14 \n",
    "    TYPE FLOAT32 \n",
    "    DIM 128 \n",
    "    DISTANCE_METRIC L2 \n",
    "    INITIAL_CAP 1000000 \n",
    "    M 40 \n",
    "    EF_CONSTRUCTION 250 \n",
    "    EF_RUNTIME 20\n",
    "    ```"
   ]
  },
  {
   "cell_type": "markdown",
   "id": "64ea03db",
   "metadata": {},
   "source": [
    "## Query\n",
    "In order to execute KNN vector query the search command `FT.SEARCH` should be invoked with the vector blob as a parameter\n",
    "\n",
    "Command format:\n",
    "```\n",
    "FT.SEARCH <index name> \"*=>[KNN <k> @my_vector_field $<vector blob parameter name> ]\" SORTBY <vector field name>_score PARAMS 2 <vector blob parameter name> <vector blob>\n",
    "```\n",
    "```\n",
    "FT.SEARCH <index name> \"*=>[KNN <k> @my_vector_field $<vector blob parameter name> AS <score field name> ]\" SORTBY <score field name> PARAMS 2 <vector blob parameter name> <vector blob>\n",
    "```\n",
    "\n",
    "### Query tuning parameters\n",
    "#### HNSW\n",
    "* `EF_RUNTIME` - Maximum number of potential candidates to collect while querying the graph, from whom the K nearest neighbors are selected. `EF_RUNTIME` should be greater or equal to `K`\n",
    "\n",
    "An example for 10 nearest neighbors query over HNSW indexed dataset with `EF_RUNTIME` equals 150:\n",
    "\n",
    "```\n",
    "FT.SEARCH my_hnsw_index \"*=>[KNN 10 @my_vector_field $vec EF_RUNTIME 150]\" SORTBY __my_vector_field_score LIMIT 0 10 PARAMS 2 vec <vector blob>\n",
    "```"
   ]
  },
  {
   "cell_type": "markdown",
   "id": "323aec7f",
   "metadata": {},
   "source": [
    "## Python examples"
   ]
  },
  {
   "cell_type": "markdown",
   "id": "19bdc2a5-2192-4f5f-bd6e-7c956fd0e230",
   "metadata": {},
   "source": [
    "### Packages"
   ]
  },
  {
   "cell_type": "code",
   "execution_count": null,
   "id": "4dbaf749",
   "metadata": {},
   "outputs": [],
   "source": [
    "!pip install git+https://github.com/RediSearch/redisearch-py.git@params\n",
    "!pip install numpy"
   ]
  },
  {
   "cell_type": "code",
   "execution_count": null,
   "id": "09a8f030",
   "metadata": {},
   "outputs": [],
   "source": [
    "import numpy as np\n",
    "from redis import Redis\n",
    "import redisearch"
   ]
  },
  {
   "cell_type": "markdown",
   "id": "f8c6ef53",
   "metadata": {},
   "source": [
    "Create redis client"
   ]
  },
  {
   "cell_type": "code",
   "execution_count": null,
   "id": "370c1fcc",
   "metadata": {},
   "outputs": [],
   "source": [
    "host = \"localhost\"\n",
    "port = 6379\n",
    "\n",
    "redis_conn = Redis(host = host, port = port)"
   ]
  },
  {
   "cell_type": "code",
   "execution_count": null,
   "id": "06c421de-00ee-42c5-8487-b46acd02950a",
   "metadata": {},
   "outputs": [],
   "source": [
    "n_vec = 10000\n",
    "dim = 128\n",
    "M = 40\n",
    "EF = 200\n",
    "vector_field_name = \"vector\"\n",
    "k = 10\n",
    "hnsw_EFRUNTIME = 10"
   ]
  },
  {
   "cell_type": "code",
   "execution_count": null,
   "id": "da997470-4e8d-4d94-9c90-5aa009415699",
   "metadata": {},
   "outputs": [],
   "source": [
    "def load_vectors(client : Redis, n, d,  field_name):\n",
    "    for i in range(n):\n",
    "        np_vector = np.random.rand(1, d).astype(np.float32)\n",
    "        client.hset(i, field_name, np_vector.tobytes())\n",
    "        \n",
    "def delete_data(client: Redis):\n",
    "    client.flushall()\n",
    "        "
   ]
  },
  {
   "cell_type": "markdown",
   "id": "1da8d1ed",
   "metadata": {},
   "source": [
    "### Brute Force"
   ]
  },
  {
   "cell_type": "code",
   "execution_count": null,
   "id": "b915282d-eeb9-44e8-a180-14b1c3ddba14",
   "metadata": {},
   "outputs": [],
   "source": [
    "# build index\n",
    "bf_index = redisearch.Client(\"my_flat_index\", conn=redis_conn)\n",
    "bf_index.redis.execute_command(\"FT.CREATE\", \"my_flat_index\", \"SCHEMA\", vector_field_name, \"VECTOR\", \"FLAT\", \"8\", \"TYPE\", \"FLOAT32\", \"DIM\", dim, \"DISTANCE_METRIC\", \"L2\", \"INITIAL_CAP\", n_vec)\n",
    "#load vectors\n",
    "load_vectors(bf_index.redis, n_vec, dim, vector_field_name)\n",
    "#query\n",
    "query_vector =  np.random.rand(1, dim).astype(np.float32)\n",
    "q = redisearch.Query(f'*=>[KNN {k} @{vector_field_name} $vec_param]').sort_by(f'{vector_field_name}_score').paging(0,k).return_field(f'{vector_field_name}_score')\n",
    "res = bf_index.search(q, query_params = {'vec_param': query_vector.tobytes()})\n",
    "docs = [int(doc.id) for doc in res.docs]\n",
    "rs_dists = [float(doc.vector_score) for doc in res.docs]\n",
    "print(docs)\n",
    "print(rs_dists)\n",
    "#cleanup\n",
    "delete_data(bf_index.redis)"
   ]
  },
  {
   "cell_type": "markdown",
   "id": "223d4a22-41bd-44cb-9c6f-02c16c07d5f2",
   "metadata": {},
   "source": [
    "### HNSW"
   ]
  },
  {
   "cell_type": "code",
   "execution_count": null,
   "id": "3266495a-d2e1-450a-9590-959b368f013c",
   "metadata": {},
   "outputs": [],
   "source": [
    "# build index\n",
    "hnsw_index = redisearch.Client(\"my_hnsw_index\", conn=redis_conn)\n",
    "hnsw_index.redis.execute_command(\"FT.CREATE\", \"my_hnsw_index\", \"SCHEMA\", vector_field_name, \"VECTOR\", \"HNSW\", \"12\", \"TYPE\", \"FLOAT32\", \"DIM\", dim, \"DISTANCE_METRIC\", \"L2\", \"INITIAL_CAP\", n_vec, \"M\", M, \"EF_CONSTRUCTION\", EF)\n",
    "#load vectors\n",
    "load_vectors(hnsw_index.redis, n_vec, dim, vector_field_name)\n",
    "#query\n",
    "query_vector =  np.random.rand(1, dim).astype(np.float32)\n",
    "q = redisearch.Query(f'*=>[KNN {k} @{vector_field_name} $vec_param EF_RUNTIME {hnsw_EFRUNTIME}]').sort_by(f'{vector_field_name}_score').paging(0,k).return_field(f'{vector_field_name}_score')\n",
    "res = hnsw_index.search(q, query_params = {'vec_param': query_vector.tobytes()})\n",
    "docs = [int(doc.id) for doc in res.docs]\n",
    "rs_dists = [float(doc.vector_score) for doc in res.docs]\n",
    "print(docs)\n",
    "print(rs_dists)\n",
    "#cleanup\n",
    "delete_data(hnsw_index.redis)"
   ]
  }
 ],
 "metadata": {
  "kernelspec": {
   "display_name": "Python 3 (ipykernel)",
   "language": "python",
   "name": "python3"
  },
  "language_info": {
   "codemirror_mode": {
    "name": "ipython",
    "version": 2
   },
   "file_extension": ".py",
   "mimetype": "text/x-python",
   "name": "python",
   "nbconvert_exporter": "python",
   "pygments_lexer": "ipython2",
   "version": "3.8.10"
  }
 },
 "nbformat": 4,
 "nbformat_minor": 5
}
