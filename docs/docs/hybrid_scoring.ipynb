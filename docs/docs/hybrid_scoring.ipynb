{
 "cells": [
  {
   "cell_type": "code",
   "execution_count": null,
   "metadata": {},
   "outputs": [],
   "source": [
    "%pip install numpy redis"
   ]
  },
  {
   "cell_type": "code",
   "execution_count": null,
   "metadata": {},
   "outputs": [],
   "source": [
    "import numpy as np\n",
    "from redis import Redis\n",
    "from redis.commands.search.field import VectorField, TagField, NumericField, TextField\n",
    "from redis.commands.search.aggregation import AggregateResult, AggregateRequest"
   ]
  },
  {
   "cell_type": "code",
   "execution_count": null,
   "metadata": {},
   "outputs": [],
   "source": [
    "host = \"localhost\"\n",
    "port = 6379\n",
    "\n",
    "redis_conn = Redis(host = host, port = port)"
   ]
  },
  {
   "cell_type": "code",
   "execution_count": null,
   "metadata": {},
   "outputs": [],
   "source": [
    "# Index fields and configurations\n",
    "\n",
    "n_vec = 10000\n",
    "dim = 128\n",
    "M = 40\n",
    "EF = 200\n",
    "vector_field_name = \"vector\"\n",
    "title_field_name = \"title\"\n",
    "genre_field_name = \"genre\"\n",
    "rating_field_name = \"rating\"\n",
    "k = 10"
   ]
  },
  {
   "cell_type": "code",
   "execution_count": null,
   "metadata": {},
   "outputs": [],
   "source": [
    "def load_docs(client : Redis, n, d):\n",
    "    for i in range(1, n+1):\n",
    "        np_vector = np.random.rand(1, d).astype(np.float16)\n",
    "        if i%5 != 0:\n",
    "            client.hset(i, mapping = {vector_field_name: np_vector.tobytes(),\n",
    "                                      rating_field_name: 10*(i/n),  # ratings ranges from 0-10, proportional the doc id\n",
    "                                      genre_field_name: \"action\",\n",
    "                                      title_field_name: \"matrix\"})\n",
    "        else:\n",
    "            client.hset(i, mapping = {vector_field_name: np_vector.tobytes(),\n",
    "                                      rating_field_name: 10*(i/n),\n",
    "                                      genre_field_name: \"action, drama\",\n",
    "                                      title_field_name: \"spiderman\"})\n",
    "\n",
    "def delete_data(client: Redis):\n",
    "    client.flushall()\n",
    "\n",
    "def print_results(res):\n",
    "    docs = [int(doc.id) for doc in res.docs]\n",
    "    dists = [float(doc.dist) if hasattr(doc, 'dist') else '-' for doc in res.docs]\n",
    "    print(f\"got {len(docs)} doc ids: \", docs)\n",
    "    print(\"\\ndistances: \", dists)\n"
   ]
  },
  {
   "cell_type": "code",
   "execution_count": null,
   "metadata": {},
   "outputs": [],
   "source": [
    "# build HNSW index\n",
    "delete_data(redis_conn)\n",
    "\n",
    "schema = (VectorField(vector_field_name, \"HNSW\", {\"TYPE\": \"FLOAT16\", \"DIM\": dim, \"DISTANCE_METRIC\": \"COSINE\"}),\n",
    "          NumericField(rating_field_name), TagField(genre_field_name), TextField(title_field_name))\n",
    "redis_conn.ft().create_index(schema)\n",
    "redis_conn.ft().config_set(\"default_dialect\", 2)\n",
    "\n",
    "# load vectors with meta-data\n",
    "np.random.seed(42)\n",
    "load_docs(redis_conn, n_vec, dim)\n",
    "\n",
    "print(\"index size: \", redis_conn.ft().info()['num_docs'])\n",
    "\n",
    "query_vector = np.random.rand(1, dim).astype(np.float16)"
   ]
  },
  {
   "cell_type": "code",
   "execution_count": null,
   "metadata": {},
   "outputs": [],
   "source": [
    "# Give me the top 10 reviews on action movies similar to mine\n",
    "filter_query = 'matrix|spiderman'\n",
    "multiplier = 100\n",
    "vector_weight = 0.7\n",
    "text_weight = 1 - vector_weight\n",
    "\n",
    "q = [f'({filter_query})=>[KNN {k*multiplier} @{vector_field_name} $vec_param AS dist]']\n",
    "q += ['ADDSCORES']\n",
    "q += ['APPLY', f'(2 - @dist) * {vector_weight} + @tfidf * {text_weight}', 'AS', 'score']\n",
    "q += ['SORTBY', 2, '@score', 'DESC', 'MAX', k]\n",
    "q += ['PARAMS', 2, 'vec_param', query_vector.tobytes()]\n",
    "\n",
    "res = redis_conn.execute_command('FT.AGGREGATE', 'idx', *q)\n",
    "\n",
    "print(res)"
   ]
  }
 ],
 "metadata": {
  "kernelspec": {
   "display_name": "venv",
   "language": "python",
   "name": "python3"
  },
  "language_info": {
   "codemirror_mode": {
    "name": "ipython",
    "version": 3
   },
   "file_extension": ".py",
   "mimetype": "text/x-python",
   "name": "python",
   "nbconvert_exporter": "python",
   "pygments_lexer": "ipython3",
   "version": "3.12.3"
  }
 },
 "nbformat": 4,
 "nbformat_minor": 2
}
