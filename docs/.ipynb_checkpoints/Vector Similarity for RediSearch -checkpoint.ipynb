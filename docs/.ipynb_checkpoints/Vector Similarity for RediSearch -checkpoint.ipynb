{
 "cells": [
  {
   "cell_type": "markdown",
   "id": "cbba56a9",
   "metadata": {},
   "source": [
    "# Vector Similarity for RediSearch\n",
    "\n",
    "This file contains the different capabilities RediSearch offers in the private preview build.\n",
    "RediSearch vector similiarity capabilities are:\n",
    "1. Realtime vector indexing\n",
    "2. Realtime vector update\n",
    "3. Realtime vector deletion\n",
    "4. TOP-K query\n",
    "\n",
    "## Indexing capabilities\n",
    "In private preview build there are two types of indexing methods supported and three types of distance metrics:\n",
    "\n",
    "### Index algorithms\n",
    "1. Brute force (Flat Index)\n",
    "2. HNSW (Hierarchical Navigable Small World)\n",
    "\n",
    "### Distance metrics\n",
    "1. L2 - Euclidean distance between two vectors\n",
    "2. IP - Internal product of two vectors\n",
    "3. COSINE - Cosine similarity of two vectors"
   ]
  },
  {
   "cell_type": "markdown",
   "id": "ac6e5a20",
   "metadata": {},
   "source": [
    "## Creating an index\n",
    "In order to create a vector index, the index creation command `FT.CREATE` should be invoked over the vector field name with the new reserved word `VECTOR`\n",
    "\n",
    "Command format:\n",
    "```\n",
    "FT.CREATE <index_name> SCHEMA <vector field name> VECTOR <type> <dimension> <distance metric> <index algorithm> <algorithm parameters>\n",
    "```\n",
    "### General indexing mandatory parameters\n",
    "Parameters should be given to the index build command in the following order\n",
    "* type - vector data type -  - Currently only `FLOAT32` is supported\n",
    "* dimension - vector dimension.\n",
    "* distance metric - either `L2` for euclidean distance, `IP` for internal product or `COSINE` for cosine similarity should be provided. Note, when `COSINE` is selected the indexed vectors will be normalized upon indexing, and the query vector will be normalized upon query.\n",
    "* Indexing algorithm - either `BF` for brute force or `HNSW` for HNSW indexing algorithm\n",
    "\n",
    "### Brute force (Flat index)\n",
    "This index compares the entire indexed vector data to the query vector and returns the top-k similar vectors, according to the given distance metric.\n",
    "\n",
    "#### Index specific parameters\n",
    "* `INITIAL_CAP` - initial index capacity (number of vectors). This will make the index pre-allocate space for the intended vector, so no additional allocations will happen while indexing (Optimization)\n",
    "\n",
    "An example for creating a brute force index, with initial capacity of 1 million vectors of 128 float, using L2 distance metric\n",
    "\n",
    "```\n",
    "FT.CREATE my_flat_index SCHEMA my_vector_field VECTOR FLOAT32 128 L2 BF INITIAL_CAP 1000000\n",
    "```\n",
    "\n",
    "### HNSW\n",
    "This index algorithm is a modified version of [nmslib/hnswlib](https://github.com/nmslib/hnswlib) which is the author's implementation of [Efficient and robust approximate nearest neighbor search using Hierarchical Navigable Small World graphs](https://arxiv.org/ftp/arxiv/papers/1603/1603.09320.pdf)\n",
    "\n",
    "#### Index specific parameters\n",
    "* `INITIAL_CAP` - initial index capacity (number of vectors). This will make the index pre-allocate space for the intended vector, so no additional allocations will happen while indexing (Optimization)\n",
    "* `M` - maximum number of outbound connections in the graph.\n",
    "* `EF` -  Maximum number of potential candidates to connect while building the graph.\n",
    "\n",
    "An example for creating HNSW index, with initial capacity of 1 million vectors of 128 float, using L2 distance metric, `ef` is 200 and `M` is 40\n",
    "\n",
    "```\n",
    "FT.CREATE my_hnsw_index SCHEMA my_vector_field VECTOR FLOAT32 128 L2 HNSW INITIAL_CAP 1000000 M 40 EF 200\n",
    "```"
   ]
  },
  {
   "cell_type": "markdown",
   "id": "64ea03db",
   "metadata": {},
   "source": [
    "## Query\n",
    "In order to execute top-k vector query the search command `FT.SEARCH` should be invoked with the vector blob as a parameter\n",
    "\n",
    "Command format:\n",
    "```\n",
    "FT.SEARCH <index name> \"@<vector field name>:[$<vector blob parameter name> TOPK <k>]\" RETURN 1 <vector field name>_score SORTBY <vector field name>_score LIMIT 0 <k>  PARAMS 2 <vector blob parameter name> <vector blob>\n",
    "```\n",
    "\n",
    "### Query tuning parameters\n",
    "#### HNSW\n",
    "* `EFRUNTIME` - Maximum number of potential top-k candidates to collect while querying the graph. `EFRUNTIME` should be greater or equal to `K`\n",
    "\n",
    "An example for top-10 query over HNSW indexed dataset with `EFRUNTIME` equals 150\n",
    "\n",
    "```\n",
    "FT.SEARCH my_hnsw_index \"@my_vector_field:[$vec TOPK 10] => {$EFRUNTIME:150}\" RETURN 1 my_vector_field_score SORTBY my_vector_field_score LIMIT 0 10 PARAMS 2 vec <vector blob>\n",
    "```"
   ]
  },
  {
   "cell_type": "markdown",
   "id": "323aec7f",
   "metadata": {},
   "source": [
    "## Python examples"
   ]
  },
  {
   "cell_type": "markdown",
   "id": "19bdc2a5-2192-4f5f-bd6e-7c956fd0e230",
   "metadata": {},
   "source": [
    "### Packages"
   ]
  },
  {
   "cell_type": "code",
   "execution_count": null,
   "metadata": {},
   "outputs": [],
   "source": [
    "!pip install git+https://github.com/RediSearch/redisearch-py.git@params\n",
    "!pip install numpy"
   ]
  },
  {
   "cell_type": "code",
   "execution_count": 4,
   "id": "09a8f030",
   "metadata": {},
   "outputs": [],
   "source": [
    "import numpy as np\n",
    "from redis import Redis\n",
    "import redisearch"
   ]
  },
  {
   "cell_type": "markdown",
   "metadata": {},
   "source": [
    "Create Redis Client"
   ]
  },
  {
   "cell_type": "code",
   "execution_count": null,
   "metadata": {},
   "outputs": [],
   "source": [
    "host = \"localhost\"\n",
    "port = 6379\n",
    "\n",
    "redis_conn = Redis(host = host, port = port)"
   ]
  },
  {
   "cell_type": "code",
   "execution_count": 8,
   "id": "06c421de-00ee-42c5-8487-b46acd02950a",
   "metadata": {},
   "outputs": [],
   "source": [
    "n_vec = 1000000\n",
    "dim = 128\n",
    "M = 40\n",
    "EF = 200\n",
    "vector_field_name = \"vector\"\n",
    "k = 10"
   ]
  },
  {
   "cell_type": "code",
   "execution_count": null,
   "id": "da997470-4e8d-4d94-9c90-5aa009415699",
   "metadata": {},
   "outputs": [],
   "source": [
    "def load_vectors(client : Redis, n, d,  field_name):\n",
    "    for i in range(n):\n",
    "        np_vector = np.random.rand(1, d).astype(np.float32)\n",
    "        client.hset(i, field_name, np_vector.tobytes())\n",
    "        \n",
    "def delete_data(client: Redis):\n",
    "    client.flushall()\n",
    "        "
   ]
  },
  {
   "cell_type": "markdown",
   "id": "1da8d1ed",
   "metadata": {},
   "source": [
    "### Brute Force"
   ]
  },
  {
   "cell_type": "code",
   "execution_count": 7,
   "id": "b915282d-eeb9-44e8-a180-14b1c3ddba14",
   "metadata": {},
   "outputs": [],
   "source": [
    "# build index\n",
    "bf_index = redisearch.Client(\"my_flat_index\", conn=rredis_conn)\n",
    "bf_index.redis.execute_command(\"FT.CREATE\", \"my_flat_index\", \"SCEHMA\", vector_field_name, \"VECTOR\", \"FLOAT32\", dim, \"L2\", \"BF\", \"INITIAL_CAP\", n_vec)\n",
    "#load vectors\n",
    "load_vectors(bf_index.redis, n_vec, d, vector_field_name)\n",
    "#query\n",
    "query_vector =  np.random.rand(1, d).astype(np.float32)\n",
    "q = redisearch.Query(f'@{vector_field_name}:[$vec_param TOPK {k}]').sort_by(f'{vector_field_name}_score').paging(0,k).return_field(f'{vector_field_name}_score')\n",
    "res = redisearch.search(q, query_params = {'vec_param': query_vector.tobytes()})\n",
    "docs = [int(doc.id) for doc in res.docs]\n",
    "rs_dists = [float(doc.vector_score) for doc in res.docs]\n",
    "print(docs)\n",
    "print(rs_dists)\n",
    "#cleanup\n",
    "delete_data(bf_index.redis)"
   ]
  },
  {
   "cell_type": "markdown",
   "id": "223d4a22-41bd-44cb-9c6f-02c16c07d5f2",
   "metadata": {},
   "source": [
    "### HNSW"
   ]
  },
  {
   "cell_type": "code",
   "execution_count": 9,
   "id": "3266495a-d2e1-450a-9590-959b368f013c",
   "metadata": {},
   "outputs": [
    {
     "ename": "ConnectionError",
     "evalue": "Error 111 connecting to localhost:6379. Connection refused.",
     "output_type": "error",
     "traceback": [
      "\u001b[0;31m---------------------------------------------------------------------------\u001b[0m",
      "\u001b[0;31mConnectionRefusedError\u001b[0m                    Traceback (most recent call last)",
      "\u001b[0;32m~/Code/RediSearch/venv/lib/python3.8/site-packages/redis/connection.py\u001b[0m in \u001b[0;36mconnect\u001b[0;34m(self)\u001b[0m\n\u001b[1;32m    558\u001b[0m         \u001b[0;32mtry\u001b[0m\u001b[0;34m:\u001b[0m\u001b[0;34m\u001b[0m\u001b[0;34m\u001b[0m\u001b[0m\n\u001b[0;32m--> 559\u001b[0;31m             \u001b[0msock\u001b[0m \u001b[0;34m=\u001b[0m \u001b[0mself\u001b[0m\u001b[0;34m.\u001b[0m\u001b[0m_connect\u001b[0m\u001b[0;34m(\u001b[0m\u001b[0;34m)\u001b[0m\u001b[0;34m\u001b[0m\u001b[0;34m\u001b[0m\u001b[0m\n\u001b[0m\u001b[1;32m    560\u001b[0m         \u001b[0;32mexcept\u001b[0m \u001b[0msocket\u001b[0m\u001b[0;34m.\u001b[0m\u001b[0mtimeout\u001b[0m\u001b[0;34m:\u001b[0m\u001b[0;34m\u001b[0m\u001b[0;34m\u001b[0m\u001b[0m\n",
      "\u001b[0;32m~/Code/RediSearch/venv/lib/python3.8/site-packages/redis/connection.py\u001b[0m in \u001b[0;36m_connect\u001b[0;34m(self)\u001b[0m\n\u001b[1;32m    614\u001b[0m         \u001b[0;32mif\u001b[0m \u001b[0merr\u001b[0m \u001b[0;32mis\u001b[0m \u001b[0;32mnot\u001b[0m \u001b[0;32mNone\u001b[0m\u001b[0;34m:\u001b[0m\u001b[0;34m\u001b[0m\u001b[0;34m\u001b[0m\u001b[0m\n\u001b[0;32m--> 615\u001b[0;31m             \u001b[0;32mraise\u001b[0m \u001b[0merr\u001b[0m\u001b[0;34m\u001b[0m\u001b[0;34m\u001b[0m\u001b[0m\n\u001b[0m\u001b[1;32m    616\u001b[0m         \u001b[0;32mraise\u001b[0m \u001b[0msocket\u001b[0m\u001b[0;34m.\u001b[0m\u001b[0merror\u001b[0m\u001b[0;34m(\u001b[0m\u001b[0;34m\"socket.getaddrinfo returned an empty list\"\u001b[0m\u001b[0;34m)\u001b[0m\u001b[0;34m\u001b[0m\u001b[0;34m\u001b[0m\u001b[0m\n",
      "\u001b[0;32m~/Code/RediSearch/venv/lib/python3.8/site-packages/redis/connection.py\u001b[0m in \u001b[0;36m_connect\u001b[0;34m(self)\u001b[0m\n\u001b[1;32m    602\u001b[0m                 \u001b[0;31m# connect\u001b[0m\u001b[0;34m\u001b[0m\u001b[0;34m\u001b[0m\u001b[0;34m\u001b[0m\u001b[0m\n\u001b[0;32m--> 603\u001b[0;31m                 \u001b[0msock\u001b[0m\u001b[0;34m.\u001b[0m\u001b[0mconnect\u001b[0m\u001b[0;34m(\u001b[0m\u001b[0msocket_address\u001b[0m\u001b[0;34m)\u001b[0m\u001b[0;34m\u001b[0m\u001b[0;34m\u001b[0m\u001b[0m\n\u001b[0m\u001b[1;32m    604\u001b[0m \u001b[0;34m\u001b[0m\u001b[0m\n",
      "\u001b[0;31mConnectionRefusedError\u001b[0m: [Errno 111] Connection refused",
      "\nDuring handling of the above exception, another exception occurred:\n",
      "\u001b[0;31mConnectionError\u001b[0m                           Traceback (most recent call last)",
      "\u001b[0;32m/tmp/ipykernel_7961/4285031495.py\u001b[0m in \u001b[0;36m<module>\u001b[0;34m\u001b[0m\n\u001b[1;32m      1\u001b[0m \u001b[0mhnsw_index\u001b[0m \u001b[0;34m=\u001b[0m \u001b[0mredisearch\u001b[0m\u001b[0;34m.\u001b[0m\u001b[0mClient\u001b[0m\u001b[0;34m(\u001b[0m\u001b[0;34m\"my_hnsw_index\"\u001b[0m\u001b[0;34m)\u001b[0m\u001b[0;34m\u001b[0m\u001b[0;34m\u001b[0m\u001b[0m\n\u001b[0;32m----> 2\u001b[0;31m \u001b[0mbf_index\u001b[0m\u001b[0;34m.\u001b[0m\u001b[0mredis\u001b[0m\u001b[0;34m.\u001b[0m\u001b[0mexecute_command\u001b[0m\u001b[0;34m(\u001b[0m\u001b[0;34m\"FT.CREATE\"\u001b[0m\u001b[0;34m,\u001b[0m \u001b[0;34m\"my_hnsw_index\"\u001b[0m\u001b[0;34m,\u001b[0m \u001b[0;34m\"SCEHMA\"\u001b[0m\u001b[0;34m,\u001b[0m \u001b[0mvector_field_name\u001b[0m\u001b[0;34m,\u001b[0m \u001b[0;34m\"VECTOR\"\u001b[0m\u001b[0;34m,\u001b[0m \u001b[0;34m\"FLOAT32\"\u001b[0m\u001b[0;34m,\u001b[0m \u001b[0mdim\u001b[0m\u001b[0;34m,\u001b[0m \u001b[0;34m\"L2\"\u001b[0m\u001b[0;34m,\u001b[0m \u001b[0;34m\"HNSW\"\u001b[0m\u001b[0;34m)\u001b[0m\u001b[0;34m\u001b[0m\u001b[0;34m\u001b[0m\u001b[0m\n\u001b[0m",
      "\u001b[0;32m~/Code/RediSearch/venv/lib/python3.8/site-packages/redis/client.py\u001b[0m in \u001b[0;36mexecute_command\u001b[0;34m(self, *args, **options)\u001b[0m\n\u001b[1;32m    896\u001b[0m         \u001b[0mpool\u001b[0m \u001b[0;34m=\u001b[0m \u001b[0mself\u001b[0m\u001b[0;34m.\u001b[0m\u001b[0mconnection_pool\u001b[0m\u001b[0;34m\u001b[0m\u001b[0;34m\u001b[0m\u001b[0m\n\u001b[1;32m    897\u001b[0m         \u001b[0mcommand_name\u001b[0m \u001b[0;34m=\u001b[0m \u001b[0margs\u001b[0m\u001b[0;34m[\u001b[0m\u001b[0;36m0\u001b[0m\u001b[0;34m]\u001b[0m\u001b[0;34m\u001b[0m\u001b[0;34m\u001b[0m\u001b[0m\n\u001b[0;32m--> 898\u001b[0;31m         \u001b[0mconn\u001b[0m \u001b[0;34m=\u001b[0m \u001b[0mself\u001b[0m\u001b[0;34m.\u001b[0m\u001b[0mconnection\u001b[0m \u001b[0;32mor\u001b[0m \u001b[0mpool\u001b[0m\u001b[0;34m.\u001b[0m\u001b[0mget_connection\u001b[0m\u001b[0;34m(\u001b[0m\u001b[0mcommand_name\u001b[0m\u001b[0;34m,\u001b[0m \u001b[0;34m**\u001b[0m\u001b[0moptions\u001b[0m\u001b[0;34m)\u001b[0m\u001b[0;34m\u001b[0m\u001b[0;34m\u001b[0m\u001b[0m\n\u001b[0m\u001b[1;32m    899\u001b[0m         \u001b[0;32mtry\u001b[0m\u001b[0;34m:\u001b[0m\u001b[0;34m\u001b[0m\u001b[0;34m\u001b[0m\u001b[0m\n\u001b[1;32m    900\u001b[0m             \u001b[0mconn\u001b[0m\u001b[0;34m.\u001b[0m\u001b[0msend_command\u001b[0m\u001b[0;34m(\u001b[0m\u001b[0;34m*\u001b[0m\u001b[0margs\u001b[0m\u001b[0;34m)\u001b[0m\u001b[0;34m\u001b[0m\u001b[0;34m\u001b[0m\u001b[0m\n",
      "\u001b[0;32m~/Code/RediSearch/venv/lib/python3.8/site-packages/redis/connection.py\u001b[0m in \u001b[0;36mget_connection\u001b[0;34m(self, command_name, *keys, **options)\u001b[0m\n\u001b[1;32m   1190\u001b[0m         \u001b[0;32mtry\u001b[0m\u001b[0;34m:\u001b[0m\u001b[0;34m\u001b[0m\u001b[0;34m\u001b[0m\u001b[0m\n\u001b[1;32m   1191\u001b[0m             \u001b[0;31m# ensure this connection is connected to Redis\u001b[0m\u001b[0;34m\u001b[0m\u001b[0;34m\u001b[0m\u001b[0;34m\u001b[0m\u001b[0m\n\u001b[0;32m-> 1192\u001b[0;31m             \u001b[0mconnection\u001b[0m\u001b[0;34m.\u001b[0m\u001b[0mconnect\u001b[0m\u001b[0;34m(\u001b[0m\u001b[0;34m)\u001b[0m\u001b[0;34m\u001b[0m\u001b[0;34m\u001b[0m\u001b[0m\n\u001b[0m\u001b[1;32m   1193\u001b[0m             \u001b[0;31m# connections that the pool provides should be ready to send\u001b[0m\u001b[0;34m\u001b[0m\u001b[0;34m\u001b[0m\u001b[0;34m\u001b[0m\u001b[0m\n\u001b[1;32m   1194\u001b[0m             \u001b[0;31m# a command. if not, the connection was either returned to the\u001b[0m\u001b[0;34m\u001b[0m\u001b[0;34m\u001b[0m\u001b[0;34m\u001b[0m\u001b[0m\n",
      "\u001b[0;32m~/Code/RediSearch/venv/lib/python3.8/site-packages/redis/connection.py\u001b[0m in \u001b[0;36mconnect\u001b[0;34m(self)\u001b[0m\n\u001b[1;32m    561\u001b[0m             \u001b[0;32mraise\u001b[0m \u001b[0mTimeoutError\u001b[0m\u001b[0;34m(\u001b[0m\u001b[0;34m\"Timeout connecting to server\"\u001b[0m\u001b[0;34m)\u001b[0m\u001b[0;34m\u001b[0m\u001b[0;34m\u001b[0m\u001b[0m\n\u001b[1;32m    562\u001b[0m         \u001b[0;32mexcept\u001b[0m \u001b[0msocket\u001b[0m\u001b[0;34m.\u001b[0m\u001b[0merror\u001b[0m \u001b[0;32mas\u001b[0m \u001b[0me\u001b[0m\u001b[0;34m:\u001b[0m\u001b[0;34m\u001b[0m\u001b[0;34m\u001b[0m\u001b[0m\n\u001b[0;32m--> 563\u001b[0;31m             \u001b[0;32mraise\u001b[0m \u001b[0mConnectionError\u001b[0m\u001b[0;34m(\u001b[0m\u001b[0mself\u001b[0m\u001b[0;34m.\u001b[0m\u001b[0m_error_message\u001b[0m\u001b[0;34m(\u001b[0m\u001b[0me\u001b[0m\u001b[0;34m)\u001b[0m\u001b[0;34m)\u001b[0m\u001b[0;34m\u001b[0m\u001b[0;34m\u001b[0m\u001b[0m\n\u001b[0m\u001b[1;32m    564\u001b[0m \u001b[0;34m\u001b[0m\u001b[0m\n\u001b[1;32m    565\u001b[0m         \u001b[0mself\u001b[0m\u001b[0;34m.\u001b[0m\u001b[0m_sock\u001b[0m \u001b[0;34m=\u001b[0m \u001b[0msock\u001b[0m\u001b[0;34m\u001b[0m\u001b[0;34m\u001b[0m\u001b[0m\n",
      "\u001b[0;31mConnectionError\u001b[0m: Error 111 connecting to localhost:6379. Connection refused."
     ]
    }
   ],
   "source": [
    "# build index\n",
    "hnsw_index = redisearch.Client(\"my_hnsw_index\")\n",
    "hnsw_index.redis.execute_command(\"FT.CREATE\", \"my_hnsw_index\", \"SCEHMA\", vector_field_name, \"VECTOR\", \"FLOAT32\", dim, \"L2\", \"HNSW\", \"INITIAL_CAP\", n_vec, \"M\", M, \"EF\", EF)\n",
    "#load vectors\n",
    "load_vectors(hnsw_index.redis, n_vec, d, vector_field_name)\n",
    "#query\n",
    "query_vector =  np.random.rand(1, d).astype(np.float32)\n",
    "q = redisearch.Query(f'@{vector_field_name}:[$vec_param TOPK {k}]  => {{$EFRUNTIME : {hnsw_EFRUNTIME}}}').sort_by(f'{vector_field_name}_score').paging(0,k).return_field(f'{vector_field_name}_score')\n",
    "res = redisearch.search(q, query_params = {'vec_param': query_vector.tobytes()})\n",
    "docs = [int(doc.id) for doc in res.docs]\n",
    "rs_dists = [float(doc.vector_score) for doc in res.docs]\n",
    "print(docs)\n",
    "print(rs_dists)\n",
    "print(results)\n",
    "#cleanup\n",
    "delete_data(hnsw_index.redis)"
   ]
  }
 ],
 "metadata": {
  "kernelspec": {
   "display_name": "Python 3 (ipykernel)",
   "language": "python",
   "name": "python3"
  },
  "language_info": {
   "codemirror_mode": {
    "name": "ipython",
    "version": 3
   },
   "file_extension": ".py",
   "mimetype": "text/x-python",
   "name": "python",
   "nbconvert_exporter": "python",
   "pygments_lexer": "ipython3",
   "version": "3.8.10"
  }
 },
 "nbformat": 4,
 "nbformat_minor": 5
}
