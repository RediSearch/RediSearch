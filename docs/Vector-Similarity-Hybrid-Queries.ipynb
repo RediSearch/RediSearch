{
 "cells": [
  {
   "cell_type": "markdown",
   "id": "cbba56a9",
   "metadata": {},
   "source": [
    "# Vector Similarity for RediSearch - Hybrid queries\n"
   ]
  },
  {
   "cell_type": "markdown",
   "id": "323aec7f",
   "metadata": {},
   "source": [
    "## Python examples"
   ]
  },
  {
   "cell_type": "markdown",
   "id": "19bdc2a5-2192-4f5f-bd6e-7c956fd0e230",
   "metadata": {},
   "source": [
    "### Packages"
   ]
  },
  {
   "cell_type": "code",
   "execution_count": 96,
   "id": "4dbaf749",
   "metadata": {},
   "outputs": [
    {
     "name": "stdout",
     "output_type": "stream",
     "text": [
      "Collecting git+https://github.com/redis/redis-py.git@master\n",
      "  Cloning https://github.com/redis/redis-py.git (to revision master) to /tmp/pip-req-build-mdsmy453\n",
      "  Running command git clone --filter=blob:none --quiet https://github.com/redis/redis-py.git /tmp/pip-req-build-mdsmy453\n",
      "  Resolved https://github.com/redis/redis-py.git to commit afc83e11146a9cb4f7fdeedc3b7fec7e1fe2953c\n",
      "  Preparing metadata (setup.py) ... \u001b[?25ldone\n",
      "\u001b[?25hRequirement already satisfied: deprecated>=1.2.3 in /home/alon/anaconda3/envs/vsim/lib/python3.8/site-packages (from redis==4.2.0rc1) (1.2.13)\n",
      "Requirement already satisfied: packaging>=20.4 in /home/alon/.local/lib/python3.8/site-packages (from redis==4.2.0rc1) (20.9)\n",
      "Requirement already satisfied: typing-extensions in /home/alon/anaconda3/envs/vsim/lib/python3.8/site-packages (from redis==4.2.0rc1) (3.10.0.2)\n",
      "Requirement already satisfied: async-timeout>=4.0.2 in /home/alon/anaconda3/envs/vsim/lib/python3.8/site-packages (from redis==4.2.0rc1) (4.0.2)\n",
      "Requirement already satisfied: wrapt<2,>=1.10 in /home/alon/anaconda3/envs/vsim/lib/python3.8/site-packages (from deprecated>=1.2.3->redis==4.2.0rc1) (1.13.2)\n",
      "Requirement already satisfied: pyparsing>=2.0.2 in /home/alon/anaconda3/envs/vsim/lib/python3.8/site-packages (from packaging>=20.4->redis==4.2.0rc1) (2.4.7)\n",
      "Requirement already satisfied: numpy in /home/alon/.local/lib/python3.8/site-packages (1.21.4)\n"
     ]
    }
   ],
   "source": [
    "!pip install git+https://github.com/redis/redis-py.git@master\n",
    "!pip install numpy"
   ]
  },
  {
   "cell_type": "code",
   "execution_count": 2,
   "id": "09a8f030",
   "metadata": {},
   "outputs": [],
   "source": [
    "import numpy as np\n",
    "from redis import Redis\n",
    "import redisearch"
   ]
  },
  {
   "cell_type": "markdown",
   "id": "f8c6ef53",
   "metadata": {},
   "source": [
    "### Create redis client"
   ]
  },
  {
   "cell_type": "code",
   "execution_count": 9,
   "id": "370c1fcc",
   "metadata": {},
   "outputs": [],
   "source": [
    "host = \"localhost\"\n",
    "port = 6379\n",
    "\n",
    "redis_conn = Redis(host = host, port = port)"
   ]
  },
  {
   "cell_type": "code",
   "execution_count": 10,
   "id": "06c421de-00ee-42c5-8487-b46acd02950a",
   "metadata": {},
   "outputs": [],
   "source": [
    "n_vec = 10000\n",
    "dim = 4\n",
    "M = 20\n",
    "EF = 100\n",
    "vector_field_name = \"vector\"\n",
    "title_field_name = \"title\"\n",
    "genre_field_name = \"genre\"\n",
    "rating_field_name = \"rating\"\n",
    "k = 10"
   ]
  },
  {
   "cell_type": "code",
   "execution_count": 11,
   "id": "da997470-4e8d-4d94-9c90-5aa009415699",
   "metadata": {},
   "outputs": [],
   "source": [
    "def load_vectors(client : Redis, n, d,  field_name):\n",
    "    for i in range(1, n+1):\n",
    "        np.random.seed(10)\n",
    "        np_vector = np.float32(np.random.rand(1, d))\n",
    "        if i%5 != 0:\n",
    "            client.hset(i, mapping = {vector_field_name: np_vector.tobytes(),\n",
    "                                      rating_field_name: 10*(i/n),\n",
    "                                      genre_field_name: \"action\",\n",
    "                                      title_field_name: \"matrix\"})\n",
    "        else:\n",
    "            client.hset(i, mapping = {vector_field_name: np_vector.tobytes(),\n",
    "                                      rating_field_name: 10*(i/n),\n",
    "                                      genre_field_name: \"action, drama\",\n",
    "                                      title_field_name: \"spiderman\"})\n",
    "        \n",
    "def delete_data(client: Redis):\n",
    "    client.flushall()\n",
    "        "
   ]
  },
  {
   "cell_type": "markdown",
   "id": "223d4a22-41bd-44cb-9c6f-02c16c07d5f2",
   "metadata": {},
   "source": [
    "### Create HNSW index with meta-data"
   ]
  },
  {
   "cell_type": "code",
   "execution_count": 12,
   "id": "3266495a-d2e1-450a-9590-959b368f013c",
   "metadata": {},
   "outputs": [
    {
     "name": "stdout",
     "output_type": "stream",
     "text": [
      "index size:  10000\n"
     ]
    }
   ],
   "source": [
    "# build index\n",
    "hnsw_index = redisearch.Client(\"my_hnsw_index\", conn=redis_conn)\n",
    "delete_data(redis_conn)\n",
    "np.random.seed(10)\n",
    "hnsw_index.redis.execute_command('FT.CREATE', \"my_hnsw_index\", 'SCHEMA',\n",
    "                                 vector_field_name, 'VECTOR', 'HNSW', '8', 'TYPE', 'FLOAT32', 'DIM', dim, 'DISTANCE_METRIC', 'L2', 'EF_RUNTIME', EF,\n",
    "                                 rating_field_name, 'NUMERIC',title_field_name, 'TEXT', genre_field_name, 'TAG')\n",
    "\n",
    "# hnsw_index.redis.execute_command('FT.CREATE', \"my_hnsw_index\", 'SCHEMA',\n",
    "#                                  vector_field_name, 'VECTOR', 'FLAT', '6', 'TYPE', 'FLOAT32', 'DIM', dim, 'DISTANCE_METRIC', 'L2',\n",
    "#                                  rating_field_name, 'NUMERIC',title_field_name, 'TEXT', genre_field_name, 'TAG')\n",
    "#load vectors\n",
    "load_vectors(hnsw_index.redis, n_vec, dim, vector_field_name)\n",
    "\n",
    "print(\"index size: \", hnsw_index.info()['num_docs'])"
   ]
  },
  {
   "cell_type": "markdown",
   "id": "fce99677",
   "metadata": {},
   "source": [
    "## Hybrid queries examples"
   ]
  },
  {
   "cell_type": "code",
   "execution_count": 14,
   "id": "b2284b3b",
   "metadata": {},
   "outputs": [
    {
     "name": "stdout",
     "output_type": "stream",
     "text": [
      "time:  0.0014214515686035156\n",
      "[]\n"
     ]
    }
   ],
   "source": [
    "import time\n",
    "\n",
    "# Give me the top 10 reviews on spiderman movie that are similar to mine and got ratings between 5-7.\n",
    "#(ids 50000-70000 divided by 1000)\n",
    "\n",
    "query_vector = np.float32(np.random.rand(dim))\n",
    "q = redisearch.Query(f'(@{title_field_name}:spiderman @{rating_field_name}:[5 7])=>[TOP_K 10 @{vector_field_name} $vec_param]').sort_by(f'__{vector_field_name}_score')\n",
    "start = time.time()\n",
    "res = hnsw_index.search(q, query_params = {'vec_param': query_vector.tobytes()})\n",
    "print (\"time: \", time.time()-start)\n",
    "\n",
    "docs = [int(doc.id) for doc in res.docs]\n",
    "rs_dists = [float(doc.__vector_score) for doc in res.docs]\n",
    "print(docs)\n",
    "#print(rs_dists)"
   ]
  },
  {
   "cell_type": "code",
   "execution_count": null,
   "id": "fb3dce42",
   "metadata": {},
   "outputs": [],
   "source": [
    "# Give me the top 10 reviews on action movies which aren't spiderman that are similar to mine.\n",
    "\n",
    "q = redisearch.Query(f'(@{genre_field_name}:{{action}} -@{title_field_name}:spider*)=>[TOP_K 10 @{vector_field_name} $vec_param]').sort_by(f'__{vector_field_name}_score')\n",
    "res = hnsw_index.search(q, query_params = {'vec_param': query_vector.tobytes()})\n",
    "\n",
    "docs = [int(doc.id) for doc in res.docs]\n",
    "rs_dists = [float(doc.__vector_score) for doc in res.docs]\n",
    "print(docs)\n",
    "print(rs_dists)"
   ]
  }
 ],
 "metadata": {
  "kernelspec": {
   "display_name": "Python 3 (ipykernel)",
   "language": "python",
   "name": "python3"
  },
  "language_info": {
   "codemirror_mode": {
    "name": "ipython",
    "version": 3
   },
   "file_extension": ".py",
   "mimetype": "text/x-python",
   "name": "python",
   "nbconvert_exporter": "python",
   "pygments_lexer": "ipython3",
   "version": "3.8.12"
  }
 },
 "nbformat": 4,
 "nbformat_minor": 5
}
