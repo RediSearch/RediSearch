{
 "cells": [
  {
   "cell_type": "markdown",
   "id": "cbba56a9",
   "metadata": {},
   "source": [
    "# Vector Similarity for RediSearch - Hybrid queries\n"
   ]
  },
  {
   "cell_type": "markdown",
   "id": "323aec7f",
   "metadata": {},
   "source": [
    "## Python examples"
   ]
  },
  {
   "cell_type": "markdown",
   "id": "19bdc2a5-2192-4f5f-bd6e-7c956fd0e230",
   "metadata": {},
   "source": [
    "### Packages"
   ]
  },
  {
   "cell_type": "code",
   "execution_count": 147,
   "id": "4dbaf749",
   "metadata": {},
   "outputs": [
    {
     "name": "stdout",
     "output_type": "stream",
     "text": [
      "Collecting git+https://github.com/redis/redis-py.git@master\n",
      "  Cloning https://github.com/redis/redis-py.git (to revision master) to /tmp/pip-req-build-uo2rjptj\n",
      "  Running command git clone --filter=blob:none --quiet https://github.com/redis/redis-py.git /tmp/pip-req-build-uo2rjptj\n",
      "  Resolved https://github.com/redis/redis-py.git to commit e6ccc9ce52047c455d16abb87dd0ba8004347b75\n",
      "  Preparing metadata (setup.py) ... \u001b[?25ldone\n",
      "\u001b[?25hRequirement already satisfied: deprecated>=1.2.3 in /home/alon/anaconda3/envs/vsim/lib/python3.8/site-packages (from redis==4.1.2) (1.2.13)\n",
      "Requirement already satisfied: packaging>=20.4 in /home/alon/.local/lib/python3.8/site-packages (from redis==4.1.2) (20.9)\n",
      "Requirement already satisfied: wrapt<2,>=1.10 in /home/alon/anaconda3/envs/vsim/lib/python3.8/site-packages (from deprecated>=1.2.3->redis==4.1.2) (1.13.2)\n",
      "Requirement already satisfied: pyparsing>=2.0.2 in /home/alon/anaconda3/envs/vsim/lib/python3.8/site-packages (from packaging>=20.4->redis==4.1.2) (2.4.7)\n",
      "Requirement already satisfied: numpy in /home/alon/.local/lib/python3.8/site-packages (1.21.4)\n"
     ]
    }
   ],
   "source": [
    "!pip install git+https://github.com/redis/redis-py.git@master\n",
    "!pip install numpy"
   ]
  },
  {
   "cell_type": "code",
   "execution_count": 157,
   "id": "09a8f030",
   "metadata": {},
   "outputs": [],
   "source": [
    "import numpy as np\n",
    "from redis import Redis"
   ]
  },
  {
   "cell_type": "markdown",
   "id": "f8c6ef53",
   "metadata": {},
   "source": [
    "### Create redis client"
   ]
  },
  {
   "cell_type": "code",
   "execution_count": 177,
   "id": "370c1fcc",
   "metadata": {},
   "outputs": [],
   "source": [
    "host = \"localhost\"\n",
    "port = 6379\n",
    "\n",
    "redis_conn = Redis(host = host, port = port)"
   ]
  },
  {
   "cell_type": "code",
   "execution_count": 178,
   "id": "06c421de-00ee-42c5-8487-b46acd02950a",
   "metadata": {},
   "outputs": [],
   "source": [
    "# Index fields and configurations\n",
    "\n",
    "n_vec = 10000\n",
    "dim = 128\n",
    "M = 40\n",
    "EF = 200\n",
    "vector_field_name = \"vector\"\n",
    "title_field_name = \"title\"\n",
    "genre_field_name = \"genre\"\n",
    "rating_field_name = \"rating\"\n",
    "k = 10"
   ]
  },
  {
   "cell_type": "code",
   "execution_count": 179,
   "id": "da997470-4e8d-4d94-9c90-5aa009415699",
   "metadata": {},
   "outputs": [],
   "source": [
    "def load_vectors(client : Redis, n, d):\n",
    "    for i in range(1, n+1):\n",
    "        # np_vector = np.float32([i for j in range(dim)])\n",
    "        np_vector = np.random.rand(1, d).astype(np.float32)\n",
    "        if i%5 != 0:\n",
    "            client.hset(i, mapping = {vector_field_name: np_vector.tobytes(),\n",
    "                                      rating_field_name: 10*(i/n),  # ratings ranges from 0-10, sorted by the id\n",
    "                                      genre_field_name: \"action\",\n",
    "                                      title_field_name: \"matrix\"})\n",
    "        else:\n",
    "            client.hset(i, mapping = {vector_field_name: np_vector.tobytes(),\n",
    "                                      rating_field_name: 10*(i/n),\n",
    "                                      genre_field_name: \"action, drama\",\n",
    "                                      title_field_name: \"spiderman\"})\n",
    "        \n",
    "def delete_data(client: Redis):\n",
    "    client.flushall()\n",
    "        "
   ]
  },
  {
   "cell_type": "markdown",
   "id": "223d4a22-41bd-44cb-9c6f-02c16c07d5f2",
   "metadata": {},
   "source": [
    "### Create HNSW index with meta-data"
   ]
  },
  {
   "cell_type": "code",
   "execution_count": 180,
   "id": "3266495a-d2e1-450a-9590-959b368f013c",
   "metadata": {},
   "outputs": [
    {
     "name": "stdout",
     "output_type": "stream",
     "text": [
      "index size:  10000\n"
     ]
    }
   ],
   "source": [
    "# build index\n",
    "hnsw_index = redisearch.Client(\"my_hnsw_index\", conn=redis_conn)\n",
    "delete_data(redis_conn)\n",
    "hnsw_index.redis.execute_command('FT.CREATE', \"my_hnsw_index\", 'SCHEMA',\n",
    "                                 vector_field_name, 'VECTOR', 'HNSW', '8', 'TYPE', 'FLOAT32', 'DIM', dim, 'DISTANCE_METRIC', 'L2', 'EF_RUNTIME', EF,\n",
    "                                 rating_field_name, 'NUMERIC',title_field_name, 'TEXT', genre_field_name, 'TAG')\n",
    "\n",
    "#load vectors\n",
    "load_vectors(hnsw_index.redis, n_vec, dim)\n",
    "\n",
    "print(\"index size: \", hnsw_index.info()['num_docs'])"
   ]
  },
  {
   "cell_type": "markdown",
   "id": "fce99677",
   "metadata": {},
   "source": [
    "## Hybrid queries examples"
   ]
  },
  {
   "cell_type": "code",
   "execution_count": 170,
   "id": "1722a6c0",
   "metadata": {},
   "outputs": [
    {
     "name": "stdout",
     "output_type": "stream",
     "text": [
      "[8944, 2779, 7440, 1843, 4103, 7873, 7799, 3008, 6813, 4109]\n",
      "[13.7681503296, 13.9446144104, 14.7563505173, 14.8739566803, 14.9672689438, 14.97905159, 15.1214151382, 15.1551733017, 15.1591110229, 15.3667402267]\n"
     ]
    }
   ],
   "source": [
    "# Give me the top 10 reviews on action movies similar to mine\n",
    "query_vector = np.random.rand(1, dim).astype(np.float32)\n",
    "# query_vector = np.float32([n_vec for j in range(dim)])\n",
    "\n",
    "q = redisearch.Query(f'(@{genre_field_name}:{{action}})=>[TOP_K 10 @{vector_field_name} $vec_param]').sort_by(f'__{vector_field_name}_score')\n",
    "res = hnsw_index.search(q, query_params = {'vec_param': query_vector.tobytes()})\n",
    "\n",
    "docs = [int(doc.id) for doc in res.docs]\n",
    "rs_dists = [float(doc.__vector_score) for doc in res.docs]\n",
    "print(docs)\n",
    "print(rs_dists)"
   ]
  },
  {
   "cell_type": "code",
   "execution_count": 153,
   "id": "d2f48df5",
   "metadata": {},
   "outputs": [
    {
     "name": "stdout",
     "output_type": "stream",
     "text": [
      "[6054, 6517, 5649, 5665, 5583, 6673, 5538, 5164, 6324, 6036]\n",
      "[14.0194711685, 14.2707452774, 14.9074678421, 15.2483787537, 15.7517023087, 15.8709020615, 15.950252533, 16.0580673218, 16.0584373474, 16.0967102051]\n"
     ]
    }
   ],
   "source": [
    "# Give me the top 10 reviews on action movies similar to mine that got ratings between 5-7.\n",
    "# (ids 5000-7000)\n",
    "\n",
    "q = redisearch.Query(f'(@{genre_field_name}:{{action}} @{rating_field_name}:[5 7])=>[TOP_K 10 @{vector_field_name} $vec_param]').sort_by(f'__{vector_field_name}_score')\n",
    "res = hnsw_index.search(q, query_params = {'vec_param': query_vector.tobytes()})\n",
    "\n",
    "docs = [int(doc.id) for doc in res.docs]\n",
    "rs_dists = [float(doc.__vector_score) for doc in res.docs]\n",
    "print(docs)\n",
    "print(rs_dists)"
   ]
  },
  {
   "cell_type": "code",
   "execution_count": 154,
   "id": "b2284b3b",
   "metadata": {},
   "outputs": [
    {
     "name": "stdout",
     "output_type": "stream",
     "text": [
      "[5665, 6720, 5645, 5720, 5340, 6100, 5420, 5235, 5920, 6070]\n",
      "[15.2483787537, 15.606221199, 16.6438274384, 16.8816299438, 16.8886756897, 16.9691009521, 17.2650661469, 17.3032188416, 17.3862438202, 17.4056377411]\n"
     ]
    }
   ],
   "source": [
    "# Give me the top 10 reviews on spiderman movie that are similar to mine and got ratings between 5-7.\n",
    "#(ids 5000-7000 divided by 5)\n",
    "\n",
    "q = redisearch.Query(f'(@{title_field_name}:spiderman @{rating_field_name}:[5 7])=>[TOP_K 10 @{vector_field_name} $vec_param]').sort_by(f'__{vector_field_name}_score')\n",
    "res = hnsw_index.search(q, query_params = {'vec_param': query_vector.tobytes()})\n",
    "\n",
    "docs = [int(doc.id) for doc in res.docs]\n",
    "rs_dists = [float(doc.__vector_score) for doc in res.docs]\n",
    "print(docs)\n",
    "print(rs_dists)"
   ]
  },
  {
   "cell_type": "code",
   "execution_count": null,
   "id": "fb3dce42",
   "metadata": {},
   "outputs": [],
   "source": [
    "# Give me the top 10 reviews on movies which aren't spiderman that are similar to mine.\n",
    "#(all ids which are not divided by 5)\n",
    "\n",
    "q = redisearch.Query(f'(@{genre_field_name}:{{action}} -@{title_field_name}:spider*)=>[TOP_K 10 @{vector_field_name} $vec_param]').sort_by(f'__{vector_field_name}_score')\n",
    "res = hnsw_index.search(q, query_params = {'vec_param': query_vector.tobytes()})\n",
    "\n",
    "docs = [int(doc.id) for doc in res.docs]\n",
    "rs_dists = [float(doc.__vector_score) for doc in res.docs]\n",
    "print(docs)\n",
    "print(rs_dists)"
   ]
  },
  {
   "cell_type": "code",
   "execution_count": 156,
   "id": "ac5f2e13",
   "metadata": {},
   "outputs": [
    {
     "name": "stdout",
     "output_type": "stream",
     "text": [
      "[3210, 9683, 5665, 9711, 9188, 8355, 945, 3235, 4035, 9777]\n",
      "[14.840921402, 14.9987468719, 15.2483787537, 15.3038034439, 15.4180278778, 15.675069809, 15.932050705, 16.0958003998, 16.2555809021, 16.2901725769]\n"
     ]
    }
   ],
   "source": [
    "# Give me the top 10 reviews which are on \"spiderman\" movie, or movies with at least 9 rating.\n",
    "#(ids which are divided by 5 or above 9000)\n",
    "\n",
    "q = redisearch.Query(f'((@{title_field_name}:spiderman) | (@{rating_field_name}:[9 inf])=>[TOP_K 10 @{vector_field_name} $vec_param]').sort_by(f'__{vector_field_name}_score')\n",
    "res = hnsw_index.search(q, query_params = {'vec_param': query_vector.tobytes()})\n",
    "\n",
    "docs = [int(doc.id) for doc in res.docs]\n",
    "rs_dists = [float(doc.__vector_score) for doc in res.docs]\n",
    "print(docs)\n",
    "print(rs_dists)"
   ]
  }
 ],
 "metadata": {
  "kernelspec": {
   "display_name": "Python 3 (ipykernel)",
   "language": "python",
   "name": "python3"
  },
  "language_info": {
   "codemirror_mode": {
    "name": "ipython",
    "version": 3
   },
   "file_extension": ".py",
   "mimetype": "text/x-python",
   "name": "python",
   "nbconvert_exporter": "python",
   "pygments_lexer": "ipython3",
   "version": "3.8.12"
  }
 },
 "nbformat": 4,
 "nbformat_minor": 5
}
